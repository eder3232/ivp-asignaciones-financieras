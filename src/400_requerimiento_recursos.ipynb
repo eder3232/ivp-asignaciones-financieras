{
 "cells": [
  {
   "cell_type": "markdown",
   "id": "0fd331f3",
   "metadata": {},
   "source": [
    "# Requerimiento de recursos"
   ]
  },
  {
   "cell_type": "markdown",
   "id": "82a4c0a8",
   "metadata": {},
   "source": [
    "## Librerias necesarias"
   ]
  },
  {
   "cell_type": "code",
   "execution_count": 127,
   "id": "6cf02340",
   "metadata": {},
   "outputs": [],
   "source": [
    "import pandas as pd\n",
    "import os\n",
    "import pickle\n",
    "import xlsxwriter\n",
    "from xlsxwriter.utility import xl_range, xl_rowcol_to_cell\n",
    "import re\n",
    "from typing import Dict, List, Any\n",
    "import itertools\n",
    "from firebase_admin import credentials, firestore\n",
    "import excel2img\n",
    "from openpyxl import load_workbook\n",
    "from openpyxl.utils import get_column_letter\n",
    "import os\n",
    "from pathlib import Path\n",
    "from dotenv import load_dotenv, find_dotenv\n",
    "from google.oauth2 import service_account\n",
    "from google.cloud import firestore\n",
    "import json\n",
    "from datetime import date, timedelta\n",
    "import calendar\n",
    "import locale\n",
    "import math\n",
    "import random\n",
    "from typing import List, Dict, Optional\n",
    "from jinja2 import Template, Environment\n",
    "from xhtml2pdf import pisa\n",
    "import locale, calendar"
   ]
  },
  {
   "cell_type": "code",
   "execution_count": 128,
   "id": "a837a66e",
   "metadata": {},
   "outputs": [
    {
     "data": {
      "text/plain": [
       "'es_PE.UTF-8'"
      ]
     },
     "execution_count": 128,
     "metadata": {},
     "output_type": "execute_result"
    }
   ],
   "source": [
    "locale.setlocale(locale.LC_TIME, 'es_PE.UTF-8')  "
   ]
  },
  {
   "cell_type": "markdown",
   "id": "4991c636",
   "metadata": {},
   "source": [
    "## Datos del proyecto en análisis"
   ]
  },
  {
   "cell_type": "code",
   "execution_count": 129,
   "id": "ef690fff",
   "metadata": {},
   "outputs": [],
   "source": [
    "proyecto=\"sibayo\"\n",
    "mes=4\n",
    "anio=2025"
   ]
  },
  {
   "cell_type": "code",
   "execution_count": 130,
   "id": "15b1fa1d",
   "metadata": {},
   "outputs": [],
   "source": [
    "mes_recursos_solicitados=mes+1"
   ]
  },
  {
   "cell_type": "markdown",
   "id": "6fd7846e",
   "metadata": {},
   "source": [
    "## Datos de Firestore"
   ]
  },
  {
   "cell_type": "code",
   "execution_count": 131,
   "id": "22a2fa69",
   "metadata": {},
   "outputs": [
    {
     "name": "stdout",
     "output_type": "stream",
     "text": [
      "Colecciones disponibles: ['rutinarios']\n"
     ]
    }
   ],
   "source": [
    "## Datos de # 1. Busca el .env en el directorio actual o en cualquiera de los padres\n",
    "dotenv_path = find_dotenv()\n",
    "if not dotenv_path:\n",
    "    raise FileNotFoundError(\"No se encontró ningún archivo .env en este directorio ni en sus padres.\")\n",
    "load_dotenv(dotenv_path)\n",
    "\n",
    "# 2. Define el root del proyecto como la carpeta que contiene el .env\n",
    "project_root = Path(dotenv_path).parent\n",
    "\n",
    "# 3. Obtén la ruta relativa de las credenciales desde la variable de entorno\n",
    "rel_cred_path = os.getenv(\"FIRESTORE_CREDENTIALS\")\n",
    "if not rel_cred_path:\n",
    "    raise RuntimeError(\"No existe la variable FIRESTORE_CREDENTIALS en el .env\")\n",
    "\n",
    "# 4. Construye la ruta absoluta al JSON\n",
    "cred_path = Path(rel_cred_path)\n",
    "if not cred_path.is_absolute():\n",
    "    cred_path = (project_root / cred_path).resolve()\n",
    "\n",
    "if not cred_path.exists():\n",
    "    raise FileNotFoundError(f\"No existe el archivo de credenciales en: {cred_path}\")\n",
    "\n",
    "# 5. Carga las credenciales y crea el cliente de Firestore\n",
    "credentials = service_account.Credentials.from_service_account_file(str(cred_path))\n",
    "client = firestore.Client(credentials=credentials, project=credentials.project_id)\n",
    "\n",
    "# 6. Prueba que funcione\n",
    "print(\"Colecciones disponibles:\", [c.id for c in client.collections()])"
   ]
  },
  {
   "cell_type": "code",
   "execution_count": 132,
   "id": "3e3ab9fa",
   "metadata": {},
   "outputs": [],
   "source": [
    "db=firestore.Client(credentials=credentials, project=credentials.project_id)"
   ]
  },
  {
   "cell_type": "code",
   "execution_count": 133,
   "id": "cc997860",
   "metadata": {},
   "outputs": [
    {
     "name": "stdout",
     "output_type": "stream",
     "text": [
      "{'cronograma_desembolsos': {'10': {'mantenimiento_sin_igv': 3535.78, 'gastos_operativos': 431.19, 'mantenimiento_con_igv': 4311.93, 'mantenimiento_con_go': 4743.12, 'igv': 776.15}, '9': {'mantenimiento_sin_igv': 3421.72, 'gastos_operativos': 417.28, 'mantenimiento_con_igv': 4172.83, 'mantenimiento_con_go': 4590.11, 'igv': 751.11}, '6': {'mantenimiento_sin_igv': 40013.59, 'gastos_operativos': 4879.71, 'mantenimiento_con_igv': 48797.06, 'mantenimiento_con_go': 53676.77, 'igv': 8783.47}, '5': {'mantenimiento_sin_igv': 40127.65, 'gastos_operativos': 4893.62, 'mantenimiento_con_igv': 48936.16, 'mantenimiento_con_go': 53829.78, 'igv': 8808.51}, '7': {'mantenimiento_sin_igv': 38385.18, 'gastos_operativos': 4681.12, 'mantenimiento_con_igv': 46811.2, 'mantenimiento_con_go': 51492.32, 'igv': 8426.02}, '12': {'mantenimiento_sin_igv': 1140.58, 'gastos_operativos': 139.09, 'mantenimiento_con_igv': 1390.95, 'mantenimiento_con_go': 1530.05, 'igv': 250.37}, '4': {'mantenimiento_sin_igv': 1824.92, 'gastos_operativos': 222.55, 'mantenimiento_con_igv': 2225.51, 'mantenimiento_con_go': 2448.06, 'igv': 400.59}, '8': {'mantenimiento_sin_igv': 3535.78, 'gastos_operativos': 431.19, 'mantenimiento_con_igv': 4311.93, 'mantenimiento_con_go': 4743.12, 'igv': 776.15}, '11': {'mantenimiento_sin_igv': 3421.72, 'gastos_operativos': 417.28, 'mantenimiento_con_igv': 4172.83, 'mantenimiento_con_go': 4590.11, 'igv': 751.11}}}\n"
     ]
    }
   ],
   "source": [
    "# 4. Define la ruta a tu documento anidado\n",
    "colec_raiz = \"rutinarios\"\n",
    "doc_proyecto = proyecto     # puede ser tu variable proyecto\n",
    "colec_valoriz = \"presupuestos\"\n",
    "id_valoriz = \"desembolsos\"  \n",
    "\n",
    "doc_ref = (\n",
    "    db\n",
    "    .collection(colec_raiz)\n",
    "    .document(doc_proyecto)\n",
    "    .collection(colec_valoriz)\n",
    "    .document(id_valoriz)\n",
    ")\n",
    "\n",
    "data_mantenimiento_snapshot=doc_ref.get()\n",
    "\n",
    "if not data_mantenimiento_snapshot.exists:\n",
    "    print(f\"El documento {doc_ref.path} no existe.\")\n",
    "\n",
    "data_mantenimiento= data_mantenimiento_snapshot.to_dict()\n",
    "print(data_mantenimiento)"
   ]
  },
  {
   "cell_type": "code",
   "execution_count": 134,
   "id": "67f8a489",
   "metadata": {},
   "outputs": [
    {
     "name": "stdout",
     "output_type": "stream",
     "text": [
      "Cronograma de desembolsos: {'10': {'mantenimiento_sin_igv': 3535.78, 'gastos_operativos': 431.19, 'mantenimiento_con_igv': 4311.93, 'mantenimiento_con_go': 4743.12, 'igv': 776.15}, '9': {'mantenimiento_sin_igv': 3421.72, 'gastos_operativos': 417.28, 'mantenimiento_con_igv': 4172.83, 'mantenimiento_con_go': 4590.11, 'igv': 751.11}, '6': {'mantenimiento_sin_igv': 40013.59, 'gastos_operativos': 4879.71, 'mantenimiento_con_igv': 48797.06, 'mantenimiento_con_go': 53676.77, 'igv': 8783.47}, '5': {'mantenimiento_sin_igv': 40127.65, 'gastos_operativos': 4893.62, 'mantenimiento_con_igv': 48936.16, 'mantenimiento_con_go': 53829.78, 'igv': 8808.51}, '7': {'mantenimiento_sin_igv': 38385.18, 'gastos_operativos': 4681.12, 'mantenimiento_con_igv': 46811.2, 'mantenimiento_con_go': 51492.32, 'igv': 8426.02}, '12': {'mantenimiento_sin_igv': 1140.58, 'gastos_operativos': 139.09, 'mantenimiento_con_igv': 1390.95, 'mantenimiento_con_go': 1530.05, 'igv': 250.37}, '4': {'mantenimiento_sin_igv': 1824.92, 'gastos_operativos': 222.55, 'mantenimiento_con_igv': 2225.51, 'mantenimiento_con_go': 2448.06, 'igv': 400.59}, '8': {'mantenimiento_sin_igv': 3535.78, 'gastos_operativos': 431.19, 'mantenimiento_con_igv': 4311.93, 'mantenimiento_con_go': 4743.12, 'igv': 776.15}, '11': {'mantenimiento_sin_igv': 3421.72, 'gastos_operativos': 417.28, 'mantenimiento_con_igv': 4172.83, 'mantenimiento_con_go': 4590.11, 'igv': 751.11}}\n"
     ]
    }
   ],
   "source": [
    "cronograma_desembolsos = data_mantenimiento.get(\"cronograma_desembolsos\", {})\n",
    "if not cronograma_desembolsos:\n",
    "    print(\"No se encontraron datos de cronograma de desembolsos.\")\n",
    "print(\"Cronograma de desembolsos:\", cronograma_desembolsos)"
   ]
  },
  {
   "cell_type": "code",
   "execution_count": 135,
   "id": "e02d9d0f",
   "metadata": {},
   "outputs": [
    {
     "name": "stdout",
     "output_type": "stream",
     "text": [
      "Costo de mantenimiento para el mes 5: {'mantenimiento_sin_igv': 40127.65, 'gastos_operativos': 4893.62, 'mantenimiento_con_igv': 48936.16, 'mantenimiento_con_go': 53829.78, 'igv': 8808.51}\n"
     ]
    }
   ],
   "source": [
    "cronograma_desembolsos_current= cronograma_desembolsos.get(str(mes_recursos_solicitados), {})\n",
    "if not cronograma_desembolsos_current:\n",
    "    print(f\"No se encontraron datos de costos para el mes {mes_recursos_solicitados}.\")\n",
    "print(f\"Costo de mantenimiento para el mes {mes_recursos_solicitados}:\", cronograma_desembolsos_current)"
   ]
  },
  {
   "cell_type": "code",
   "execution_count": 136,
   "id": "8972b407",
   "metadata": {},
   "outputs": [
    {
     "name": "stdout",
     "output_type": "stream",
     "text": [
      "Costo de mantenimiento rutinario: 48936.16\n",
      "Costo de gastos operativos: 4893.62\n",
      "Costo total de mantenimiento: 53829.78\n"
     ]
    }
   ],
   "source": [
    "costo_mantenimiento_rutinario=cronograma_desembolsos_current['mantenimiento_con_igv']\n",
    "costo_gastos_operativos=cronograma_desembolsos_current['gastos_operativos']\n",
    "costo_total_mantenimiento=cronograma_desembolsos_current['mantenimiento_con_go']\n",
    "print(f\"Costo de mantenimiento rutinario: {costo_mantenimiento_rutinario}\")\n",
    "print(f\"Costo de gastos operativos: {costo_gastos_operativos}\")\n",
    "print(f\"Costo total de mantenimiento: {costo_total_mantenimiento}\")"
   ]
  },
  {
   "cell_type": "code",
   "execution_count": 137,
   "id": "1120f31c",
   "metadata": {},
   "outputs": [
    {
     "name": "stdout",
     "output_type": "stream",
     "text": [
      "{'otros': {'tipo_superficie': 'Asfaltado', 'estado_conservacion_via': 'regular'}, 'expediente': {'codigo_ruta': 'AR-683', 'monto_total': 206413.0, 'coordenadas': {'fin': {'hemisferio': 'S', 'y': 8270075.15, 'progresiva': 32252.0, 'zona_letra': None, 'x': 220383.97, 'datum': 'WGS84', 'altitud': 3629, 'zona': None}, 'inicio': {'hemisferio': 'S', 'y': 8281146.79, 'progresiva': 0, 'zona_letra': None, 'x': 226316.6, 'datum': 'WGS84', 'altitud': 3820, 'zona': None}}, 'nombre': 'MANTENIMIENTO VIAL RUTINARIO CAMINO VECINAL EMP. AR-111 (NUEVO SIBAYO) - TUTI - EMP.AR-681 (DV. CHIVAY), DISTRITOS DE CHIVAY, TUTI Y SIBAYO, PROVINCIA DE CAYLLOMA, DEPARTAMENTO DE AREQUIPA', 'tarifa_km_mes': 800, 'longitud': 32252.0}, 'other': {'tipo_superficie': 'Asfaltado', 'estado_conservacion_via': 'regular'}, 'datos_generales': {'distritos': ['Chivay', 'Tuti', 'Sibayo'], 'region': 'Arequipa', 'provincia': 'Caylloma'}, 'contrato': {'jefe_mantenimiento': {'titulo': 'Ingeniero', 'nombre': 'Genaro', 'dni': 0, 'apellido': 'Tinta Cáceres'}, 'numero_trabajadores': 3, 'numero_cuadrillas': 1, 'tipo_servicio': 'mantenimiento rutinario', 'denominacion_tramo_convenio': 'EMP. AR-111 (NUEVO SIBAYO) - TUTI EMP. AR-681 (DV. CHIVAY) (KM 32+252)', 'fecha_inicio': {'anio': 2025, 'mes': 4, 'dia': 15}, 'id_contrato': '004-2025', 'monto_contrato': 165130.4, 'contratista': {'razon_social': 'PLATERS MANAGEMENT S.A.C.', 'ruc': ''}, 'tiempo_ejecucion_dias': 240}, 'general_data': {'distritos': ['Chivay', 'Tuti', 'Sibayo'], 'region': 'Arequipa', 'provincia': 'Caylloma'}}\n"
     ]
    }
   ],
   "source": [
    "proyecto_snapshot=(\n",
    "    db\n",
    "    .collection(colec_raiz)\n",
    "    .document(doc_proyecto)\n",
    ").get()\n",
    "\n",
    "if not proyecto_snapshot.exists:\n",
    "    print(f\"El documento de datos generales no existe.\")\n",
    "proyecto_from_firestore = proyecto_snapshot.to_dict()\n",
    "print(proyecto_from_firestore)"
   ]
  },
  {
   "cell_type": "code",
   "execution_count": 138,
   "id": "c69886e2",
   "metadata": {},
   "outputs": [
    {
     "name": "stdout",
     "output_type": "stream",
     "text": [
      "Datos generales: {'distritos': ['Chivay', 'Tuti', 'Sibayo'], 'region': 'Arequipa', 'provincia': 'Caylloma'}\n"
     ]
    }
   ],
   "source": [
    "datos_generales = proyecto_from_firestore.get(\"datos_generales\", {})\n",
    "if not datos_generales:\n",
    "    print(\"No se encontraron datos generales en el documento.\")\n",
    "print(\"Datos generales:\", datos_generales)"
   ]
  },
  {
   "cell_type": "code",
   "execution_count": 139,
   "id": "b4efc071",
   "metadata": {},
   "outputs": [
    {
     "name": "stdout",
     "output_type": "stream",
     "text": [
      "Distritos: Chivay-Tuti-Sibayo, Región: Arequipa, Provincia: Caylloma\n"
     ]
    }
   ],
   "source": [
    "distritos, region, provincia = '-'.join(datos_generales['distritos']), datos_generales['region'], datos_generales['provincia']\n",
    "print(f\"Distritos: {distritos}, Región: {region}, Provincia: {provincia}\")"
   ]
  },
  {
   "cell_type": "code",
   "execution_count": 140,
   "id": "5f70ddca",
   "metadata": {},
   "outputs": [
    {
     "name": "stdout",
     "output_type": "stream",
     "text": [
      "Datos del expediente: {'codigo_ruta': 'AR-683', 'monto_total': 206413.0, 'coordenadas': {'fin': {'hemisferio': 'S', 'y': 8270075.15, 'progresiva': 32252.0, 'zona_letra': None, 'x': 220383.97, 'datum': 'WGS84', 'altitud': 3629, 'zona': None}, 'inicio': {'hemisferio': 'S', 'y': 8281146.79, 'progresiva': 0, 'zona_letra': None, 'x': 226316.6, 'datum': 'WGS84', 'altitud': 3820, 'zona': None}}, 'nombre': 'MANTENIMIENTO VIAL RUTINARIO CAMINO VECINAL EMP. AR-111 (NUEVO SIBAYO) - TUTI - EMP.AR-681 (DV. CHIVAY), DISTRITOS DE CHIVAY, TUTI Y SIBAYO, PROVINCIA DE CAYLLOMA, DEPARTAMENTO DE AREQUIPA', 'tarifa_km_mes': 800, 'longitud': 32252.0}\n"
     ]
    }
   ],
   "source": [
    "expediente= proyecto_from_firestore.get(\"expediente\", {})\n",
    "if not expediente:\n",
    "    print(\"No se encontraron datos del expediente en el documento.\")\n",
    "\n",
    "print(\"Datos del expediente:\", expediente)"
   ]
  },
  {
   "cell_type": "code",
   "execution_count": 141,
   "id": "582dbaef",
   "metadata": {},
   "outputs": [
    {
     "name": "stdout",
     "output_type": "stream",
     "text": [
      "Código de ruta: AR-683\n"
     ]
    }
   ],
   "source": [
    "codigo_ruta= expediente.get(\"codigo_ruta\", \"\")\n",
    "if not codigo_ruta:\n",
    "    print(\"No se encontró el código de ruta en los datos del expediente.\")\n",
    "print(f\"Código de ruta: {codigo_ruta}\")"
   ]
  },
  {
   "cell_type": "code",
   "execution_count": 142,
   "id": "627aa860",
   "metadata": {},
   "outputs": [
    {
     "name": "stdout",
     "output_type": "stream",
     "text": [
      "Longitud: 32252.0 km\n"
     ]
    }
   ],
   "source": [
    "longitud = expediente.get(\"longitud\", 0)\n",
    "if longitud is None:\n",
    "    print(\"No se encontró la longitud en los datos del expediente.\")\n",
    "print(f\"Longitud: {longitud} km\")"
   ]
  },
  {
   "cell_type": "code",
   "execution_count": 143,
   "id": "2816f67e",
   "metadata": {},
   "outputs": [
    {
     "name": "stdout",
     "output_type": "stream",
     "text": [
      "Datos del contrato: {'jefe_mantenimiento': {'titulo': 'Ingeniero', 'nombre': 'Genaro', 'dni': 0, 'apellido': 'Tinta Cáceres'}, 'numero_trabajadores': 3, 'numero_cuadrillas': 1, 'tipo_servicio': 'mantenimiento rutinario', 'denominacion_tramo_convenio': 'EMP. AR-111 (NUEVO SIBAYO) - TUTI EMP. AR-681 (DV. CHIVAY) (KM 32+252)', 'fecha_inicio': {'anio': 2025, 'mes': 4, 'dia': 15}, 'id_contrato': '004-2025', 'monto_contrato': 165130.4, 'contratista': {'razon_social': 'PLATERS MANAGEMENT S.A.C.', 'ruc': ''}, 'tiempo_ejecucion_dias': 240}\n"
     ]
    }
   ],
   "source": [
    "contrato= proyecto_from_firestore.get(\"contrato\", {})\n",
    "if not contrato:\n",
    "    print(\"No se encontraron datos del contrato en el documento.\")\n",
    "print(\"Datos del contrato:\", contrato)"
   ]
  },
  {
   "cell_type": "code",
   "execution_count": 144,
   "id": "17be9212",
   "metadata": {},
   "outputs": [
    {
     "name": "stdout",
     "output_type": "stream",
     "text": [
      "Denominación del tramo en el convenio: EMP. AR-111 (NUEVO SIBAYO) - TUTI EMP. AR-681 (DV. CHIVAY) (KM 32+252)\n"
     ]
    }
   ],
   "source": [
    "denominacion_tramo_convenio= contrato.get(\"denominacion_tramo_convenio\", \"\")\n",
    "if not denominacion_tramo_convenio:\n",
    "    print(\"No se encontró la denominación del tramo en el convenio.\")\n",
    "print(f\"Denominación del tramo en el convenio: {denominacion_tramo_convenio}\")"
   ]
  },
  {
   "cell_type": "code",
   "execution_count": 145,
   "id": "5ea277bc",
   "metadata": {},
   "outputs": [],
   "source": [
    "data_for_document={\n",
    "  \"departamento\": region,\n",
    "  \"provincia\": provincia,\n",
    "  \"distrito\": distritos,\n",
    "  \"tramo\": denominacion_tramo_convenio,\n",
    "  \"codigo_ruta\": codigo_ruta,\n",
    "  \"categoria\": \"Camino Vecinal\",\n",
    "  \"longitud_km\": str(round(longitud/1000, 2)),\n",
    "  \"mes\": calendar.month_name[mes_recursos_solicitados],\n",
    "  \"mantenimiento_rutinario\": costo_mantenimiento_rutinario,\n",
    "  \"gastos_operativos\": costo_gastos_operativos,\n",
    "  \"costo_total_mantenimiento\": costo_total_mantenimiento,\n",
    "}"
   ]
  },
  {
   "cell_type": "code",
   "execution_count": 146,
   "id": "f5d29c2b",
   "metadata": {},
   "outputs": [
    {
     "name": "stdout",
     "output_type": "stream",
     "text": [
      "{'departamento': 'Arequipa', 'provincia': 'Caylloma', 'distrito': 'Chivay-Tuti-Sibayo', 'tramo': 'EMP. AR-111 (NUEVO SIBAYO) - TUTI EMP. AR-681 (DV. CHIVAY) (KM 32+252)', 'codigo_ruta': 'AR-683', 'categoria': 'Camino Vecinal', 'longitud_km': '32.25', 'mes': 'Mayo', 'mantenimiento_rutinario': 48936.16, 'gastos_operativos': 4893.62, 'costo_total_mantenimiento': 53829.78}\n"
     ]
    }
   ],
   "source": [
    "print(data_for_document)"
   ]
  },
  {
   "cell_type": "code",
   "execution_count": 147,
   "id": "e6e5fca9",
   "metadata": {},
   "outputs": [
    {
     "name": "stdout",
     "output_type": "stream",
     "text": [
      "✔️ PDF generado: requerimiento_de_recursos.pdf\n"
     ]
    }
   ],
   "source": [
    "# —————————————————————————————————————————————\n",
    "# Filtro para formato de moneda\n",
    "# —————————————————————————————————————————————\n",
    "def format_currency(value):\n",
    "    return f\"{value:,.2f}\"\n",
    "\n",
    "# —————————————————————————————————————————————\n",
    "# Plantilla HTML + CSS (A4 landscape) con tu estructura de tabla\n",
    "# —————————————————————————————————————————————\n",
    "html_template = \"\"\"\n",
    "<!DOCTYPE html>\n",
    "<html lang=\"es\">\n",
    "<head>\n",
    "  <meta charset=\"UTF-8\"/>\n",
    "  <style>\n",
    "    @page { size: A4 landscape; margin: 1cm; }\n",
    "    body { font-family: sans-serif; font-size: 11pt; }\n",
    "    .title { text-align: center; font-size: 16pt; font-weight: bold; margin-bottom: 8px; }\n",
    "    table { width: 100%; border-collapse: collapse; }\n",
    "    .header-table td { padding: 4px 6px; vertical-align: top; }\n",
    "    .content-table th {\n",
    "      background-color: #2C3E50; color: white; padding: 6px; text-align: left; font-size: 10pt;\n",
    "    }\n",
    "    .content-table td {\n",
    "      border: 1px solid #bbb; padding: 6px; vertical-align: top;\n",
    "      word-break: break-word;\n",
    "    }\n",
    "    .content-table tr:nth-child(even) { background-color: #f2f2f2; }\n",
    "    .footer-row td {\n",
    "      font-weight: bold; background-color: #dde4ec;\n",
    "    }\n",
    "  </style>\n",
    "</head>\n",
    "<body>\n",
    "\n",
    "  <div class=\"title\">Requerimiento de recursos</div>\n",
    "\n",
    "  <!-- Datos superiores, sin bordes -->\n",
    "  <table class=\"header-table\">\n",
    "    <tr>\n",
    "      <td><strong>CAMINO:</strong> {{ tramo }}</td>\n",
    "      <td><strong>CATEGORÍA:</strong> {{ categoria }}</td>\n",
    "      <td><strong>CÓDIGO DE RUTA:</strong> {{ codigo_ruta }}</td>\n",
    "      <td><strong>LONGITUD TOTAL:</strong> {{ longitud_km }} km</td>\n",
    "    </tr>\n",
    "  </table>\n",
    "\n",
    "  <!-- Tabla principal con rowspan/colspan -->\n",
    "  <table class=\"content-table\">\n",
    "    <thead>\n",
    "      <tr>\n",
    "        <th rowspan=\"2\">DEPARTAMENTO</th>\n",
    "        <th rowspan=\"2\">PROVINCIA</th>\n",
    "        <th rowspan=\"2\">DISTRITO</th>\n",
    "        <th rowspan=\"2\">TRAMO</th>\n",
    "        <th colspan=\"3\">{{ mes.upper() }}</th>\n",
    "      </tr>\n",
    "      <tr>\n",
    "        <th>MANTENIMIENTO RUTINARIO</th>\n",
    "        <th>GASTOS OPERATIVOS</th>\n",
    "        <th>TOTAL</th>\n",
    "      </tr>\n",
    "    </thead>\n",
    "    <tbody>\n",
    "      <tr>\n",
    "        <td>{{ departamento }}</td>\n",
    "        <td>{{ provincia }}</td>\n",
    "        <td>{{ distrito }}</td>\n",
    "        <td>{{ tramo }}</td>\n",
    "        <td>{{ mantenimiento_rutinario | format_currency }}</td>\n",
    "        <td>{{ gastos_operativos | format_currency }}</td>\n",
    "        <td>{{ costo_total_mantenimiento | format_currency }}</td>\n",
    "      </tr>\n",
    "      <tr class=\"footer-row\">\n",
    "        <td colspan=\"4\"><strong>TOTAL</strong></td>\n",
    "        <td><strong>{{ mantenimiento_rutinario | format_currency }}</strong></td>\n",
    "        <td><strong>{{ gastos_operativos | format_currency }}</strong></td>\n",
    "        <td><strong>{{ costo_total_mantenimiento | format_currency }}</strong></td>\n",
    "      </tr>\n",
    "    </tbody>\n",
    "  </table>\n",
    "\n",
    "</body>\n",
    "</html>\n",
    "\"\"\"\n",
    "\n",
    "# —————————————————————————————————————————————\n",
    "# Crear Environment y registrar filtro\n",
    "# —————————————————————————————————————————————\n",
    "env = Environment()\n",
    "env.filters['format_currency'] = format_currency\n",
    "template = env.from_string(html_template)\n",
    "\n",
    "# —————————————————————————————————————————————\n",
    "# Renderizar HTML y generar PDF con xhtml2pdf\n",
    "# —————————————————————————————————————————————\n",
    "html_out = template.render(**data_for_document)\n",
    "\n",
    "ruta_directorio = os.path.join(\"output\", proyecto, str(mes))\n",
    "ruta_archivo_requerimiento_recursos = os.path.join(ruta_directorio, \"requerimiento_recursos.pdf\")\n",
    "\n",
    "# Crear el directorio si no existe\n",
    "os.makedirs(ruta_directorio, exist_ok=True)\n",
    "# Guardar el diccionario en un archivo JSON\n",
    "\n",
    "def html_to_pdf(source_html: str, output_filename: str):\n",
    "    with open(output_filename, \"wb\") as output_file:\n",
    "        pisa_status = pisa.CreatePDF(source_html, dest=output_file)\n",
    "    return pisa_status.err\n",
    "\n",
    "err = html_to_pdf(html_out, ruta_archivo_requerimiento_recursos)\n",
    "if err:\n",
    "    print(\"⚠️ Ocurrió un error al generar el PDF.\")\n",
    "else:\n",
    "    print(\"✔️ PDF generado: requerimiento_de_recursos.pdf\")"
   ]
  }
 ],
 "metadata": {
  "kernelspec": {
   "display_name": ".venv",
   "language": "python",
   "name": "python3"
  },
  "language_info": {
   "codemirror_mode": {
    "name": "ipython",
    "version": 3
   },
   "file_extension": ".py",
   "mimetype": "text/x-python",
   "name": "python",
   "nbconvert_exporter": "python",
   "pygments_lexer": "ipython3",
   "version": "3.12.4"
  }
 },
 "nbformat": 4,
 "nbformat_minor": 5
}
