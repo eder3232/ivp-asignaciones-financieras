{
 "cells": [
  {
   "cell_type": "markdown",
   "id": "b9b52502",
   "metadata": {},
   "source": [
    "# Asignación Financiera"
   ]
  },
  {
   "cell_type": "markdown",
   "id": "11a10b07",
   "metadata": {},
   "source": [
    "## Librerias necesarias"
   ]
  },
  {
   "cell_type": "code",
   "execution_count": 2,
   "id": "c95029fa",
   "metadata": {},
   "outputs": [],
   "source": [
    "import pandas as pd\n",
    "import os\n",
    "import pickle\n",
    "import json\n",
    "import xlsxwriter\n",
    "from xlsxwriter.utility import xl_range, xl_rowcol_to_cell\n",
    "import re\n",
    "from typing import Dict, List, Any\n",
    "import itertools\n",
    "from firebase_admin import credentials, firestore\n",
    "import firebase_admin\n",
    "import excel2img\n",
    "from openpyxl import load_workbook\n",
    "from openpyxl.utils import get_column_letter"
   ]
  },
  {
   "cell_type": "markdown",
   "id": "0b3e9a0d",
   "metadata": {},
   "source": [
    "## Datos del proyecto en analisis"
   ]
  },
  {
   "cell_type": "code",
   "execution_count": 3,
   "id": "9bea865f",
   "metadata": {},
   "outputs": [],
   "source": [
    "proyecto=\"cabanaconde\"\n",
    "mes=4\n",
    "anio=2025"
   ]
  },
  {
   "cell_type": "markdown",
   "id": "b69fb257",
   "metadata": {},
   "source": [
    "## Datos de Firestore"
   ]
  },
  {
   "cell_type": "code",
   "execution_count": 4,
   "id": "c809f9b0",
   "metadata": {},
   "outputs": [],
   "source": [
    "# Ruta a tu archivo de clave privada descargado\n",
    "cred = credentials.Certificate(\"../credentials_firestore.json\")\n",
    "\n",
    "# Inicializa sólo si no hay ninguna app por defecto\n",
    "if not firebase_admin._apps:\n",
    "    firebase_admin.initialize_app(cred)\n",
    "\n",
    "# Obtiene una instancia de la base de datos Firestore\n",
    "db = firestore.client()"
   ]
  },
  {
   "cell_type": "code",
   "execution_count": 5,
   "id": "8f728d1f",
   "metadata": {},
   "outputs": [
    {
     "name": "stdout",
     "output_type": "stream",
     "text": [
      "{'otros': {'tipo_superficie': 'afirmado', 'estado_conservacion_via': 'bueno'}, 'datos_generales': {'distritos': ['Cabanaconde'], 'region': 'Arequipa', 'provincia': 'Caylloma'}, 'expediente': {'codigo_ruta': 'R0405106', 'monto_total': 81120, 'coordenadas': {'fin': {'hemisferio': 'S', 'y': 8272525.68, 'progresiva': 13000, 'zona_letra': 'L', 'x': 813907.99, 'datum': 'WGS84', 'altitud': 1975, 'zona': 18}, 'inicio': {'hemisferio': 'S', 'y': 8272658.46, 'progresiva': 0, 'zona_letra': 'L', 'x': 819845.05, 'datum': 'WGS84', 'altitud': 2877, 'zona': 18}}, 'nombre': 'MANTENIMIENTO VIAL RUTINARIO DEL CAMINO VECINAL EMP. R0405104 (CABANACONDE) A PTE. CABANACONDE - CHOCO (L.P. CASTILLA), DISTRITO DE CABANACONDE, PROVINCIA DE CAYLLOMA, REGIÓN AREQUIPA', 'longitud': 13000}, 'other': {'tipo_superficie': 'afirmado', 'estado_conservacion_via': 'bueno'}, 'contrato': {'jefe_mantenimiento': {'titulo': 'Ingeniero', 'nombre': 'Genaro', 'dni': 0, 'apellido': 'Tinta Cáceres'}, 'numero_trabajadores': 4, 'denominacion_tramo_convenio': 'Emp. Choco Soro Soro (Cabanaconde) a Pte. Cabanaconde - Choco - Ld Castilla (Km 14+064)', 'numero_cuadrillas': 1, 'tipo_servicio': 'mantenimiento rutinario', 'fecha_inicio': {'anio': 2025, 'mes': 4, 'dia': 10}, 'id_contrato': '001-2025', 'monto_contrato': 59504.8, 'contratista': {'razon_social': 'Grupo ARICOL E.I.R.L.', 'ruc': 20606988398}, 'tiempo_ejecucion_dias': 240}, 'general_data': {'distritos': ['Cabanaconde'], 'region': 'Arequipa', 'provincia': 'Caylloma'}}\n"
     ]
    }
   ],
   "source": [
    "data_mantenimiento=db.collection(\"rutinarios\").document(proyecto).get()\n",
    "if data_mantenimiento.exists:\n",
    "    print(data_mantenimiento.to_dict())\n",
    "else:\n",
    "    print(\"No existe el documento.\")"
   ]
  },
  {
   "cell_type": "code",
   "execution_count": 6,
   "id": "2c33c2dd",
   "metadata": {},
   "outputs": [
    {
     "name": "stdout",
     "output_type": "stream",
     "text": [
      "0\n",
      "13000\n"
     ]
    }
   ],
   "source": [
    "progresiva_inicio=data_mantenimiento.to_dict()[\"expediente\"][\"coordenadas\"][\"inicio\"][\"progresiva\"]\n",
    "progresiva_fin=data_mantenimiento.to_dict()[\"expediente\"][\"coordenadas\"][\"fin\"][\"progresiva\"]\n",
    "\n",
    "print(progresiva_inicio)\n",
    "print(progresiva_fin)"
   ]
  },
  {
   "cell_type": "code",
   "execution_count": 7,
   "id": "3487c412",
   "metadata": {},
   "outputs": [
    {
     "data": {
      "text/html": [
       "<div>\n",
       "<style scoped>\n",
       "    .dataframe tbody tr th:only-of-type {\n",
       "        vertical-align: middle;\n",
       "    }\n",
       "\n",
       "    .dataframe tbody tr th {\n",
       "        vertical-align: top;\n",
       "    }\n",
       "\n",
       "    .dataframe thead th {\n",
       "        text-align: right;\n",
       "    }\n",
       "</style>\n",
       "<table border=\"1\" class=\"dataframe\">\n",
       "  <thead>\n",
       "    <tr style=\"text-align: right;\">\n",
       "      <th></th>\n",
       "      <th>2025-04</th>\n",
       "      <th>2025-05</th>\n",
       "      <th>2025-06</th>\n",
       "      <th>2025-07</th>\n",
       "      <th>2025-08</th>\n",
       "      <th>2025-09</th>\n",
       "      <th>2025-10</th>\n",
       "      <th>2025-11</th>\n",
       "      <th>2025-12</th>\n",
       "      <th>TOTAL</th>\n",
       "    </tr>\n",
       "    <tr>\n",
       "      <th>codigo</th>\n",
       "      <th></th>\n",
       "      <th></th>\n",
       "      <th></th>\n",
       "      <th></th>\n",
       "      <th></th>\n",
       "      <th></th>\n",
       "      <th></th>\n",
       "      <th></th>\n",
       "      <th></th>\n",
       "      <th></th>\n",
       "    </tr>\n",
       "  </thead>\n",
       "  <tbody>\n",
       "    <tr>\n",
       "      <th>MR101</th>\n",
       "      <td>1.540444</td>\n",
       "      <td>2.310667</td>\n",
       "      <td>1.925556</td>\n",
       "      <td>2.310667</td>\n",
       "      <td>2.310667</td>\n",
       "      <td>2.310667</td>\n",
       "      <td>2.310667</td>\n",
       "      <td>1.925556</td>\n",
       "      <td>0.385111</td>\n",
       "      <td>17.33</td>\n",
       "    </tr>\n",
       "    <tr>\n",
       "      <th>MR102</th>\n",
       "      <td>153.148333</td>\n",
       "      <td>245.037333</td>\n",
       "      <td>214.407667</td>\n",
       "      <td>245.037333</td>\n",
       "      <td>245.037333</td>\n",
       "      <td>214.407667</td>\n",
       "      <td>245.037333</td>\n",
       "      <td>245.037333</td>\n",
       "      <td>30.629667</td>\n",
       "      <td>1837.78</td>\n",
       "    </tr>\n",
       "    <tr>\n",
       "      <th>MR103</th>\n",
       "      <td>0.000000</td>\n",
       "      <td>0.000000</td>\n",
       "      <td>6.650000</td>\n",
       "      <td>6.650000</td>\n",
       "      <td>6.650000</td>\n",
       "      <td>6.650000</td>\n",
       "      <td>0.000000</td>\n",
       "      <td>6.650000</td>\n",
       "      <td>0.000000</td>\n",
       "      <td>33.25</td>\n",
       "    </tr>\n",
       "    <tr>\n",
       "      <th>MR104</th>\n",
       "      <td>17.011250</td>\n",
       "      <td>17.011250</td>\n",
       "      <td>17.011250</td>\n",
       "      <td>17.011250</td>\n",
       "      <td>17.011250</td>\n",
       "      <td>17.011250</td>\n",
       "      <td>17.011250</td>\n",
       "      <td>17.011250</td>\n",
       "      <td>0.000000</td>\n",
       "      <td>136.09</td>\n",
       "    </tr>\n",
       "    <tr>\n",
       "      <th>MR201</th>\n",
       "      <td>1515.151818</td>\n",
       "      <td>2272.727727</td>\n",
       "      <td>1893.939773</td>\n",
       "      <td>2272.727727</td>\n",
       "      <td>2272.727727</td>\n",
       "      <td>1893.939773</td>\n",
       "      <td>2272.727727</td>\n",
       "      <td>1893.939773</td>\n",
       "      <td>378.787955</td>\n",
       "      <td>16666.67</td>\n",
       "    </tr>\n",
       "    <tr>\n",
       "      <th>MR202</th>\n",
       "      <td>0.000000</td>\n",
       "      <td>0.000000</td>\n",
       "      <td>0.000000</td>\n",
       "      <td>0.000000</td>\n",
       "      <td>0.000000</td>\n",
       "      <td>0.000000</td>\n",
       "      <td>0.000000</td>\n",
       "      <td>0.000000</td>\n",
       "      <td>0.000000</td>\n",
       "      <td>0.00</td>\n",
       "    </tr>\n",
       "    <tr>\n",
       "      <th>MR203</th>\n",
       "      <td>42.424545</td>\n",
       "      <td>42.424545</td>\n",
       "      <td>84.849091</td>\n",
       "      <td>84.849091</td>\n",
       "      <td>42.424545</td>\n",
       "      <td>42.424545</td>\n",
       "      <td>42.424545</td>\n",
       "      <td>42.424545</td>\n",
       "      <td>42.424545</td>\n",
       "      <td>466.67</td>\n",
       "    </tr>\n",
       "    <tr>\n",
       "      <th>MR204</th>\n",
       "      <td>0.000000</td>\n",
       "      <td>0.000000</td>\n",
       "      <td>0.000000</td>\n",
       "      <td>0.000000</td>\n",
       "      <td>0.000000</td>\n",
       "      <td>0.000000</td>\n",
       "      <td>0.000000</td>\n",
       "      <td>0.000000</td>\n",
       "      <td>0.000000</td>\n",
       "      <td>0.00</td>\n",
       "    </tr>\n",
       "    <tr>\n",
       "      <th>MR205</th>\n",
       "      <td>0.000000</td>\n",
       "      <td>0.000000</td>\n",
       "      <td>0.000000</td>\n",
       "      <td>0.000000</td>\n",
       "      <td>0.000000</td>\n",
       "      <td>0.000000</td>\n",
       "      <td>0.000000</td>\n",
       "      <td>0.000000</td>\n",
       "      <td>0.000000</td>\n",
       "      <td>0.00</td>\n",
       "    </tr>\n",
       "    <tr>\n",
       "      <th>MR206</th>\n",
       "      <td>0.000000</td>\n",
       "      <td>0.000000</td>\n",
       "      <td>0.000000</td>\n",
       "      <td>0.000000</td>\n",
       "      <td>0.000000</td>\n",
       "      <td>0.000000</td>\n",
       "      <td>0.000000</td>\n",
       "      <td>0.000000</td>\n",
       "      <td>0.000000</td>\n",
       "      <td>0.00</td>\n",
       "    </tr>\n",
       "    <tr>\n",
       "      <th>MR301</th>\n",
       "      <td>3606.515455</td>\n",
       "      <td>5409.773182</td>\n",
       "      <td>4508.144318</td>\n",
       "      <td>5409.773182</td>\n",
       "      <td>5409.773182</td>\n",
       "      <td>4508.144318</td>\n",
       "      <td>5409.773182</td>\n",
       "      <td>4508.144318</td>\n",
       "      <td>901.628864</td>\n",
       "      <td>39671.67</td>\n",
       "    </tr>\n",
       "    <tr>\n",
       "      <th>MR401</th>\n",
       "      <td>0.000000</td>\n",
       "      <td>5.866000</td>\n",
       "      <td>5.866000</td>\n",
       "      <td>0.000000</td>\n",
       "      <td>0.000000</td>\n",
       "      <td>5.866000</td>\n",
       "      <td>5.866000</td>\n",
       "      <td>5.866000</td>\n",
       "      <td>0.000000</td>\n",
       "      <td>29.33</td>\n",
       "    </tr>\n",
       "    <tr>\n",
       "      <th>MR501</th>\n",
       "      <td>0.000000</td>\n",
       "      <td>0.000000</td>\n",
       "      <td>0.000000</td>\n",
       "      <td>0.000000</td>\n",
       "      <td>0.000000</td>\n",
       "      <td>0.000000</td>\n",
       "      <td>0.000000</td>\n",
       "      <td>0.000000</td>\n",
       "      <td>0.000000</td>\n",
       "      <td>0.00</td>\n",
       "    </tr>\n",
       "    <tr>\n",
       "      <th>MR601</th>\n",
       "      <td>0.000000</td>\n",
       "      <td>0.000000</td>\n",
       "      <td>22.534000</td>\n",
       "      <td>0.000000</td>\n",
       "      <td>22.534000</td>\n",
       "      <td>22.534000</td>\n",
       "      <td>22.534000</td>\n",
       "      <td>22.534000</td>\n",
       "      <td>0.000000</td>\n",
       "      <td>112.67</td>\n",
       "    </tr>\n",
       "    <tr>\n",
       "      <th>MR701</th>\n",
       "      <td>3.866000</td>\n",
       "      <td>3.866000</td>\n",
       "      <td>3.866000</td>\n",
       "      <td>0.000000</td>\n",
       "      <td>0.000000</td>\n",
       "      <td>3.866000</td>\n",
       "      <td>0.000000</td>\n",
       "      <td>3.866000</td>\n",
       "      <td>0.000000</td>\n",
       "      <td>19.33</td>\n",
       "    </tr>\n",
       "  </tbody>\n",
       "</table>\n",
       "</div>"
      ],
      "text/plain": [
       "            2025-04      2025-05      2025-06      2025-07      2025-08  \\\n",
       "codigo                                                                    \n",
       "MR101      1.540444     2.310667     1.925556     2.310667     2.310667   \n",
       "MR102    153.148333   245.037333   214.407667   245.037333   245.037333   \n",
       "MR103      0.000000     0.000000     6.650000     6.650000     6.650000   \n",
       "MR104     17.011250    17.011250    17.011250    17.011250    17.011250   \n",
       "MR201   1515.151818  2272.727727  1893.939773  2272.727727  2272.727727   \n",
       "MR202      0.000000     0.000000     0.000000     0.000000     0.000000   \n",
       "MR203     42.424545    42.424545    84.849091    84.849091    42.424545   \n",
       "MR204      0.000000     0.000000     0.000000     0.000000     0.000000   \n",
       "MR205      0.000000     0.000000     0.000000     0.000000     0.000000   \n",
       "MR206      0.000000     0.000000     0.000000     0.000000     0.000000   \n",
       "MR301   3606.515455  5409.773182  4508.144318  5409.773182  5409.773182   \n",
       "MR401      0.000000     5.866000     5.866000     0.000000     0.000000   \n",
       "MR501      0.000000     0.000000     0.000000     0.000000     0.000000   \n",
       "MR601      0.000000     0.000000    22.534000     0.000000    22.534000   \n",
       "MR701      3.866000     3.866000     3.866000     0.000000     0.000000   \n",
       "\n",
       "            2025-09      2025-10      2025-11     2025-12     TOTAL  \n",
       "codigo                                                               \n",
       "MR101      2.310667     2.310667     1.925556    0.385111     17.33  \n",
       "MR102    214.407667   245.037333   245.037333   30.629667   1837.78  \n",
       "MR103      6.650000     0.000000     6.650000    0.000000     33.25  \n",
       "MR104     17.011250    17.011250    17.011250    0.000000    136.09  \n",
       "MR201   1893.939773  2272.727727  1893.939773  378.787955  16666.67  \n",
       "MR202      0.000000     0.000000     0.000000    0.000000      0.00  \n",
       "MR203     42.424545    42.424545    42.424545   42.424545    466.67  \n",
       "MR204      0.000000     0.000000     0.000000    0.000000      0.00  \n",
       "MR205      0.000000     0.000000     0.000000    0.000000      0.00  \n",
       "MR206      0.000000     0.000000     0.000000    0.000000      0.00  \n",
       "MR301   4508.144318  5409.773182  4508.144318  901.628864  39671.67  \n",
       "MR401      5.866000     5.866000     5.866000    0.000000     29.33  \n",
       "MR501      0.000000     0.000000     0.000000    0.000000      0.00  \n",
       "MR601     22.534000    22.534000    22.534000    0.000000    112.67  \n",
       "MR701      3.866000     0.000000     3.866000    0.000000     19.33  "
      ]
     },
     "execution_count": 7,
     "metadata": {},
     "output_type": "execute_result"
    }
   ],
   "source": [
    "# Concatenar la ruta completa al archivo .pkl\n",
    "ruta_archivo = os.path.join(\"data\",proyecto, f\"{proyecto}_vigente.pkl\")\n",
    "\n",
    "# Leer el archivo pickle\n",
    "with open(ruta_archivo, \"rb\") as f:\n",
    "    df = pickle.load(f)\n",
    "\n",
    "df.head(15)"
   ]
  },
  {
   "cell_type": "code",
   "execution_count": 8,
   "id": "d813adf9",
   "metadata": {},
   "outputs": [],
   "source": [
    "#eliminando el total\n",
    "df = df.iloc[:-1]\n"
   ]
  },
  {
   "cell_type": "code",
   "execution_count": 9,
   "id": "20196a0e",
   "metadata": {},
   "outputs": [
    {
     "data": {
      "text/plain": [
       "['MR101',\n",
       " 'MR102',\n",
       " 'MR103',\n",
       " 'MR104',\n",
       " 'MR201',\n",
       " 'MR202',\n",
       " 'MR203',\n",
       " 'MR204',\n",
       " 'MR205',\n",
       " 'MR206',\n",
       " 'MR301',\n",
       " 'MR401',\n",
       " 'MR501',\n",
       " 'MR601',\n",
       " 'MR701',\n",
       " 'MR702']"
      ]
     },
     "execution_count": 9,
     "metadata": {},
     "output_type": "execute_result"
    }
   ],
   "source": [
    "df.index.to_list()"
   ]
  },
  {
   "cell_type": "code",
   "execution_count": 10,
   "id": "c538ed71",
   "metadata": {},
   "outputs": [
    {
     "name": "stdout",
     "output_type": "stream",
     "text": [
      "[{'key': 'MR100', 'value': {'label': 'Conservación de calzada', 'value': [{'key': 'MR101', 'value': {'label': 'Limpieza de calzada', 'carga_trabajo': 3.6, 'unidad': 'Km'}}, {'key': 'MR102', 'value': {'label': 'Bacheo', 'carga_trabajo': 360, 'unidad': 'm2'}}, {'key': 'MR103', 'value': {'label': 'Desquinche', 'carga_trabajo': 0, 'unidad': 'm3'}}, {'key': 'MR104', 'value': {'label': 'Remoción de derrumbes', 'carga_trabajo': 9, 'unidad': 'm3'}}]}}, {'key': 'MR200', 'value': {'label': 'Limpieza de obras de arte', 'value': [{'key': 'MR201', 'value': {'label': 'Limpieza de cunetas', 'carga_trabajo': 1440, 'unidad': 'm'}}, {'key': 'MR202', 'value': {'label': 'Limpieza de alcantarillas', 'carga_trabajo': 0, 'unidad': 'unidad'}}, {'key': 'MR203', 'value': {'label': 'Limpieza de badén', 'carga_trabajo': 0, 'unidad': 'm2'}}, {'key': 'MR204', 'value': {'label': 'Limpieza de zanjas de coronación', 'carga_trabajo': 0, 'unidad': 'm'}}, {'key': 'MR205', 'value': {'label': 'Limpieza de pontones', 'carga_trabajo': 0, 'unidad': 'unidad'}}, {'key': 'MR206', 'value': {'label': 'Encausamiento de pequeños cursos de agua', 'carga_trabajo': 0, 'unidad': 'm'}}]}}, {'key': 'MR300', 'value': {'label': 'Control de vegetación', 'value': [{'key': 'MR301', 'value': {'label': 'Roce y limpieza', 'carga_trabajo': 0, 'unidad': 'Km'}}]}}, {'key': 'MR400', 'value': {'label': 'Seguridad vial', 'value': [{'key': 'MR401', 'value': {'label': 'Conservación de señales', 'carga_trabajo': 10, 'unidad': 'unidad'}}]}}, {'key': 'MR500', 'value': {'label': 'Medio ambiente', 'value': [{'key': 'MR501', 'value': {'label': 'Reforestación', 'carga_trabajo': 0, 'unidad': 'unidad'}}]}}, {'key': 'MR600', 'value': {'label': 'Vigilancia y control vial', 'value': [{'key': 'MR601', 'value': {'label': 'Vigilancia y control', 'carga_trabajo': 0, 'unidad': 'Km'}}]}}, {'key': 'MR700', 'value': {'label': 'Actividades complementarias', 'value': [{'key': 'MR701', 'value': {'label': 'Reparación de muros secos', 'carga_trabajo': 0, 'unidad': 'm3'}}, {'key': 'MR702', 'value': {'label': 'Reparación de pontones', 'carga_trabajo': 0, 'unidad': 'unidad'}}]}}]\n"
     ]
    }
   ],
   "source": [
    "ruta_actividades= os.path.join(\"data\", \"general_data\", \"actividades.json\")\n",
    "with open(ruta_actividades, 'r', encoding='utf-8') as archivo:\n",
    "    actividades = json.load(archivo)\n",
    "# Ahora 'datos' es un diccionario de Python\n",
    "print(actividades)"
   ]
  },
  {
   "cell_type": "code",
   "execution_count": 11,
   "id": "211e4d6e",
   "metadata": {},
   "outputs": [
    {
     "name": "stdout",
     "output_type": "stream",
     "text": [
      "{'MR101': 3.6, 'MR102': 360, 'MR201': 1440, 'MR401': 10, 'MR104': 9}\n"
     ]
    }
   ],
   "source": [
    "ruta_cargas_trabajo= os.path.join(\"data\", proyecto,str(mes), f\"cargas_trabajo.json\")\n",
    "with open(ruta_cargas_trabajo, 'r', encoding='utf-8') as archivo:\n",
    "    cargas_trabajo = json.load(archivo)\n",
    "# Ahora 'cargas_trabajo' es un diccionario de Python\n",
    "print(cargas_trabajo)"
   ]
  },
  {
   "cell_type": "code",
   "execution_count": 12,
   "id": "48dd052f",
   "metadata": {},
   "outputs": [
    {
     "data": {
      "text/plain": [
       "{'MR101': 3.6, 'MR102': 360, 'MR201': 1440, 'MR401': 10, 'MR104': 9}"
      ]
     },
     "execution_count": 12,
     "metadata": {},
     "output_type": "execute_result"
    }
   ],
   "source": [
    "{'MR101': 3.6, 'MR102': 360, 'MR201': 1440, 'MR401': 10, 'MR104': 9}"
   ]
  },
  {
   "cell_type": "code",
   "execution_count": 13,
   "id": "ecbf6590",
   "metadata": {},
   "outputs": [
    {
     "data": {
      "text/plain": [
       "[{'key': 'MR101', 'value': 3.6},\n",
       " {'key': 'MR102', 'value': 360},\n",
       " {'key': 'MR104', 'value': 9},\n",
       " {'key': 'MR201', 'value': 1440},\n",
       " {'key': 'MR401', 'value': 10}]"
      ]
     },
     "execution_count": 13,
     "metadata": {},
     "output_type": "execute_result"
    }
   ],
   "source": [
    "[\n",
    "    {\"key\": \"MR101\", \"value\": 3.6},\n",
    "    {\"key\": \"MR102\", \"value\": 360},\n",
    "    {\"key\": \"MR104\", \"value\": 9},\n",
    "    {\"key\": \"MR201\", \"value\": 1440},\n",
    "    {\"key\": \"MR401\", \"value\": 10},\n",
    "]"
   ]
  },
  {
   "cell_type": "code",
   "execution_count": 14,
   "id": "a63b307f",
   "metadata": {},
   "outputs": [
    {
     "name": "stdout",
     "output_type": "stream",
     "text": [
      "[{'key': 'MR101', 'value': 3.6}, {'key': 'MR102', 'value': 360}, {'key': 'MR104', 'value': 9}, {'key': 'MR201', 'value': 1440}, {'key': 'MR401', 'value': 10}]\n"
     ]
    }
   ],
   "source": [
    "def ordenar_por_centena(data: Any) -> List[Dict[str, Any]]:\n",
    "    \"\"\"\n",
    "    Toma un dict (o un JSON en formato str) cuyas claves acaban en número\n",
    "    y devuelve una lista de dicts {'key':…, 'value':…} ordenada por ese número.\n",
    "    \"\"\"\n",
    "    # Si viene como cadena JSON, lo convertimos\n",
    "    if isinstance(data, str):\n",
    "        data = json.loads(data)\n",
    "    \n",
    "    pattern = re.compile(r'(\\d+)$')\n",
    "    \n",
    "    # Ordenamos items según el número de la clave\n",
    "    sorted_items = sorted(\n",
    "        data.items(),\n",
    "        key=lambda item: int(pattern.search(item[0]).group(1))\n",
    "    )\n",
    "    \n",
    "    # Devolvemos la lista esperada\n",
    "    return [{\"key\": k, \"value\": v} for k, v in sorted_items]\n",
    "\n",
    "# Ejemplo completo\n",
    "ruta_cargas_trabajo = '{\"MR101\": 3.6, \"MR102\": 360, \"MR201\": 1440, \"MR401\": 10, \"MR104\": 9}'\n",
    "resultado = ordenar_por_centena(ruta_cargas_trabajo)\n",
    "print(resultado)\n",
    "# → [\n",
    "#     {'key': 'MR101', 'value': 3.6},\n",
    "#     {'key': 'MR102', 'value': 360},\n",
    "#     {'key': 'MR104', 'value': 9},\n",
    "#     {'key': 'MR201', 'value': 1440},\n",
    "#     {'key': 'MR401', 'value': 10},\n",
    "# ]"
   ]
  },
  {
   "cell_type": "code",
   "execution_count": 15,
   "id": "720f0769",
   "metadata": {},
   "outputs": [],
   "source": [
    "def clave_grupo(item):\n",
    "    return int(item['key'][2:]) // 100  # 101→1, 201→2, etc."
   ]
  },
  {
   "cell_type": "code",
   "execution_count": 16,
   "id": "af238e22",
   "metadata": {},
   "outputs": [],
   "source": [
    "def calcular_avance(programado, ejecutado):\n",
    "    \"\"\"\n",
    "    Calcula el porcentaje de avance basado en lo programado y lo ejecutado.\n",
    "    \n",
    "    Si lo programado es 0 y lo ejecutado es mayor a 0, devuelve 'ejecución adelantada'.\n",
    "    Si ambos son 0, devuelve 0.0.\n",
    "    En cualquier otro caso, devuelve el porcentaje (0-100) como float redondeado a 2 decimales.\n",
    "    \"\"\"\n",
    "    if programado == 0:\n",
    "        if ejecutado > 0:\n",
    "            return \"Ejec. adelantada\"\n",
    "        else:\n",
    "            return 0.0\n",
    "    else:\n",
    "        porcentaje = (ejecutado / programado) \n",
    "        return round(porcentaje, 2)\n"
   ]
  },
  {
   "cell_type": "code",
   "execution_count": 17,
   "id": "981a6113",
   "metadata": {},
   "outputs": [],
   "source": [
    "def formatear_progresiva(distancia, decimales=0):\n",
    "    \"\"\"\n",
    "    Convierte una distancia en metros a notación de progresiva.\n",
    "    \n",
    "    Parámetros:\n",
    "    - distancia: int o float, la distancia en metros.\n",
    "    - decimales: int, número de decimales a mostrar en la parte de los metros.\n",
    "    \n",
    "    Retorna:\n",
    "    - str: progresiva en formato 'K+XXX' con los decimales indicados.\n",
    "    \"\"\"\n",
    "    if not isinstance(distancia, (int, float)):\n",
    "        raise ValueError(\"La distancia debe ser un número (int o float).\")\n",
    "    if not isinstance(decimales, int) or decimales < 0:\n",
    "        raise ValueError(\"Los decimales deben ser un entero no negativo.\")\n",
    "    \n",
    "    km = int(distancia) // 1000\n",
    "    metros = distancia - (km * 1000)\n",
    "    \n",
    "    formato_metros = f\"{metros:0.{decimales}f}\".zfill(3 + (1 if decimales > 0 else 0) + decimales)\n",
    "    return f\"{km}+{formato_metros}\""
   ]
  },
  {
   "cell_type": "code",
   "execution_count": 18,
   "id": "51a08578",
   "metadata": {},
   "outputs": [
    {
     "name": "stdout",
     "output_type": "stream",
     "text": [
      "[{'key': 'MR101', 'value': 3.6}, {'key': 'MR102', 'value': 360}, {'key': 'MR104', 'value': 9}, {'key': 'MR201', 'value': 1440}, {'key': 'MR401', 'value': 10}]\n"
     ]
    }
   ],
   "source": [
    "cargas_trabajo_ordenadas=ordenar_por_centena(ruta_cargas_trabajo)\n",
    "print(cargas_trabajo_ordenadas)"
   ]
  },
  {
   "cell_type": "markdown",
   "id": "db7e7319",
   "metadata": {},
   "source": [
    "## Escribiendo el excel"
   ]
  },
  {
   "cell_type": "code",
   "execution_count": 19,
   "id": "a59fa490",
   "metadata": {},
   "outputs": [],
   "source": [
    "# escribiendo una tabla de excel"
   ]
  },
  {
   "cell_type": "code",
   "execution_count": 20,
   "id": "20b7cb10",
   "metadata": {},
   "outputs": [],
   "source": [
    "# Ruta dinámica\n",
    "ruta_directorio = os.path.join(\"output\", proyecto, str(mes))\n",
    "ruta_archivo = os.path.join(ruta_directorio, \"cargas_trabajo.xlsx\")\n",
    "# Crear carpetas si no existen\n",
    "os.makedirs(ruta_directorio, exist_ok=True)\n",
    "\n",
    "wb = xlsxwriter.Workbook(ruta_archivo)\n",
    "ws=wb.add_worksheet(\"cargas_trabajo\")"
   ]
  },
  {
   "cell_type": "markdown",
   "id": "176e4862",
   "metadata": {},
   "source": [
    "### Formatos"
   ]
  },
  {
   "cell_type": "code",
   "execution_count": 21,
   "id": "66bb6326",
   "metadata": {},
   "outputs": [],
   "source": [
    "# 1. Propiedades base\n",
    "BASE_CELL = {\n",
    "    \"valign\": \"vcenter\",\n",
    "    \"border\": 1,\n",
    "}\n",
    "\n",
    "BASE_HEADER = {\n",
    "    **BASE_CELL,\n",
    "    \"bold\": True,\n",
    "}\n",
    "\n",
    "BG_HEADER = \"#D9E1F2\"\n",
    "BG_TABLE = \"#C5D9F1\"\n",
    "\n",
    "\n",
    "# 2. Función de helper para crear formatos\n",
    "def fmt(wb, **props):\n",
    "    cfg = {}\n",
    "    # parte genérica\n",
    "    cfg.update(props)\n",
    "    return wb.add_format(cfg)\n",
    "\n",
    "\n",
    "# 3. Diccionario de formatos\n",
    "formats = {\n",
    "    # encabezados\n",
    "    \"header\": {\"align\": \"center\", \"bg_color\": BG_HEADER, **BASE_HEADER},\n",
    "    \"header2\": {\"align\": \"left\", **BASE_HEADER},\n",
    "    \"header_label\": {\"align\": \"center\", **BASE_HEADER},\n",
    "    # formato vertical header\n",
    "    \"header_vertical\": {\n",
    "        **BASE_HEADER,\n",
    "        \"bold\": True,\n",
    "        \"align\": \"center\",\n",
    "        \"valign\": \"vcenter\",\n",
    "        \"bg_color\": BG_HEADER,\n",
    "        \"rotation\": 90,  # <— ¡aquí está el giro!\n",
    "    },\n",
    "    # encabezados de tabla\n",
    "    \"table_header\": {\n",
    "        \"align\": \"center\",\n",
    "        \"text_wrap\": True,\n",
    "        \"shrink\": True,\n",
    "        \"bg_color\": BG_TABLE,\n",
    "        **BASE_CELL,\n",
    "    },\n",
    "    \"table_header_int\": {\"align\": \"center\", \"bg_color\": BG_TABLE, **BASE_CELL},\n",
    "    # celdas numéricas y de texto\n",
    "    \"cell\": {\"font_size\": 8, \"num_format\": \"#,##0.00\", **BASE_CELL},\n",
    "    # \"cell\": {\"font_size\": 8, \"num_format\": \"#,##0.00\", **BASE_CELL},\n",
    "    \"cell_int\": {\"num_format\": \"#,##0\", **BASE_CELL},\n",
    "    \"cell_number\": {\"num_format\": \"#,##0.00\", **BASE_CELL},\n",
    "    \"cell_number_percent\": {\n",
    "        \"num_format\": \"#,##0.00%\",\n",
    "        \"align\": \"right\",\n",
    "        **BASE_CELL,\n",
    "    },\n",
    "    \"cell_text\": {\"align\": \"left\", \"text_wrap\": True, \"shrink\": True, **BASE_CELL},\n",
    "    \"cell_right\": {\"align\": \"right\", **BASE_CELL},\n",
    "    # sumas\n",
    "    \"suma\": {\"num_format\": \"#,##0.00\", **BASE_CELL},\n",
    "    # soles\n",
    "    \"soles_color\": {\n",
    "        \"bold\": True,\n",
    "        \"bg_color\": BG_HEADER,\n",
    "        \"num_format\": '\"S/.\" #,##0.00',\n",
    "        **BASE_CELL,\n",
    "    },\n",
    "    \"soles\": {\"num_format\": '\"S/.\" #,##0.00', **BASE_CELL},\n",
    "    # formato de ajuste general\n",
    "    \"ajustar\": {\"align\": \"center\", \"text_wrap\": True, \"shrink\": True, **BASE_CELL},\n",
    "    \"only_border\": {\n",
    "        \"border\": 1,\n",
    "    },\n",
    "}\n",
    "\n",
    "# 4. Creación dinámica de los objetos Format\n",
    "wb_formats = {name: fmt(wb, **props) for name, props in formats.items()}\n",
    "\n",
    "# Ahora sólo usa wb_formats[\"header\"], wb_formats[\"cell_text\"], etc."
   ]
  },
  {
   "cell_type": "code",
   "execution_count": 22,
   "id": "3dcb0a09",
   "metadata": {},
   "outputs": [],
   "source": [
    "# Punto de inserción (cero-indexed)\n",
    "table_start_row = 6   # si quieres que empiece en la fila 7\n",
    "table_start_col = 1   # si quieres que empiece en la columna B"
   ]
  },
  {
   "cell_type": "code",
   "execution_count": 23,
   "id": "9075b119",
   "metadata": {},
   "outputs": [],
   "source": [
    "def merge(ws, r1, c1, r2, c2, valor, fmt):\n",
    "    \"\"\"Merge relative a table_start_* + offsets.\"\"\"\n",
    "    ws.merge_range(\n",
    "        xl_range(table_start_row + r1,\n",
    "                 table_start_col + c1,\n",
    "                 table_start_row + r2,\n",
    "                 table_start_col + c2),\n",
    "        valor, fmt\n",
    "    )"
   ]
  },
  {
   "cell_type": "code",
   "execution_count": 24,
   "id": "2a9095cc",
   "metadata": {},
   "outputs": [],
   "source": [
    "def write_rel(ws, row_offset, col_offset, value, fmt=None):\n",
    "    \"\"\"\n",
    "    Escribe en la celda (table_start_row + row_offset, table_start_col + col_offset)\n",
    "    \"\"\"\n",
    "    abs_row = table_start_row + row_offset\n",
    "    abs_col = table_start_col + col_offset\n",
    "    ws.write(abs_row, abs_col, value, fmt)\n"
   ]
  },
  {
   "cell_type": "code",
   "execution_count": 25,
   "id": "bffd1cfe",
   "metadata": {},
   "outputs": [],
   "source": [
    "# 2. Helpers con tuplas (x, y)\n",
    "\n",
    "def merge_xy(ws, start: tuple[int,int], end: tuple[int,int], value, fmt):\n",
    "    \"\"\"\n",
    "    Merge de celdas desde start=(x1, y1) hasta end=(x2, y2),\n",
    "    relativas a table_start_col/row.\n",
    "    \"\"\"\n",
    "    (x1, y1), (x2, y2) = start, end\n",
    "    ws.merge_range(\n",
    "        xl_range(\n",
    "            table_start_row + y1,  # row1 absoluto\n",
    "            table_start_col + x1,  # col1 absoluto\n",
    "            table_start_row + y2,  # row2 absoluto\n",
    "            table_start_col + x2,  # col2 absoluto\n",
    "        ),\n",
    "        value, fmt\n",
    "    )\n",
    "\n",
    "def write_xy(ws, pos: tuple[int,int], value, fmt=None):\n",
    "    \"\"\"\n",
    "    Escribe un valor en pos=(x, y) relativa a table_start_col/row.\n",
    "    \"\"\"\n",
    "    x, y = pos\n",
    "    ws.write(\n",
    "        table_start_row + y,\n",
    "        table_start_col + x,\n",
    "        value, fmt\n",
    "    )"
   ]
  },
  {
   "cell_type": "code",
   "execution_count": 26,
   "id": "af87d377",
   "metadata": {},
   "outputs": [],
   "source": [
    "def set_columns_rel(ws, rel_col_widths):\n",
    "    \"\"\"\n",
    "    Aplica ws.set_column a rangos de columnas definidos\n",
    "    en coordenadas relativas (x) a table_start_col.\n",
    "    rel_col_widths: lista de tuplas (first_rel, last_rel, width)\n",
    "    \"\"\"\n",
    "    for first_rel, last_rel, width in rel_col_widths:\n",
    "        abs_first = table_start_col + first_rel\n",
    "        abs_last  = table_start_col + last_rel\n",
    "        ws.set_column(abs_first, abs_last, width)"
   ]
  },
  {
   "cell_type": "code",
   "execution_count": 27,
   "id": "f9b459e0",
   "metadata": {},
   "outputs": [],
   "source": [
    "col_widths_rel = [\n",
    "    (0, 0, 8),  # columna B en adelante:  B–B ancho=8\n",
    "    (1, 1, 12),  # C–C ancho=30\n",
    "    (2, 2, 30),  # D–H ancho=8\n",
    "    (3, 3, 12),  # I–T ancho=8\n",
    "    (4, 4, 10),  # U–U ancho=10\n",
    "    (5, 5, 10),  # U–U ancho=10\n",
    "    (6, 6, 14),  # U–U ancho=10\n",
    "    (7, 7, 14),\n",
    "]\n",
    "\n",
    "set_columns_rel(ws, col_widths_rel)"
   ]
  },
  {
   "cell_type": "code",
   "execution_count": 28,
   "id": "26f8ca5f",
   "metadata": {},
   "outputs": [],
   "source": [
    "merge_xy(ws, (0, 0), (0, 1), \"N.º\", wb_formats[\"header\"])\n",
    "merge_xy(ws, (1, 0), (1, 1), \"Código\", wb_formats[\"header\"])\n",
    "merge_xy(ws, (2, 0), (2, 1), \"Actividades\", wb_formats[\"header\"])\n",
    "\n",
    "merge_xy(ws, (3, 0), (3, 1), \"Unidad\", wb_formats[\"header\"])\n",
    "\n",
    "merge_xy(ws, (4, 0), (5, 0), \"Cargas de trabajo\", wb_formats[\"header\"])\n",
    "\n",
    "write_xy(ws, (4, 1), \"Programacion\", wb_formats[\"header_vertical\"])\n",
    "write_xy(ws, (5, 1), \"Ejecución\", wb_formats[\"header_vertical\"])\n",
    "\n",
    "merge_xy(ws, (6, 0), (6, 1), \"Avance\", wb_formats[\"header\"])\n",
    "merge_xy(ws, (7, 0), (7, 1), \"Progresivas\", wb_formats[\"header\"])\n"
   ]
  },
  {
   "cell_type": "code",
   "execution_count": 29,
   "id": "9ad39827",
   "metadata": {},
   "outputs": [],
   "source": [
    "current_col = 0\n",
    "current_row = 2"
   ]
  },
  {
   "cell_type": "code",
   "execution_count": 30,
   "id": "ab43b56a",
   "metadata": {},
   "outputs": [
    {
     "name": "stdout",
     "output_type": "stream",
     "text": [
      "2 0\n"
     ]
    }
   ],
   "source": [
    "print(current_row, current_col)"
   ]
  },
  {
   "cell_type": "code",
   "execution_count": 31,
   "id": "8c80f912",
   "metadata": {},
   "outputs": [
    {
     "name": "stdout",
     "output_type": "stream",
     "text": [
      "<class 'numpy.float64'>\n"
     ]
    }
   ],
   "source": [
    "codigo = \"MR102\"\n",
    "mes_int = 4\n",
    "anio = 2025\n",
    "\n",
    "# Formatea el mes con dos dígitos y crea \"2025-04\"\n",
    "col = f\"{anio}-{mes_int:02d}\"\n",
    "\n",
    "valor = df.loc[codigo, col]\n",
    "print(type(valor))  # 153.14833…"
   ]
  },
  {
   "cell_type": "code",
   "execution_count": 32,
   "id": "09dc54f0",
   "metadata": {},
   "outputs": [
    {
     "name": "stdout",
     "output_type": "stream",
     "text": [
      "Valores entre 100 al 199!\n",
      "  MR101: 3.6\n",
      "{'key': 'MR100', 'value': {'label': 'Conservación de calzada', 'value': [{'key': 'MR101', 'value': {'label': 'Limpieza de calzada', 'carga_trabajo': 3.6, 'unidad': 'Km'}}, {'key': 'MR102', 'value': {'label': 'Bacheo', 'carga_trabajo': 360, 'unidad': 'm2'}}, {'key': 'MR103', 'value': {'label': 'Desquinche', 'carga_trabajo': 0, 'unidad': 'm3'}}, {'key': 'MR104', 'value': {'label': 'Remoción de derrumbes', 'carga_trabajo': 9, 'unidad': 'm3'}}]}}\n",
      "  MR102: 360\n",
      "{'key': 'MR100', 'value': {'label': 'Conservación de calzada', 'value': [{'key': 'MR101', 'value': {'label': 'Limpieza de calzada', 'carga_trabajo': 3.6, 'unidad': 'Km'}}, {'key': 'MR102', 'value': {'label': 'Bacheo', 'carga_trabajo': 360, 'unidad': 'm2'}}, {'key': 'MR103', 'value': {'label': 'Desquinche', 'carga_trabajo': 0, 'unidad': 'm3'}}, {'key': 'MR104', 'value': {'label': 'Remoción de derrumbes', 'carga_trabajo': 9, 'unidad': 'm3'}}]}}\n",
      "  MR104: 9\n",
      "{'key': 'MR100', 'value': {'label': 'Conservación de calzada', 'value': [{'key': 'MR101', 'value': {'label': 'Limpieza de calzada', 'carga_trabajo': 3.6, 'unidad': 'Km'}}, {'key': 'MR102', 'value': {'label': 'Bacheo', 'carga_trabajo': 360, 'unidad': 'm2'}}, {'key': 'MR103', 'value': {'label': 'Desquinche', 'carga_trabajo': 0, 'unidad': 'm3'}}, {'key': 'MR104', 'value': {'label': 'Remoción de derrumbes', 'carga_trabajo': 9, 'unidad': 'm3'}}]}}\n",
      "Valores entre 200 al 299!\n",
      "  MR201: 1440\n",
      "{'key': 'MR200', 'value': {'label': 'Limpieza de obras de arte', 'value': [{'key': 'MR201', 'value': {'label': 'Limpieza de cunetas', 'carga_trabajo': 1440, 'unidad': 'm'}}, {'key': 'MR202', 'value': {'label': 'Limpieza de alcantarillas', 'carga_trabajo': 0, 'unidad': 'unidad'}}, {'key': 'MR203', 'value': {'label': 'Limpieza de badén', 'carga_trabajo': 0, 'unidad': 'm2'}}, {'key': 'MR204', 'value': {'label': 'Limpieza de zanjas de coronación', 'carga_trabajo': 0, 'unidad': 'm'}}, {'key': 'MR205', 'value': {'label': 'Limpieza de pontones', 'carga_trabajo': 0, 'unidad': 'unidad'}}, {'key': 'MR206', 'value': {'label': 'Encausamiento de pequeños cursos de agua', 'carga_trabajo': 0, 'unidad': 'm'}}]}}\n",
      "Valores entre 400 al 499!\n",
      "  MR401: 10\n",
      "{'key': 'MR400', 'value': {'label': 'Seguridad vial', 'value': [{'key': 'MR401', 'value': {'label': 'Conservación de señales', 'carga_trabajo': 10, 'unidad': 'unidad'}}]}}\n"
     ]
    }
   ],
   "source": [
    "columnas_insertadas = 0\n",
    "\n",
    "impresos = set()\n",
    "\n",
    "contador_items = 1\n",
    "\n",
    "for grupo, elementos in itertools.groupby(cargas_trabajo_ordenadas, clave_grupo):\n",
    "    current_col = 0\n",
    "\n",
    "    # codigo=int(carga_trabajo['key'][2:])\n",
    "    # grupo=codigo//100\n",
    "    # print(grupo)\n",
    "\n",
    "    inicio = grupo * 100\n",
    "    fin = inicio + 99\n",
    "\n",
    "    print(f\"Valores entre {inicio} al {fin}!\")\n",
    "    resultado = next(\n",
    "        (item for item in actividades if item[\"key\"] == f\"MR{inicio}\"), None\n",
    "    )\n",
    "    # print(resultado)\n",
    "\n",
    "    write_xy(ws, (current_col, current_row), \"\", wb_formats[\"cell_text\"])  # numero\n",
    "    current_col += 1\n",
    "    write_xy(\n",
    "        ws, (current_col, current_row), resultado[\"key\"], wb_formats[\"cell_text\"]\n",
    "    )  # codigo\n",
    "    current_col += 1\n",
    "    write_xy(\n",
    "        ws,\n",
    "        (current_col, current_row),\n",
    "        resultado[\"value\"][\"label\"],\n",
    "        wb_formats[\"cell_text\"],\n",
    "    )  #\n",
    "\n",
    "    current_row += 1\n",
    "\n",
    "    for it in elementos:\n",
    "        current_col = 0\n",
    "        print(f\"  {it['key']}: {it['value']}\")\n",
    "\n",
    "        resultado2 = next(\n",
    "            (item for item in resultado[\"value\"][\"value\"] if item[\"key\"] == it[\"key\"]),\n",
    "            None,\n",
    "        )\n",
    "        print(resultado)\n",
    "\n",
    "        write_xy(\n",
    "            ws, (current_col, current_row), contador_items, wb_formats[\"cell_int\"]\n",
    "        )  # numero\n",
    "        current_col += 1\n",
    "        write_xy(\n",
    "            ws, (current_col, current_row), resultado2[\"key\"], wb_formats[\"cell_text\"]\n",
    "        )\n",
    "        current_col += 1\n",
    "        write_xy(\n",
    "            ws,\n",
    "            (current_col, current_row),\n",
    "            resultado2[\"value\"][\"label\"],\n",
    "            wb_formats[\"cell_text\"],\n",
    "        )\n",
    "        current_col += 1\n",
    "        write_xy(\n",
    "            ws,\n",
    "            (current_col, current_row),\n",
    "            resultado2[\"value\"][\"unidad\"],\n",
    "            wb_formats[\"cell_text\"],\n",
    "        )\n",
    "        current_col += 1\n",
    "        write_xy(\n",
    "            ws,\n",
    "            (current_col, current_row),\n",
    "            df.loc[it[\"key\"], f\"{anio}-{mes:02d}\"],\n",
    "            wb_formats[\"cell_number\"],\n",
    "        )\n",
    "        current_col += 1\n",
    "        write_xy(\n",
    "            ws,\n",
    "            (current_col, current_row),\n",
    "            cargas_trabajo[it[\"key\"]],\n",
    "            wb_formats[\"cell_number\"],\n",
    "        )\n",
    "        current_col += 1\n",
    "\n",
    "        avance = calcular_avance(\n",
    "            programado=df.loc[it[\"key\"], f\"{anio}-{mes:02d}\"],\n",
    "            ejecutado=cargas_trabajo[it[\"key\"]],\n",
    "        )\n",
    "        write_xy(\n",
    "            ws,\n",
    "            (current_col, current_row),\n",
    "            avance,\n",
    "            wb_formats[\"cell_number_percent\"],\n",
    "        )\n",
    "        current_col += 1\n",
    "\n",
    "        progresivas = (\n",
    "            formatear_progresiva(progresiva_inicio)\n",
    "            + \" - \"\n",
    "            + formatear_progresiva(progresiva_fin)\n",
    "        )\n",
    "        write_xy(\n",
    "            ws,\n",
    "            (current_col, current_row),\n",
    "            progresivas,\n",
    "            wb_formats[\"cell_number_percent\"],\n",
    "        )\n",
    "        current_col += 1\n",
    "\n",
    "        #######3\n",
    "        contador_items += 1\n",
    "        current_row += 1"
   ]
  },
  {
   "cell_type": "code",
   "execution_count": 33,
   "id": "11e8bccc",
   "metadata": {},
   "outputs": [
    {
     "name": "stdout",
     "output_type": "stream",
     "text": [
      "10 8\n"
     ]
    }
   ],
   "source": [
    "print(current_row, current_col)"
   ]
  },
  {
   "cell_type": "code",
   "execution_count": 34,
   "id": "ff6aa31e",
   "metadata": {},
   "outputs": [
    {
     "name": "stdout",
     "output_type": "stream",
     "text": [
      "B7:I16\n"
     ]
    }
   ],
   "source": [
    "print(\n",
    "    xl_range(\n",
    "        table_start_row,\n",
    "        table_start_col,\n",
    "        table_start_row + current_row-1,\n",
    "        table_start_col+current_col-1,\n",
    "    ),\n",
    ")"
   ]
  },
  {
   "cell_type": "code",
   "execution_count": 35,
   "id": "4806850d",
   "metadata": {},
   "outputs": [
    {
     "data": {
      "text/plain": [
       "0"
      ]
     },
     "execution_count": 35,
     "metadata": {},
     "output_type": "execute_result"
    }
   ],
   "source": [
    "# colocar grilla  a toda la tabla\n",
    "ws.conditional_format(\n",
    "    xl_range(\n",
    "        table_start_row,\n",
    "        table_start_col,\n",
    "        table_start_row + current_row - 1,\n",
    "        table_start_col + current_col - 1,\n",
    "    ),\n",
    "    {\"type\": \"no_errors\", \"format\": wb_formats[\"only_border\"]},\n",
    ")"
   ]
  },
  {
   "cell_type": "code",
   "execution_count": 36,
   "id": "0d1dbea4",
   "metadata": {},
   "outputs": [],
   "source": [
    "# Guardar archivo\n",
    "wb.close()"
   ]
  },
  {
   "cell_type": "code",
   "execution_count": 37,
   "id": "5e3ba6ae",
   "metadata": {},
   "outputs": [
    {
     "name": "stdout",
     "output_type": "stream",
     "text": [
      "Imagen generada: cargas_trabajo.png\n"
     ]
    }
   ],
   "source": [
    "# 1. Carga el libro y la hoja\n",
    "\n",
    "wb = load_workbook(ruta_archivo, data_only=True)\n",
    "ws = wb.active  # o wb[\"NombreHoja\"]\n",
    "\n",
    "# 2. Determina el rango usado\n",
    "min_row, min_col = ws.min_row, ws.min_column\n",
    "max_row, max_col = ws.max_row, ws.max_column\n",
    "rango = f\"{get_column_letter(min_col)}{min_row}:{get_column_letter(max_col)}{max_row}\"\n",
    "\n",
    "# 3. Exporta a PNG\n",
    "salida_png = f\"cargas_trabajo.png\"\n",
    "ruta_salida_image= os.path.join(ruta_directorio, salida_png)\n",
    "excel2img.export_img(ruta_archivo, ruta_salida_image, ws.title, rango)\n",
    "\n",
    "print(f\"Imagen generada: {salida_png}\")\n"
   ]
  }
 ],
 "metadata": {
  "kernelspec": {
   "display_name": ".venv",
   "language": "python",
   "name": "python3"
  },
  "language_info": {
   "codemirror_mode": {
    "name": "ipython",
    "version": 3
   },
   "file_extension": ".py",
   "mimetype": "text/x-python",
   "name": "python",
   "nbconvert_exporter": "python",
   "pygments_lexer": "ipython3",
   "version": "3.12.4"
  }
 },
 "nbformat": 4,
 "nbformat_minor": 5
}
