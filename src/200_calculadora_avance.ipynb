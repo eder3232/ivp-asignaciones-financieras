{
 "cells": [
  {
   "cell_type": "markdown",
   "id": "8804acd8",
   "metadata": {},
   "source": [
    "# Calculadora de avance"
   ]
  },
  {
   "cell_type": "code",
   "execution_count": 151,
   "id": "8a15bcd8",
   "metadata": {},
   "outputs": [],
   "source": [
    "import pandas as pd\n",
    "import os\n",
    "import pickle\n",
    "import json\n",
    "import xlsxwriter\n",
    "from xlsxwriter.utility import xl_range, xl_rowcol_to_cell\n",
    "import re\n",
    "from typing import Dict, List, Any\n",
    "import itertools\n",
    "\n",
    "from pathlib import Path\n",
    "from dotenv import load_dotenv, find_dotenv\n",
    "from google.oauth2 import service_account\n",
    "from google.cloud import firestore\n",
    "\n",
    "import firebase_admin\n",
    "import excel2img\n",
    "from openpyxl import load_workbook\n",
    "from openpyxl.utils import get_column_letter"
   ]
  },
  {
   "cell_type": "markdown",
   "id": "bdcd2778",
   "metadata": {},
   "source": [
    "## Datos del proyecto en análisis"
   ]
  },
  {
   "cell_type": "code",
   "execution_count": 152,
   "id": "b0f46385",
   "metadata": {},
   "outputs": [],
   "source": [
    "proyecto=\"sibayo\"\n",
    "mes=4\n",
    "anio=2025"
   ]
  },
  {
   "cell_type": "markdown",
   "id": "8a0f343a",
   "metadata": {},
   "source": [
    "## Datos de Firestore"
   ]
  },
  {
   "cell_type": "code",
   "execution_count": 153,
   "id": "a6c2b295",
   "metadata": {},
   "outputs": [
    {
     "name": "stdout",
     "output_type": "stream",
     "text": [
      "Colecciones disponibles: ['rutinarios']\n"
     ]
    }
   ],
   "source": [
    "## Datos de # 1. Busca el .env en el directorio actual o en cualquiera de los padres\n",
    "dotenv_path = find_dotenv()\n",
    "if not dotenv_path:\n",
    "    raise FileNotFoundError(\"No se encontró ningún archivo .env en este directorio ni en sus padres.\")\n",
    "load_dotenv(dotenv_path)\n",
    "\n",
    "# 2. Define el root del proyecto como la carpeta que contiene el .env\n",
    "project_root = Path(dotenv_path).parent\n",
    "\n",
    "# 3. Obtén la ruta relativa de las credenciales desde la variable de entorno\n",
    "rel_cred_path = os.getenv(\"FIRESTORE_CREDENTIALS\")\n",
    "if not rel_cred_path:\n",
    "    raise RuntimeError(\"No existe la variable FIRESTORE_CREDENTIALS en el .env\")\n",
    "\n",
    "# 4. Construye la ruta absoluta al JSON\n",
    "cred_path = Path(rel_cred_path)\n",
    "if not cred_path.is_absolute():\n",
    "    cred_path = (project_root / cred_path).resolve()\n",
    "\n",
    "if not cred_path.exists():\n",
    "    raise FileNotFoundError(f\"No existe el archivo de credenciales en: {cred_path}\")\n",
    "\n",
    "# 5. Carga las credenciales y crea el cliente de Firestore\n",
    "credentials = service_account.Credentials.from_service_account_file(str(cred_path))\n",
    "client = firestore.Client(credentials=credentials, project=credentials.project_id)\n",
    "\n",
    "# 6. Prueba que funcione\n",
    "print(\"Colecciones disponibles:\", [c.id for c in client.collections()])"
   ]
  },
  {
   "cell_type": "code",
   "execution_count": 154,
   "id": "dd491310",
   "metadata": {},
   "outputs": [],
   "source": [
    "db=firestore.Client(credentials=credentials, project=credentials.project_id)"
   ]
  },
  {
   "cell_type": "code",
   "execution_count": 155,
   "id": "052ed263",
   "metadata": {},
   "outputs": [
    {
     "name": "stdout",
     "output_type": "stream",
     "text": [
      "{'cargas_trabajo_contratista': {'MR101': 0.86, 'MR202': 6.0, 'MR301': 3600.0, 'MR601': 64.5, 'MR201': 2720.0, 'MR401': 5}}\n"
     ]
    }
   ],
   "source": [
    "# 4. Define la ruta a tu documento anidado\n",
    "colec_raiz = \"rutinarios\"\n",
    "doc_proyecto = proyecto     # puede ser tu variable proyecto\n",
    "colec_valoriz = \"valorizaciones\"\n",
    "id_valoriz = str(mes)\n",
    "\n",
    "doc_ref = (\n",
    "    db\n",
    "    .collection(colec_raiz)\n",
    "    .document(doc_proyecto)\n",
    "    .collection(colec_valoriz)\n",
    "    .document(id_valoriz)\n",
    ")\n",
    "\n",
    "data_mantenimiento_snapshot=doc_ref.get()\n",
    "\n",
    "if not data_mantenimiento_snapshot.exists:\n",
    "    print(f\"El documento {doc_ref.path} no existe.\")\n",
    "\n",
    "data_mantenimiento= data_mantenimiento_snapshot.to_dict()\n",
    "print(data_mantenimiento)"
   ]
  },
  {
   "cell_type": "code",
   "execution_count": 156,
   "id": "69a3f776",
   "metadata": {},
   "outputs": [],
   "source": [
    "cargas_trabajo_contratista_presente_mes=data_mantenimiento['cargas_trabajo_contratista']"
   ]
  },
  {
   "cell_type": "code",
   "execution_count": 157,
   "id": "c274ff4c",
   "metadata": {},
   "outputs": [
    {
     "name": "stdout",
     "output_type": "stream",
     "text": [
      "{'otros': {'tipo_superficie': 'Asfaltado', 'estado_conservacion_via': 'regular'}, 'other': {'tipo_superficie': 'Asfaltado', 'estado_conservacion_via': 'regular'}, 'expediente': {'codigo_ruta': 'AR-683', 'monto_total': 206413.0, 'coordenadas': {'fin': {'hemisferio': 'S', 'y': 8270075.15, 'progresiva': 32252.0, 'zona_letra': None, 'x': 220383.97, 'datum': 'WGS84', 'altitud': 3629, 'zona': None}, 'inicio': {'hemisferio': 'S', 'y': 8281146.79, 'progresiva': 0, 'zona_letra': None, 'x': 226316.6, 'datum': 'WGS84', 'altitud': 3820, 'zona': None}}, 'nombre': 'MANTENIMIENTO VIAL RUTINARIO CAMINO VECINAL EMP. AR-111 (NUEVO SIBAYO) - TUTI - EMP.AR-681 (DV. CHIVAY), DISTRITOS DE CHIVAY, TUTI Y SIBAYO, PROVINCIA DE CAYLLOMA, DEPARTAMENTO DE AREQUIPA', 'longitud': 32252.0}, 'datos_generales': {'distritos': ['Chivay', 'Tuti', 'Sibayo'], 'region': 'Arequipa', 'provincia': 'Caylloma'}, 'contrato': {'jefe_mantenimiento': {'titulo': 'Ingeniero', 'nombre': 'Genaro', 'dni': 0, 'apellido': 'Tinta Cáceres'}, 'numero_trabajadores': 3, 'denominacion_tramo_convenio': 'Emp. AR-111 (Nuevo Sibayo - Tuti - Emp. Ar-681 (Dv. Chivay)', 'numero_cuadrillas': 1, 'tipo_servicio': 'mantenimiento rutinario', 'fecha_inicio': {'anio': 2025, 'mes': 4, 'dia': 15}, 'id_contrato': '004-2025', 'monto_contrato': 165130.4, 'contratista': {'razon_social': 'PLATERS MANAGEMENT S.A.C.', 'ruc': ''}, 'tiempo_ejecucion_dias': 240}, 'general_data': {'distritos': ['Chivay', 'Tuti', 'Sibayo'], 'region': 'Arequipa', 'provincia': 'Caylloma'}}\n"
     ]
    }
   ],
   "source": [
    "data_mantenimiento=db.collection(\"rutinarios\").document(proyecto).get()\n",
    "if data_mantenimiento.exists:\n",
    "    print(data_mantenimiento.to_dict())\n",
    "else:\n",
    "    print(\"No existe el documento.\")"
   ]
  },
  {
   "cell_type": "code",
   "execution_count": 158,
   "id": "fc963fc0",
   "metadata": {},
   "outputs": [
    {
     "name": "stdout",
     "output_type": "stream",
     "text": [
      "0\n",
      "32252.0\n"
     ]
    }
   ],
   "source": [
    "progresiva_inicio=data_mantenimiento.to_dict()[\"expediente\"][\"coordenadas\"][\"inicio\"][\"progresiva\"]\n",
    "progresiva_fin=data_mantenimiento.to_dict()[\"expediente\"][\"coordenadas\"][\"fin\"][\"progresiva\"]\n",
    "\n",
    "print(progresiva_inicio)\n",
    "print(progresiva_fin)"
   ]
  },
  {
   "cell_type": "markdown",
   "id": "a7933c2f",
   "metadata": {},
   "source": [
    "## Cargando cargas de trabajo programadas"
   ]
  },
  {
   "cell_type": "code",
   "execution_count": 159,
   "id": "d658f08e",
   "metadata": {},
   "outputs": [
    {
     "data": {
      "text/html": [
       "<div>\n",
       "<style scoped>\n",
       "    .dataframe tbody tr th:only-of-type {\n",
       "        vertical-align: middle;\n",
       "    }\n",
       "\n",
       "    .dataframe tbody tr th {\n",
       "        vertical-align: top;\n",
       "    }\n",
       "\n",
       "    .dataframe thead th {\n",
       "        text-align: right;\n",
       "    }\n",
       "</style>\n",
       "<table border=\"1\" class=\"dataframe\">\n",
       "  <thead>\n",
       "    <tr style=\"text-align: right;\">\n",
       "      <th></th>\n",
       "      <th>2025-04</th>\n",
       "      <th>2025-05</th>\n",
       "      <th>2025-06</th>\n",
       "      <th>2025-07</th>\n",
       "      <th>2025-08</th>\n",
       "      <th>2025-09</th>\n",
       "      <th>2025-10</th>\n",
       "      <th>2025-11</th>\n",
       "      <th>2025-12</th>\n",
       "      <th>TOTAL</th>\n",
       "    </tr>\n",
       "    <tr>\n",
       "      <th>codigo</th>\n",
       "      <th></th>\n",
       "      <th></th>\n",
       "      <th></th>\n",
       "      <th></th>\n",
       "      <th></th>\n",
       "      <th></th>\n",
       "      <th></th>\n",
       "      <th></th>\n",
       "      <th></th>\n",
       "      <th></th>\n",
       "    </tr>\n",
       "  </thead>\n",
       "  <tbody>\n",
       "    <tr>\n",
       "      <th>MR111</th>\n",
       "      <td>92.230488</td>\n",
       "      <td>202.907073</td>\n",
       "      <td>184.460976</td>\n",
       "      <td>202.907073</td>\n",
       "      <td>202.907073</td>\n",
       "      <td>184.460976</td>\n",
       "      <td>202.907073</td>\n",
       "      <td>184.460976</td>\n",
       "      <td>55.338293</td>\n",
       "      <td>1512.58</td>\n",
       "    </tr>\n",
       "    <tr>\n",
       "      <th>MR112</th>\n",
       "      <td>52.500000</td>\n",
       "      <td>87.500000</td>\n",
       "      <td>87.500000</td>\n",
       "      <td>87.500000</td>\n",
       "      <td>87.500000</td>\n",
       "      <td>87.500000</td>\n",
       "      <td>87.500000</td>\n",
       "      <td>87.500000</td>\n",
       "      <td>35.000000</td>\n",
       "      <td>700.00</td>\n",
       "    </tr>\n",
       "    <tr>\n",
       "      <th>MR201</th>\n",
       "      <td>2205.681818</td>\n",
       "      <td>4411.363636</td>\n",
       "      <td>3676.136364</td>\n",
       "      <td>4411.363636</td>\n",
       "      <td>4411.363636</td>\n",
       "      <td>3676.136364</td>\n",
       "      <td>4411.363636</td>\n",
       "      <td>3676.136364</td>\n",
       "      <td>1470.454545</td>\n",
       "      <td>32350.00</td>\n",
       "    </tr>\n",
       "    <tr>\n",
       "      <th>MR202</th>\n",
       "      <td>3.059118</td>\n",
       "      <td>5.098529</td>\n",
       "      <td>4.078824</td>\n",
       "      <td>4.078824</td>\n",
       "      <td>4.078824</td>\n",
       "      <td>4.078824</td>\n",
       "      <td>4.078824</td>\n",
       "      <td>4.078824</td>\n",
       "      <td>2.039412</td>\n",
       "      <td>34.67</td>\n",
       "    </tr>\n",
       "    <tr>\n",
       "      <th>MR203</th>\n",
       "      <td>0.000000</td>\n",
       "      <td>0.000000</td>\n",
       "      <td>0.000000</td>\n",
       "      <td>0.000000</td>\n",
       "      <td>0.000000</td>\n",
       "      <td>0.000000</td>\n",
       "      <td>0.000000</td>\n",
       "      <td>0.000000</td>\n",
       "      <td>0.000000</td>\n",
       "      <td>0.00</td>\n",
       "    </tr>\n",
       "    <tr>\n",
       "      <th>MR204</th>\n",
       "      <td>0.000000</td>\n",
       "      <td>0.000000</td>\n",
       "      <td>0.000000</td>\n",
       "      <td>0.000000</td>\n",
       "      <td>0.000000</td>\n",
       "      <td>0.000000</td>\n",
       "      <td>0.000000</td>\n",
       "      <td>0.000000</td>\n",
       "      <td>0.000000</td>\n",
       "      <td>0.00</td>\n",
       "    </tr>\n",
       "    <tr>\n",
       "      <th>MR205</th>\n",
       "      <td>0.000000</td>\n",
       "      <td>0.000000</td>\n",
       "      <td>0.000000</td>\n",
       "      <td>0.000000</td>\n",
       "      <td>0.000000</td>\n",
       "      <td>0.000000</td>\n",
       "      <td>0.000000</td>\n",
       "      <td>0.000000</td>\n",
       "      <td>0.000000</td>\n",
       "      <td>0.00</td>\n",
       "    </tr>\n",
       "    <tr>\n",
       "      <th>MR206</th>\n",
       "      <td>0.000000</td>\n",
       "      <td>0.000000</td>\n",
       "      <td>0.000000</td>\n",
       "      <td>0.000000</td>\n",
       "      <td>0.000000</td>\n",
       "      <td>0.000000</td>\n",
       "      <td>0.000000</td>\n",
       "      <td>0.000000</td>\n",
       "      <td>0.000000</td>\n",
       "      <td>0.00</td>\n",
       "    </tr>\n",
       "    <tr>\n",
       "      <th>MR301</th>\n",
       "      <td>1999.875000</td>\n",
       "      <td>1999.875000</td>\n",
       "      <td>1999.875000</td>\n",
       "      <td>1999.875000</td>\n",
       "      <td>1999.875000</td>\n",
       "      <td>1999.875000</td>\n",
       "      <td>1999.875000</td>\n",
       "      <td>1999.875000</td>\n",
       "      <td>0.000000</td>\n",
       "      <td>15999.00</td>\n",
       "    </tr>\n",
       "    <tr>\n",
       "      <th>MR401</th>\n",
       "      <td>0.000000</td>\n",
       "      <td>0.000000</td>\n",
       "      <td>16.167500</td>\n",
       "      <td>0.000000</td>\n",
       "      <td>0.000000</td>\n",
       "      <td>16.167500</td>\n",
       "      <td>16.167500</td>\n",
       "      <td>16.167500</td>\n",
       "      <td>0.000000</td>\n",
       "      <td>64.67</td>\n",
       "    </tr>\n",
       "    <tr>\n",
       "      <th>MR501</th>\n",
       "      <td>0.000000</td>\n",
       "      <td>0.000000</td>\n",
       "      <td>0.000000</td>\n",
       "      <td>0.000000</td>\n",
       "      <td>0.000000</td>\n",
       "      <td>0.000000</td>\n",
       "      <td>0.000000</td>\n",
       "      <td>0.000000</td>\n",
       "      <td>0.000000</td>\n",
       "      <td>0.00</td>\n",
       "    </tr>\n",
       "    <tr>\n",
       "      <th>MR601</th>\n",
       "      <td>0.000000</td>\n",
       "      <td>0.000000</td>\n",
       "      <td>43.003333</td>\n",
       "      <td>43.003333</td>\n",
       "      <td>43.003333</td>\n",
       "      <td>43.003333</td>\n",
       "      <td>43.003333</td>\n",
       "      <td>43.003333</td>\n",
       "      <td>0.000000</td>\n",
       "      <td>258.02</td>\n",
       "    </tr>\n",
       "    <tr>\n",
       "      <th>MR701</th>\n",
       "      <td>0.000000</td>\n",
       "      <td>0.000000</td>\n",
       "      <td>0.000000</td>\n",
       "      <td>0.000000</td>\n",
       "      <td>0.000000</td>\n",
       "      <td>0.000000</td>\n",
       "      <td>0.000000</td>\n",
       "      <td>0.000000</td>\n",
       "      <td>0.000000</td>\n",
       "      <td>0.00</td>\n",
       "    </tr>\n",
       "    <tr>\n",
       "      <th>MR702</th>\n",
       "      <td>0.000000</td>\n",
       "      <td>0.000000</td>\n",
       "      <td>0.000000</td>\n",
       "      <td>0.000000</td>\n",
       "      <td>0.000000</td>\n",
       "      <td>0.000000</td>\n",
       "      <td>0.000000</td>\n",
       "      <td>0.000000</td>\n",
       "      <td>0.000000</td>\n",
       "      <td>0.00</td>\n",
       "    </tr>\n",
       "    <tr>\n",
       "      <th>TOTAL</th>\n",
       "      <td>0.000000</td>\n",
       "      <td>0.000000</td>\n",
       "      <td>0.000000</td>\n",
       "      <td>0.000000</td>\n",
       "      <td>0.000000</td>\n",
       "      <td>0.000000</td>\n",
       "      <td>0.000000</td>\n",
       "      <td>0.000000</td>\n",
       "      <td>0.000000</td>\n",
       "      <td>0.00</td>\n",
       "    </tr>\n",
       "  </tbody>\n",
       "</table>\n",
       "</div>"
      ],
      "text/plain": [
       "            2025-04      2025-05      2025-06      2025-07      2025-08  \\\n",
       "codigo                                                                    \n",
       "MR111     92.230488   202.907073   184.460976   202.907073   202.907073   \n",
       "MR112     52.500000    87.500000    87.500000    87.500000    87.500000   \n",
       "MR201   2205.681818  4411.363636  3676.136364  4411.363636  4411.363636   \n",
       "MR202      3.059118     5.098529     4.078824     4.078824     4.078824   \n",
       "MR203      0.000000     0.000000     0.000000     0.000000     0.000000   \n",
       "MR204      0.000000     0.000000     0.000000     0.000000     0.000000   \n",
       "MR205      0.000000     0.000000     0.000000     0.000000     0.000000   \n",
       "MR206      0.000000     0.000000     0.000000     0.000000     0.000000   \n",
       "MR301   1999.875000  1999.875000  1999.875000  1999.875000  1999.875000   \n",
       "MR401      0.000000     0.000000    16.167500     0.000000     0.000000   \n",
       "MR501      0.000000     0.000000     0.000000     0.000000     0.000000   \n",
       "MR601      0.000000     0.000000    43.003333    43.003333    43.003333   \n",
       "MR701      0.000000     0.000000     0.000000     0.000000     0.000000   \n",
       "MR702      0.000000     0.000000     0.000000     0.000000     0.000000   \n",
       "TOTAL      0.000000     0.000000     0.000000     0.000000     0.000000   \n",
       "\n",
       "            2025-09      2025-10      2025-11      2025-12     TOTAL  \n",
       "codigo                                                                \n",
       "MR111    184.460976   202.907073   184.460976    55.338293   1512.58  \n",
       "MR112     87.500000    87.500000    87.500000    35.000000    700.00  \n",
       "MR201   3676.136364  4411.363636  3676.136364  1470.454545  32350.00  \n",
       "MR202      4.078824     4.078824     4.078824     2.039412     34.67  \n",
       "MR203      0.000000     0.000000     0.000000     0.000000      0.00  \n",
       "MR204      0.000000     0.000000     0.000000     0.000000      0.00  \n",
       "MR205      0.000000     0.000000     0.000000     0.000000      0.00  \n",
       "MR206      0.000000     0.000000     0.000000     0.000000      0.00  \n",
       "MR301   1999.875000  1999.875000  1999.875000     0.000000  15999.00  \n",
       "MR401     16.167500    16.167500    16.167500     0.000000     64.67  \n",
       "MR501      0.000000     0.000000     0.000000     0.000000      0.00  \n",
       "MR601     43.003333    43.003333    43.003333     0.000000    258.02  \n",
       "MR701      0.000000     0.000000     0.000000     0.000000      0.00  \n",
       "MR702      0.000000     0.000000     0.000000     0.000000      0.00  \n",
       "TOTAL      0.000000     0.000000     0.000000     0.000000      0.00  "
      ]
     },
     "execution_count": 159,
     "metadata": {},
     "output_type": "execute_result"
    }
   ],
   "source": [
    "# Concatenar la ruta completa al archivo .pkl\n",
    "ruta_archivo = os.path.join(\"data\",proyecto, f\"{proyecto}_cargas_trabajo.pkl\")\n",
    "\n",
    "# Leer el archivo pickle\n",
    "with open(ruta_archivo, \"rb\") as f:\n",
    "    df_cargas_trabajo_programadas = pickle.load(f)\n",
    "\n",
    "df_cargas_trabajo_programadas.tail(15)"
   ]
  },
  {
   "cell_type": "code",
   "execution_count": 160,
   "id": "60f6ece7",
   "metadata": {},
   "outputs": [],
   "source": [
    "#eliminando el total\n",
    "df_cargas_trabajo_programadas = df_cargas_trabajo_programadas.iloc[:-1]"
   ]
  },
  {
   "cell_type": "code",
   "execution_count": 161,
   "id": "704eb960",
   "metadata": {},
   "outputs": [
    {
     "data": {
      "text/html": [
       "<div>\n",
       "<style scoped>\n",
       "    .dataframe tbody tr th:only-of-type {\n",
       "        vertical-align: middle;\n",
       "    }\n",
       "\n",
       "    .dataframe tbody tr th {\n",
       "        vertical-align: top;\n",
       "    }\n",
       "\n",
       "    .dataframe thead th {\n",
       "        text-align: right;\n",
       "    }\n",
       "</style>\n",
       "<table border=\"1\" class=\"dataframe\">\n",
       "  <thead>\n",
       "    <tr style=\"text-align: right;\">\n",
       "      <th></th>\n",
       "      <th>2025-04</th>\n",
       "      <th>2025-05</th>\n",
       "      <th>2025-06</th>\n",
       "      <th>2025-07</th>\n",
       "      <th>2025-08</th>\n",
       "      <th>2025-09</th>\n",
       "      <th>2025-10</th>\n",
       "      <th>2025-11</th>\n",
       "      <th>2025-12</th>\n",
       "      <th>TOTAL</th>\n",
       "    </tr>\n",
       "  </thead>\n",
       "  <tbody>\n",
       "    <tr>\n",
       "      <th>MR111</th>\n",
       "      <td>5</td>\n",
       "      <td>11</td>\n",
       "      <td>10</td>\n",
       "      <td>11</td>\n",
       "      <td>11</td>\n",
       "      <td>10</td>\n",
       "      <td>11</td>\n",
       "      <td>10</td>\n",
       "      <td>3</td>\n",
       "      <td>82</td>\n",
       "    </tr>\n",
       "    <tr>\n",
       "      <th>MR112</th>\n",
       "      <td>3</td>\n",
       "      <td>5</td>\n",
       "      <td>5</td>\n",
       "      <td>5</td>\n",
       "      <td>5</td>\n",
       "      <td>5</td>\n",
       "      <td>5</td>\n",
       "      <td>5</td>\n",
       "      <td>2</td>\n",
       "      <td>40</td>\n",
       "    </tr>\n",
       "    <tr>\n",
       "      <th>MR201</th>\n",
       "      <td>3</td>\n",
       "      <td>6</td>\n",
       "      <td>5</td>\n",
       "      <td>6</td>\n",
       "      <td>6</td>\n",
       "      <td>5</td>\n",
       "      <td>6</td>\n",
       "      <td>5</td>\n",
       "      <td>2</td>\n",
       "      <td>44</td>\n",
       "    </tr>\n",
       "    <tr>\n",
       "      <th>MR202</th>\n",
       "      <td>3</td>\n",
       "      <td>5</td>\n",
       "      <td>4</td>\n",
       "      <td>4</td>\n",
       "      <td>4</td>\n",
       "      <td>4</td>\n",
       "      <td>4</td>\n",
       "      <td>4</td>\n",
       "      <td>2</td>\n",
       "      <td>34</td>\n",
       "    </tr>\n",
       "    <tr>\n",
       "      <th>MR203</th>\n",
       "      <td>0</td>\n",
       "      <td>0</td>\n",
       "      <td>0</td>\n",
       "      <td>0</td>\n",
       "      <td>0</td>\n",
       "      <td>0</td>\n",
       "      <td>0</td>\n",
       "      <td>0</td>\n",
       "      <td>0</td>\n",
       "      <td>0</td>\n",
       "    </tr>\n",
       "    <tr>\n",
       "      <th>MR204</th>\n",
       "      <td>0</td>\n",
       "      <td>0</td>\n",
       "      <td>0</td>\n",
       "      <td>0</td>\n",
       "      <td>0</td>\n",
       "      <td>0</td>\n",
       "      <td>0</td>\n",
       "      <td>0</td>\n",
       "      <td>0</td>\n",
       "      <td>0</td>\n",
       "    </tr>\n",
       "    <tr>\n",
       "      <th>MR205</th>\n",
       "      <td>0</td>\n",
       "      <td>0</td>\n",
       "      <td>0</td>\n",
       "      <td>0</td>\n",
       "      <td>0</td>\n",
       "      <td>0</td>\n",
       "      <td>0</td>\n",
       "      <td>0</td>\n",
       "      <td>0</td>\n",
       "      <td>0</td>\n",
       "    </tr>\n",
       "    <tr>\n",
       "      <th>MR206</th>\n",
       "      <td>0</td>\n",
       "      <td>0</td>\n",
       "      <td>0</td>\n",
       "      <td>0</td>\n",
       "      <td>0</td>\n",
       "      <td>0</td>\n",
       "      <td>0</td>\n",
       "      <td>0</td>\n",
       "      <td>0</td>\n",
       "      <td>0</td>\n",
       "    </tr>\n",
       "    <tr>\n",
       "      <th>MR301</th>\n",
       "      <td>1</td>\n",
       "      <td>1</td>\n",
       "      <td>1</td>\n",
       "      <td>1</td>\n",
       "      <td>1</td>\n",
       "      <td>1</td>\n",
       "      <td>1</td>\n",
       "      <td>1</td>\n",
       "      <td>0</td>\n",
       "      <td>8</td>\n",
       "    </tr>\n",
       "    <tr>\n",
       "      <th>MR401</th>\n",
       "      <td>0</td>\n",
       "      <td>0</td>\n",
       "      <td>1</td>\n",
       "      <td>0</td>\n",
       "      <td>0</td>\n",
       "      <td>1</td>\n",
       "      <td>1</td>\n",
       "      <td>1</td>\n",
       "      <td>0</td>\n",
       "      <td>4</td>\n",
       "    </tr>\n",
       "    <tr>\n",
       "      <th>MR501</th>\n",
       "      <td>0</td>\n",
       "      <td>0</td>\n",
       "      <td>0</td>\n",
       "      <td>0</td>\n",
       "      <td>0</td>\n",
       "      <td>0</td>\n",
       "      <td>0</td>\n",
       "      <td>0</td>\n",
       "      <td>0</td>\n",
       "      <td>0</td>\n",
       "    </tr>\n",
       "    <tr>\n",
       "      <th>MR601</th>\n",
       "      <td>0</td>\n",
       "      <td>0</td>\n",
       "      <td>1</td>\n",
       "      <td>1</td>\n",
       "      <td>1</td>\n",
       "      <td>1</td>\n",
       "      <td>1</td>\n",
       "      <td>1</td>\n",
       "      <td>0</td>\n",
       "      <td>6</td>\n",
       "    </tr>\n",
       "    <tr>\n",
       "      <th>MR701</th>\n",
       "      <td>0</td>\n",
       "      <td>0</td>\n",
       "      <td>0</td>\n",
       "      <td>0</td>\n",
       "      <td>0</td>\n",
       "      <td>0</td>\n",
       "      <td>0</td>\n",
       "      <td>0</td>\n",
       "      <td>0</td>\n",
       "      <td>0</td>\n",
       "    </tr>\n",
       "    <tr>\n",
       "      <th>MR702</th>\n",
       "      <td>0</td>\n",
       "      <td>0</td>\n",
       "      <td>0</td>\n",
       "      <td>0</td>\n",
       "      <td>0</td>\n",
       "      <td>0</td>\n",
       "      <td>0</td>\n",
       "      <td>0</td>\n",
       "      <td>0</td>\n",
       "      <td>0</td>\n",
       "    </tr>\n",
       "    <tr>\n",
       "      <th>TOTAL</th>\n",
       "      <td>16</td>\n",
       "      <td>31</td>\n",
       "      <td>30</td>\n",
       "      <td>31</td>\n",
       "      <td>31</td>\n",
       "      <td>30</td>\n",
       "      <td>31</td>\n",
       "      <td>30</td>\n",
       "      <td>10</td>\n",
       "      <td>240</td>\n",
       "    </tr>\n",
       "  </tbody>\n",
       "</table>\n",
       "</div>"
      ],
      "text/plain": [
       "       2025-04  2025-05  2025-06  2025-07  2025-08  2025-09  2025-10  2025-11  \\\n",
       "MR111        5       11       10       11       11       10       11       10   \n",
       "MR112        3        5        5        5        5        5        5        5   \n",
       "MR201        3        6        5        6        6        5        6        5   \n",
       "MR202        3        5        4        4        4        4        4        4   \n",
       "MR203        0        0        0        0        0        0        0        0   \n",
       "MR204        0        0        0        0        0        0        0        0   \n",
       "MR205        0        0        0        0        0        0        0        0   \n",
       "MR206        0        0        0        0        0        0        0        0   \n",
       "MR301        1        1        1        1        1        1        1        1   \n",
       "MR401        0        0        1        0        0        1        1        1   \n",
       "MR501        0        0        0        0        0        0        0        0   \n",
       "MR601        0        0        1        1        1        1        1        1   \n",
       "MR701        0        0        0        0        0        0        0        0   \n",
       "MR702        0        0        0        0        0        0        0        0   \n",
       "TOTAL       16       31       30       31       31       30       31       30   \n",
       "\n",
       "       2025-12  TOTAL  \n",
       "MR111        3     82  \n",
       "MR112        2     40  \n",
       "MR201        2     44  \n",
       "MR202        2     34  \n",
       "MR203        0      0  \n",
       "MR204        0      0  \n",
       "MR205        0      0  \n",
       "MR206        0      0  \n",
       "MR301        0      8  \n",
       "MR401        0      4  \n",
       "MR501        0      0  \n",
       "MR601        0      6  \n",
       "MR701        0      0  \n",
       "MR702        0      0  \n",
       "TOTAL       10    240  "
      ]
     },
     "execution_count": 161,
     "metadata": {},
     "output_type": "execute_result"
    }
   ],
   "source": [
    "# Concatenar la ruta completa al archivo .pkl\n",
    "ruta_cronograma_anual = os.path.join(\"data\",proyecto, f\"{proyecto}_cronograma_anual.pkl\")\n",
    "\n",
    "# Leer el archivo pickle\n",
    "with open(ruta_cronograma_anual, \"rb\") as f:\n",
    "    df_cronograma_anual = pickle.load(f)\n",
    "\n",
    "df_cronograma_anual.tail(15)"
   ]
  },
  {
   "cell_type": "markdown",
   "id": "afd42a26",
   "metadata": {},
   "source": [
    "## Cargando actividades"
   ]
  },
  {
   "cell_type": "code",
   "execution_count": 162,
   "id": "4cb23777",
   "metadata": {},
   "outputs": [
    {
     "name": "stdout",
     "output_type": "stream",
     "text": [
      "[{'key': 'MR100', 'value': {'label': 'Conservación de calzada', 'value': [{'key': 'MR101', 'value': {'label': 'Limpieza de calzada', 'carga_trabajo': 0, 'unidad': 'Km'}}, {'key': 'MR102', 'value': {'label': 'Bacheo', 'carga_trabajo': 0, 'unidad': 'm2'}}, {'key': 'MR103', 'value': {'label': 'Desquinche', 'carga_trabajo': 0, 'unidad': 'm3'}}, {'key': 'MR104', 'value': {'label': 'Remoción de derrumbes', 'carga_trabajo': 0, 'unidad': 'm3'}}]}}, {'key': 'MR200', 'value': {'label': 'Limpieza de obras de arte', 'value': [{'key': 'MR201', 'value': {'label': 'Limpieza de cunetas', 'carga_trabajo': 1440, 'unidad': 'm'}}, {'key': 'MR202', 'value': {'label': 'Limpieza de alcantarillas', 'carga_trabajo': 0, 'unidad': 'unidad'}}, {'key': 'MR203', 'value': {'label': 'Limpieza de badén', 'carga_trabajo': 0, 'unidad': 'm2'}}, {'key': 'MR204', 'value': {'label': 'Limpieza de zanjas de coronación', 'carga_trabajo': 0, 'unidad': 'm'}}, {'key': 'MR205', 'value': {'label': 'Limpieza de pontones', 'carga_trabajo': 0, 'unidad': 'unidad'}}, {'key': 'MR206', 'value': {'label': 'Encausamiento de pequeños cursos de agua', 'carga_trabajo': 0, 'unidad': 'm'}}]}}, {'key': 'MR300', 'value': {'label': 'Control de vegetación', 'value': [{'key': 'MR301', 'value': {'label': 'Roce y limpieza', 'carga_trabajo': 0, 'unidad': 'm2'}}]}}, {'key': 'MR400', 'value': {'label': 'Seguridad vial', 'value': [{'key': 'MR401', 'value': {'label': 'Conservación de señales', 'carga_trabajo': 10, 'unidad': 'unidad'}}]}}, {'key': 'MR500', 'value': {'label': 'Medio ambiente', 'value': [{'key': 'MR501', 'value': {'label': 'Reforestación', 'carga_trabajo': 0, 'unidad': 'unidad'}}]}}, {'key': 'MR600', 'value': {'label': 'Vigilancia y control vial', 'value': [{'key': 'MR601', 'value': {'label': 'Vigilancia y control', 'carga_trabajo': 0, 'unidad': 'Km'}}]}}, {'key': 'MR700', 'value': {'label': 'Actividades complementarias', 'value': [{'key': 'MR701', 'value': {'label': 'Reparación de muros secos', 'carga_trabajo': 0, 'unidad': 'm3'}}, {'key': 'MR702', 'value': {'label': 'Reparación de pontones', 'carga_trabajo': 0, 'unidad': 'unidad'}}]}}]\n"
     ]
    }
   ],
   "source": [
    "ruta_actividades= os.path.join(\"data\", \"general_data\", \"actividades.json\")\n",
    "with open(ruta_actividades, 'r', encoding='utf-8') as archivo:\n",
    "    actividades = json.load(archivo)\n",
    "# Ahora 'datos' es un diccionario de Python\n",
    "print(actividades)"
   ]
  },
  {
   "cell_type": "markdown",
   "id": "3ce2d559",
   "metadata": {},
   "source": [
    "## Cargando cargas de trabajo del contratista"
   ]
  },
  {
   "cell_type": "code",
   "execution_count": 163,
   "id": "8d06a58a",
   "metadata": {},
   "outputs": [],
   "source": [
    "# ruta_cargas_trabajo= os.path.join(\"data\", proyecto,str(mes), f\"cargas_trabajo.json\")\n",
    "# with open(ruta_cargas_trabajo, 'r', encoding='utf-8') as archivo:\n",
    "#     cargas_trabajo_contratista_presente_mes = json.load(archivo)\n",
    "# # Ahora 'cargas_trabajo_contratista' es un diccionario de Python\n",
    "# print(cargas_trabajo_contratista_presente_mes)"
   ]
  },
  {
   "cell_type": "markdown",
   "id": "9a3b0216",
   "metadata": {},
   "source": [
    "## Funciones utiles"
   ]
  },
  {
   "cell_type": "code",
   "execution_count": 164,
   "id": "f3438b5f",
   "metadata": {},
   "outputs": [],
   "source": [
    "def calcular_porcentaje(cargas_mes, cargas_totales, carga_por_dia):\n",
    "    \"\"\"\n",
    "    Devuelve el porcentaje del proyecto programado para este mes,\n",
    "    ponderado por la carga de trabajo diaria de cada actividad.\n",
    "    \"\"\"\n",
    "    total_dias_mes = 0.0\n",
    "    total_dias_proyecto = 0.0\n",
    "\n",
    "    for actividad, dias_diarios in carga_por_dia.items():\n",
    "        # Ignoramos actividades sin capacidad diaria definida o totales cero\n",
    "        if dias_diarios <= 0:\n",
    "            continue\n",
    "\n",
    "        carga_mes = cargas_mes.get(actividad, 0.0)\n",
    "        carga_total = cargas_totales.get(actividad, 0.0)\n",
    "\n",
    "        # Convertimos cargas a días\n",
    "        total_dias_mes += carga_mes / dias_diarios\n",
    "        total_dias_proyecto += carga_total / dias_diarios\n",
    "        # print(\n",
    "        #     {\n",
    "        #         \"actividad\": actividad,\n",
    "        #         \"total_dias_mes\": total_dias_mes,\n",
    "        #         \"total_dias_proyecto\": total_dias_proyecto,\n",
    "        #     }\n",
    "        # )\n",
    "\n",
    "    if total_dias_proyecto == 0:\n",
    "        return 0.0\n",
    "\n",
    "    return total_dias_mes / total_dias_proyecto"
   ]
  },
  {
   "cell_type": "markdown",
   "id": "37ecb0f4",
   "metadata": {},
   "source": [
    "## Calculo"
   ]
  },
  {
   "cell_type": "code",
   "execution_count": 165,
   "id": "72be999b",
   "metadata": {},
   "outputs": [
    {
     "name": "stdout",
     "output_type": "stream",
     "text": [
      "['MR101', 'MR102', 'MR103', 'MR104', 'MR111', 'MR112', 'MR201', 'MR202', 'MR203', 'MR204', 'MR205', 'MR206', 'MR301', 'MR401', 'MR501', 'MR601', 'MR701', 'MR702']\n"
     ]
    }
   ],
   "source": [
    "actividades=df_cargas_trabajo_programadas.index.to_list()\n",
    "print(actividades)"
   ]
  },
  {
   "cell_type": "markdown",
   "id": "fab4a925",
   "metadata": {},
   "source": [
    "### Avance programado vigente en el mes"
   ]
  },
  {
   "cell_type": "code",
   "execution_count": 166,
   "id": "13a8622b",
   "metadata": {},
   "outputs": [
    {
     "name": "stdout",
     "output_type": "stream",
     "text": [
      "{'MR101': 0.8566666666666666, 'MR102': 0.0, 'MR103': 0.0, 'MR104': 0.0, 'MR111': 92.23048780487804, 'MR112': 52.5, 'MR201': 2205.681818181818, 'MR202': 3.059117647058824, 'MR203': 0.0, 'MR204': 0.0, 'MR205': 0.0, 'MR206': 0.0, 'MR301': 1999.875, 'MR401': 0.0, 'MR501': 0.0, 'MR601': 0.0, 'MR701': 0.0, 'MR702': 0.0}\n"
     ]
    }
   ],
   "source": [
    "# Buscamos la columna que termina en \"-04\"\n",
    "col = [c for c in df_cargas_trabajo_programadas.columns if c.endswith(f\"-{mes:02d}\")][0]\n",
    "\n",
    "# Extraemos la Serie y la pasamos a dict\n",
    "cargas_trabajo_programdas_presente_mes = df_cargas_trabajo_programadas[col].to_dict()\n",
    "\n",
    "print(cargas_trabajo_programdas_presente_mes)\n",
    "# {'MR101': 1.540444, 'MR102': 153.14833, ... }"
   ]
  },
  {
   "cell_type": "code",
   "execution_count": 167,
   "id": "049daf70",
   "metadata": {},
   "outputs": [
    {
     "name": "stdout",
     "output_type": "stream",
     "text": [
      "{'MR101': 10.28, 'MR102': 0.0, 'MR103': 53.33, 'MR104': 85.33, 'MR111': 1512.58, 'MR112': 700.0, 'MR201': 32350.0, 'MR202': 34.67, 'MR203': 0.0, 'MR204': 0.0, 'MR205': 0.0, 'MR206': 0.0, 'MR301': 15999.0, 'MR401': 64.67, 'MR501': 0.0, 'MR601': 258.02, 'MR701': 0.0, 'MR702': 0.0}\n"
     ]
    }
   ],
   "source": [
    "# Opción A: usando df.columns\n",
    "ultima_col = df_cargas_trabajo_programadas.columns[-1]\n",
    "cargas_trabajo_programadas_totales = df_cargas_trabajo_programadas[ultima_col].to_dict()\n",
    "print(cargas_trabajo_programadas_totales)"
   ]
  },
  {
   "cell_type": "code",
   "execution_count": 168,
   "id": "9717c4b1",
   "metadata": {},
   "outputs": [
    {
     "name": "stdout",
     "output_type": "stream",
     "text": [
      "{'MR101': 12, 'MR102': 0, 'MR103': 4, 'MR104': 6, 'MR111': 82, 'MR112': 40, 'MR201': 44, 'MR202': 34, 'MR203': 0, 'MR204': 0, 'MR205': 0, 'MR206': 0, 'MR301': 8, 'MR401': 4, 'MR501': 0, 'MR601': 6, 'MR701': 0, 'MR702': 0, 'TOTAL': 240}\n"
     ]
    }
   ],
   "source": [
    "dias_totales_por_actividad=df_cronograma_anual[ultima_col].to_dict()\n",
    "print(dias_totales_por_actividad)"
   ]
  },
  {
   "cell_type": "code",
   "execution_count": 169,
   "id": "32b4ace1",
   "metadata": {},
   "outputs": [
    {
     "name": "stdout",
     "output_type": "stream",
     "text": [
      "{'MR101': 0.8566666666666666, 'MR102': 0, 'MR103': 13.3325, 'MR104': 14.221666666666666, 'MR111': 18.44609756097561, 'MR112': 17.5, 'MR201': 735.2272727272727, 'MR202': 1.0197058823529412, 'MR203': 0, 'MR204': 0, 'MR205': 0, 'MR206': 0, 'MR301': 1999.875, 'MR401': 16.1675, 'MR501': 0, 'MR601': 43.00333333333333, 'MR701': 0, 'MR702': 0, 'TOTAL': 0.0}\n"
     ]
    }
   ],
   "source": [
    "carga_por_dia = {\n",
    "    k: (\n",
    "        (cargas_trabajo_programadas_totales.get(k, 0) / dias_totales_por_actividad[k])\n",
    "        if dias_totales_por_actividad[k] != 0\n",
    "        else 0\n",
    "    )\n",
    "    for k in dias_totales_por_actividad\n",
    "}\n",
    "\n",
    "print(carga_por_dia)"
   ]
  },
  {
   "cell_type": "code",
   "execution_count": 170,
   "id": "64adfedb",
   "metadata": {},
   "outputs": [
    {
     "name": "stdout",
     "output_type": "stream",
     "text": [
      "{'MR101': 0.08333333333333333, 'MR102': 0, 'MR103': 0.0, 'MR104': 0.0, 'MR111': 0.06097560975609756, 'MR112': 0.075, 'MR201': 0.06818181818181818, 'MR202': 0.08823529411764706, 'MR203': 0, 'MR204': 0, 'MR205': 0, 'MR206': 0, 'MR301': 0.125, 'MR401': 0.0, 'MR501': 0, 'MR601': 0.0, 'MR701': 0, 'MR702': 0}\n"
     ]
    }
   ],
   "source": [
    "porcentajes_programado_vigente_mes = {\n",
    "    k: (cargas_trabajo_programdas_presente_mes.get(k, 0) / cargas_trabajo_programadas_totales[k]\n",
    "        if cargas_trabajo_programadas_totales[k] != 0 else 0)\n",
    "    for k in cargas_trabajo_programadas_totales\n",
    "}\n",
    "print(porcentajes_programado_vigente_mes)"
   ]
  },
  {
   "cell_type": "code",
   "execution_count": 171,
   "id": "c577659c",
   "metadata": {},
   "outputs": [
    {
     "name": "stdout",
     "output_type": "stream",
     "text": [
      "0.06666666666666667\n"
     ]
    }
   ],
   "source": [
    "porcentaje_programado_vigente_mes=calcular_porcentaje(cargas_mes=cargas_trabajo_programdas_presente_mes,cargas_totales=cargas_trabajo_programadas_totales,carga_por_dia=carga_por_dia)\n",
    "print(porcentaje_programado_vigente_mes)"
   ]
  },
  {
   "cell_type": "markdown",
   "id": "0434fcf7",
   "metadata": {},
   "source": [
    "#### Como no calcular"
   ]
  },
  {
   "cell_type": "code",
   "execution_count": 172,
   "id": "47b1df69",
   "metadata": {},
   "outputs": [
    {
     "data": {
      "text/plain": [
       "\"\\nEn este script calculamos el avance mensual de dos formas:\\n\\n1. Avance ponderado por carga de trabajo:\\n   - Cada actividad tiene un porcentaje de ejecución y una 'carga_por_dia' (peso).\\n   - El avance global se obtiene como la suma de (porcentaje_ejecutado * carga_por_dia) \\n     dividida entre la suma total de todas las cargas.\\n   - De esta forma, las actividades que representan más trabajo diario (mayor carga)\\n     aportan proporcionalmente más al avance general.\\n\\n2. Promedio simple de porcentajes:\\n   - Se suman todos los porcentajes de ejecución y se dividen entre el número de actividades.\\n   - Este cálculo asume que todas las actividades tienen la misma importancia, \\n     independientemente de su carga real de trabajo.\\n   - Es incorrecto porque trata igual un metro de vereda (baja carga) que un kilómetro de carretera (alta carga),\\n     y podría dar un avance engañoso (por ejemplo, 100% de vereda + 0% de carretera → 50%).\\n\\nPor eso, el método ponderado refleja fielmente el progreso real,\\nmientras que el promedio simple solo sirve para comparaciones o ilustrar el sesgo del cálculo no ponderado.\\n\""
      ]
     },
     "execution_count": 172,
     "metadata": {},
     "output_type": "execute_result"
    }
   ],
   "source": [
    "\"\"\"\n",
    "En este script calculamos el avance mensual de dos formas:\n",
    "\n",
    "1. Avance ponderado por carga de trabajo:\n",
    "   - Cada actividad tiene un porcentaje de ejecución y una 'carga_por_dia' (peso).\n",
    "   - El avance global se obtiene como la suma de (porcentaje_ejecutado * carga_por_dia) \n",
    "     dividida entre la suma total de todas las cargas.\n",
    "   - De esta forma, las actividades que representan más trabajo diario (mayor carga)\n",
    "     aportan proporcionalmente más al avance general.\n",
    "\n",
    "2. Promedio simple de porcentajes:\n",
    "   - Se suman todos los porcentajes de ejecución y se dividen entre el número de actividades.\n",
    "   - Este cálculo asume que todas las actividades tienen la misma importancia, \n",
    "     independientemente de su carga real de trabajo.\n",
    "   - Es incorrecto porque trata igual un metro de vereda (baja carga) que un kilómetro de carretera (alta carga),\n",
    "     y podría dar un avance engañoso (por ejemplo, 100% de vereda + 0% de carretera → 50%).\n",
    "   \n",
    "Por eso, el método ponderado refleja fielmente el progreso real,\n",
    "mientras que el promedio simple solo sirve para comparaciones o ilustrar el sesgo del cálculo no ponderado.\n",
    "\"\"\""
   ]
  },
  {
   "cell_type": "code",
   "execution_count": 173,
   "id": "913634da",
   "metadata": {},
   "outputs": [],
   "source": [
    "def calcular_promedio_avance_mal(porcentajes):\n",
    "    \"\"\"\n",
    "    Devuelve el promedio simple de avance.\n",
    "    - porcentajes: dict actividad -> porcentaje ejecutado (0..1)\n",
    "    \"\"\"\n",
    "    total_actividades = len(porcentajes)\n",
    "    if total_actividades == 0:\n",
    "        return 0.0\n",
    "    suma_porcentajes = sum(porcentajes.values())\n",
    "    return suma_porcentajes / total_actividades"
   ]
  },
  {
   "cell_type": "code",
   "execution_count": 174,
   "id": "40211a1e",
   "metadata": {},
   "outputs": [
    {
     "name": "stdout",
     "output_type": "stream",
     "text": [
      "0.027818114188272007\n"
     ]
    }
   ],
   "source": [
    "print(calcular_promedio_avance_mal(porcentajes=porcentajes_programado_vigente_mes)) # Este metodo esta mal, porque solo promedia los avances"
   ]
  },
  {
   "cell_type": "markdown",
   "id": "7bc3888e",
   "metadata": {},
   "source": [
    "## Avance ejecutado en el mes"
   ]
  },
  {
   "cell_type": "code",
   "execution_count": 175,
   "id": "45fec11d",
   "metadata": {},
   "outputs": [
    {
     "name": "stdout",
     "output_type": "stream",
     "text": [
      "{'MR101': 0.08365758754863814, 'MR102': 0, 'MR103': 0, 'MR104': 0, 'MR111': 0, 'MR112': 0, 'MR201': 0.08408037094281298, 'MR202': 0.17306028266512835, 'MR203': 0, 'MR204': 0, 'MR205': 0, 'MR206': 0, 'MR301': 0.22501406337896118, 'MR401': 0.07731560228854183, 'MR501': 0, 'MR601': 0.2499806216572359, 'MR701': 0, 'MR702': 0}\n"
     ]
    }
   ],
   "source": [
    "porcentajes_ejecutados_vigente_mes = {\n",
    "    k: (cargas_trabajo_contratista_presente_mes.get(k, 0) / cargas_trabajo_programadas_totales[k]\n",
    "        if cargas_trabajo_contratista_presente_mes.get(k, 0)  != 0 else 0)\n",
    "    for k in cargas_trabajo_programadas_totales\n",
    "}\n",
    "print(porcentajes_ejecutados_vigente_mes)"
   ]
  },
  {
   "cell_type": "code",
   "execution_count": 176,
   "id": "3155fac0",
   "metadata": {},
   "outputs": [
    {
     "name": "stdout",
     "output_type": "stream",
     "text": [
      "{'MR101': 0.86, 'MR202': 6.0, 'MR301': 3600.0, 'MR601': 64.5, 'MR201': 2720.0, 'MR401': 5}\n"
     ]
    }
   ],
   "source": [
    "print(cargas_trabajo_contratista_presente_mes)"
   ]
  },
  {
   "cell_type": "code",
   "execution_count": 177,
   "id": "272d6a25",
   "metadata": {},
   "outputs": [
    {
     "name": "stdout",
     "output_type": "stream",
     "text": [
      "0.0591530651200461\n"
     ]
    }
   ],
   "source": [
    "porcentaje_ejecutado_vigente_mes=calcular_porcentaje(cargas_mes=cargas_trabajo_contratista_presente_mes,cargas_totales=cargas_trabajo_programadas_totales,carga_por_dia=carga_por_dia)\n",
    "print(porcentaje_ejecutado_vigente_mes)"
   ]
  },
  {
   "cell_type": "code",
   "execution_count": 178,
   "id": "e0d5b356",
   "metadata": {},
   "outputs": [],
   "source": [
    "data_to_see = {\n",
    "    \"porcentaje_programado_vigente_mes\": porcentaje_programado_vigente_mes * 100,\n",
    "    \"porcentaje_ejecutado_vigente_mes\": porcentaje_ejecutado_vigente_mes * 100,\n",
    "    \"porcentaje_programado_acumulado_vigente_mes\": porcentaje_programado_vigente_mes\n",
    "    * 100,\n",
    "    \"porcentaje_ejecutado_acumulado_vigente_mes\": porcentaje_ejecutado_vigente_mes\n",
    "    * 100,\n",
    "}"
   ]
  },
  {
   "cell_type": "code",
   "execution_count": 179,
   "id": "0dd322f9",
   "metadata": {},
   "outputs": [],
   "source": [
    "data_to_print = {\n",
    "    \"porcentaje_programado_vigente_mes\": porcentaje_programado_vigente_mes,\n",
    "    \"porcentaje_ejecutado_vigente_mes\": porcentaje_ejecutado_vigente_mes,\n",
    "    \"porcentaje_programado_acumulado_vigente_mes\": porcentaje_programado_vigente_mes,\n",
    "    \"porcentaje_ejecutado_acumulado_vigente_mes\": porcentaje_ejecutado_vigente_mes,\n",
    "}"
   ]
  },
  {
   "cell_type": "code",
   "execution_count": 180,
   "id": "7986359e",
   "metadata": {},
   "outputs": [],
   "source": [
    "ruta_directorio = os.path.join(\"output\", proyecto, str(mes))\n",
    "ruta_archivo = os.path.join(ruta_directorio, \"cargas_trabajo.json\")\n",
    "\n",
    "# Crear el directorio si no existe\n",
    "os.makedirs(ruta_directorio, exist_ok=True)\n",
    "# Guardar el diccionario en un archivo JSON\n",
    "\n",
    "with open(ruta_archivo, \"w\", encoding=\"utf-8\") as archivo_json:\n",
    "    json.dump(data_to_print, archivo_json, ensure_ascii=False, indent=4)\n"
   ]
  }
 ],
 "metadata": {
  "kernelspec": {
   "display_name": ".venv",
   "language": "python",
   "name": "python3"
  },
  "language_info": {
   "codemirror_mode": {
    "name": "ipython",
    "version": 3
   },
   "file_extension": ".py",
   "mimetype": "text/x-python",
   "name": "python",
   "nbconvert_exporter": "python",
   "pygments_lexer": "ipython3",
   "version": "3.12.4"
  }
 },
 "nbformat": 4,
 "nbformat_minor": 5
}
