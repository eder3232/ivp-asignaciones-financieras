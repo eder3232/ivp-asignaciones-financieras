{
 "cells": [
  {
   "cell_type": "markdown",
   "id": "8804acd8",
   "metadata": {},
   "source": [
    "# Calculadora de avance"
   ]
  },
  {
   "cell_type": "code",
   "execution_count": 2,
   "id": "8a15bcd8",
   "metadata": {},
   "outputs": [],
   "source": [
    "import pandas as pd\n",
    "import os\n",
    "import pickle\n",
    "import json\n",
    "import xlsxwriter\n",
    "from xlsxwriter.utility import xl_range, xl_rowcol_to_cell\n",
    "import re\n",
    "from typing import Dict, List, Any\n",
    "import itertools\n",
    "from firebase_admin import credentials, firestore\n",
    "import firebase_admin\n",
    "import excel2img\n",
    "from openpyxl import load_workbook\n",
    "from openpyxl.utils import get_column_letter"
   ]
  },
  {
   "cell_type": "markdown",
   "id": "bdcd2778",
   "metadata": {},
   "source": [
    "## Datos del proyecto en análisis"
   ]
  },
  {
   "cell_type": "code",
   "execution_count": 3,
   "id": "b0f46385",
   "metadata": {},
   "outputs": [],
   "source": [
    "proyecto=\"cabanaconde\"\n",
    "mes=4\n",
    "anio=2025"
   ]
  },
  {
   "cell_type": "markdown",
   "id": "8a0f343a",
   "metadata": {},
   "source": [
    "## Datos de Firestore"
   ]
  },
  {
   "cell_type": "code",
   "execution_count": 4,
   "id": "a6c2b295",
   "metadata": {},
   "outputs": [],
   "source": [
    "# Ruta a tu archivo de clave privada descargado\n",
    "cred = credentials.Certificate(\"../credentials_firestore.json\")\n",
    "\n",
    "# Inicializa sólo si no hay ninguna app por defecto\n",
    "if not firebase_admin._apps:\n",
    "    firebase_admin.initialize_app(cred)\n",
    "\n",
    "# Obtiene una instancia de la base de datos Firestore\n",
    "db = firestore.client()"
   ]
  },
  {
   "cell_type": "code",
   "execution_count": 5,
   "id": "c274ff4c",
   "metadata": {},
   "outputs": [
    {
     "name": "stdout",
     "output_type": "stream",
     "text": [
      "{'otros': {'tipo_superficie': 'afirmado', 'estado_conservacion_via': 'bueno'}, 'expediente': {'codigo_ruta': 'R0405106', 'monto_total': 81120, 'coordenadas': {'fin': {'hemisferio': 'S', 'y': 8272525.68, 'progresiva': 13000, 'zona_letra': 'L', 'x': 813907.99, 'datum': 'WGS84', 'altitud': 1975, 'zona': 18}, 'inicio': {'hemisferio': 'S', 'y': 8272658.46, 'progresiva': 0, 'zona_letra': 'L', 'x': 819845.05, 'datum': 'WGS84', 'altitud': 2877, 'zona': 18}}, 'nombre': 'MANTENIMIENTO VIAL RUTINARIO DEL CAMINO VECINAL EMP. R0405104 (CABANACONDE) A PTE. CABANACONDE - CHOCO (L.P. CASTILLA), DISTRITO DE CABANACONDE, PROVINCIA DE CAYLLOMA, REGIÓN AREQUIPA', 'longitud': 13000}, 'datos_generales': {'distritos': ['Cabanaconde'], 'region': 'Arequipa', 'provincia': 'Caylloma'}, 'other': {'tipo_superficie': 'afirmado', 'estado_conservacion_via': 'bueno'}, 'contrato': {'jefe_mantenimiento': {'titulo': 'Ingeniero', 'nombre': 'Genaro', 'dni': 0, 'apellido': 'Tinta Cáceres'}, 'numero_trabajadores': 4, 'denominacion_tramo_convenio': 'Emp. Choco Soro Soro (Cabanaconde) a Pte. Cabanaconde - Choco - Ld Castilla (Km 14+064)', 'numero_cuadrillas': 1, 'tipo_servicio': 'mantenimiento rutinario', 'fecha_inicio': {'anio': 2025, 'mes': 4, 'dia': 10}, 'id_contrato': '001-2025', 'monto_contrato': 64896, 'contratista': {'razon_social': 'Grupo ARICOL E.I.R.L.', 'ruc': 20606988398}, 'tiempo_ejecucion_dias': 240}, 'general_data': {'distritos': ['Cabanaconde'], 'region': 'Arequipa', 'provincia': 'Caylloma'}}\n"
     ]
    }
   ],
   "source": [
    "data_mantenimiento=db.collection(\"rutinarios\").document(proyecto).get()\n",
    "if data_mantenimiento.exists:\n",
    "    print(data_mantenimiento.to_dict())\n",
    "else:\n",
    "    print(\"No existe el documento.\")"
   ]
  },
  {
   "cell_type": "code",
   "execution_count": 6,
   "id": "fc963fc0",
   "metadata": {},
   "outputs": [
    {
     "name": "stdout",
     "output_type": "stream",
     "text": [
      "0\n",
      "13000\n"
     ]
    }
   ],
   "source": [
    "progresiva_inicio=data_mantenimiento.to_dict()[\"expediente\"][\"coordenadas\"][\"inicio\"][\"progresiva\"]\n",
    "progresiva_fin=data_mantenimiento.to_dict()[\"expediente\"][\"coordenadas\"][\"fin\"][\"progresiva\"]\n",
    "\n",
    "print(progresiva_inicio)\n",
    "print(progresiva_fin)"
   ]
  },
  {
   "cell_type": "markdown",
   "id": "a7933c2f",
   "metadata": {},
   "source": [
    "## Cargando cargas de trabajo programadas"
   ]
  },
  {
   "cell_type": "code",
   "execution_count": 7,
   "id": "d658f08e",
   "metadata": {},
   "outputs": [
    {
     "data": {
      "text/html": [
       "<div>\n",
       "<style scoped>\n",
       "    .dataframe tbody tr th:only-of-type {\n",
       "        vertical-align: middle;\n",
       "    }\n",
       "\n",
       "    .dataframe tbody tr th {\n",
       "        vertical-align: top;\n",
       "    }\n",
       "\n",
       "    .dataframe thead th {\n",
       "        text-align: right;\n",
       "    }\n",
       "</style>\n",
       "<table border=\"1\" class=\"dataframe\">\n",
       "  <thead>\n",
       "    <tr style=\"text-align: right;\">\n",
       "      <th></th>\n",
       "      <th>2025-04</th>\n",
       "      <th>2025-05</th>\n",
       "      <th>2025-06</th>\n",
       "      <th>2025-07</th>\n",
       "      <th>2025-08</th>\n",
       "      <th>2025-09</th>\n",
       "      <th>2025-10</th>\n",
       "      <th>2025-11</th>\n",
       "      <th>2025-12</th>\n",
       "      <th>TOTAL</th>\n",
       "    </tr>\n",
       "    <tr>\n",
       "      <th>codigo</th>\n",
       "      <th></th>\n",
       "      <th></th>\n",
       "      <th></th>\n",
       "      <th></th>\n",
       "      <th></th>\n",
       "      <th></th>\n",
       "      <th></th>\n",
       "      <th></th>\n",
       "      <th></th>\n",
       "      <th></th>\n",
       "    </tr>\n",
       "  </thead>\n",
       "  <tbody>\n",
       "    <tr>\n",
       "      <th>MR103</th>\n",
       "      <td>0.000000</td>\n",
       "      <td>0.000000</td>\n",
       "      <td>6.650000</td>\n",
       "      <td>6.650000</td>\n",
       "      <td>6.650000</td>\n",
       "      <td>6.650000</td>\n",
       "      <td>0.000000</td>\n",
       "      <td>6.650000</td>\n",
       "      <td>0.000000</td>\n",
       "      <td>33.25</td>\n",
       "    </tr>\n",
       "    <tr>\n",
       "      <th>MR104</th>\n",
       "      <td>17.011250</td>\n",
       "      <td>17.011250</td>\n",
       "      <td>17.011250</td>\n",
       "      <td>17.011250</td>\n",
       "      <td>17.011250</td>\n",
       "      <td>17.011250</td>\n",
       "      <td>17.011250</td>\n",
       "      <td>17.011250</td>\n",
       "      <td>0.000000</td>\n",
       "      <td>136.09</td>\n",
       "    </tr>\n",
       "    <tr>\n",
       "      <th>MR201</th>\n",
       "      <td>1515.151818</td>\n",
       "      <td>2272.727727</td>\n",
       "      <td>1893.939773</td>\n",
       "      <td>2272.727727</td>\n",
       "      <td>2272.727727</td>\n",
       "      <td>1893.939773</td>\n",
       "      <td>2272.727727</td>\n",
       "      <td>1893.939773</td>\n",
       "      <td>378.787955</td>\n",
       "      <td>16666.67</td>\n",
       "    </tr>\n",
       "    <tr>\n",
       "      <th>MR202</th>\n",
       "      <td>0.000000</td>\n",
       "      <td>0.000000</td>\n",
       "      <td>0.000000</td>\n",
       "      <td>0.000000</td>\n",
       "      <td>0.000000</td>\n",
       "      <td>0.000000</td>\n",
       "      <td>0.000000</td>\n",
       "      <td>0.000000</td>\n",
       "      <td>0.000000</td>\n",
       "      <td>0.00</td>\n",
       "    </tr>\n",
       "    <tr>\n",
       "      <th>MR203</th>\n",
       "      <td>42.424545</td>\n",
       "      <td>42.424545</td>\n",
       "      <td>84.849091</td>\n",
       "      <td>84.849091</td>\n",
       "      <td>42.424545</td>\n",
       "      <td>42.424545</td>\n",
       "      <td>42.424545</td>\n",
       "      <td>42.424545</td>\n",
       "      <td>42.424545</td>\n",
       "      <td>466.67</td>\n",
       "    </tr>\n",
       "    <tr>\n",
       "      <th>MR204</th>\n",
       "      <td>0.000000</td>\n",
       "      <td>0.000000</td>\n",
       "      <td>0.000000</td>\n",
       "      <td>0.000000</td>\n",
       "      <td>0.000000</td>\n",
       "      <td>0.000000</td>\n",
       "      <td>0.000000</td>\n",
       "      <td>0.000000</td>\n",
       "      <td>0.000000</td>\n",
       "      <td>0.00</td>\n",
       "    </tr>\n",
       "    <tr>\n",
       "      <th>MR205</th>\n",
       "      <td>0.000000</td>\n",
       "      <td>0.000000</td>\n",
       "      <td>0.000000</td>\n",
       "      <td>0.000000</td>\n",
       "      <td>0.000000</td>\n",
       "      <td>0.000000</td>\n",
       "      <td>0.000000</td>\n",
       "      <td>0.000000</td>\n",
       "      <td>0.000000</td>\n",
       "      <td>0.00</td>\n",
       "    </tr>\n",
       "    <tr>\n",
       "      <th>MR206</th>\n",
       "      <td>0.000000</td>\n",
       "      <td>0.000000</td>\n",
       "      <td>0.000000</td>\n",
       "      <td>0.000000</td>\n",
       "      <td>0.000000</td>\n",
       "      <td>0.000000</td>\n",
       "      <td>0.000000</td>\n",
       "      <td>0.000000</td>\n",
       "      <td>0.000000</td>\n",
       "      <td>0.00</td>\n",
       "    </tr>\n",
       "    <tr>\n",
       "      <th>MR301</th>\n",
       "      <td>3606.515455</td>\n",
       "      <td>5409.773182</td>\n",
       "      <td>4508.144318</td>\n",
       "      <td>5409.773182</td>\n",
       "      <td>5409.773182</td>\n",
       "      <td>4508.144318</td>\n",
       "      <td>5409.773182</td>\n",
       "      <td>4508.144318</td>\n",
       "      <td>901.628864</td>\n",
       "      <td>39671.67</td>\n",
       "    </tr>\n",
       "    <tr>\n",
       "      <th>MR401</th>\n",
       "      <td>0.000000</td>\n",
       "      <td>5.866000</td>\n",
       "      <td>5.866000</td>\n",
       "      <td>0.000000</td>\n",
       "      <td>0.000000</td>\n",
       "      <td>5.866000</td>\n",
       "      <td>5.866000</td>\n",
       "      <td>5.866000</td>\n",
       "      <td>0.000000</td>\n",
       "      <td>29.33</td>\n",
       "    </tr>\n",
       "    <tr>\n",
       "      <th>MR501</th>\n",
       "      <td>0.000000</td>\n",
       "      <td>0.000000</td>\n",
       "      <td>0.000000</td>\n",
       "      <td>0.000000</td>\n",
       "      <td>0.000000</td>\n",
       "      <td>0.000000</td>\n",
       "      <td>0.000000</td>\n",
       "      <td>0.000000</td>\n",
       "      <td>0.000000</td>\n",
       "      <td>0.00</td>\n",
       "    </tr>\n",
       "    <tr>\n",
       "      <th>MR601</th>\n",
       "      <td>0.000000</td>\n",
       "      <td>0.000000</td>\n",
       "      <td>22.534000</td>\n",
       "      <td>0.000000</td>\n",
       "      <td>22.534000</td>\n",
       "      <td>22.534000</td>\n",
       "      <td>22.534000</td>\n",
       "      <td>22.534000</td>\n",
       "      <td>0.000000</td>\n",
       "      <td>112.67</td>\n",
       "    </tr>\n",
       "    <tr>\n",
       "      <th>MR701</th>\n",
       "      <td>3.866000</td>\n",
       "      <td>3.866000</td>\n",
       "      <td>3.866000</td>\n",
       "      <td>0.000000</td>\n",
       "      <td>0.000000</td>\n",
       "      <td>3.866000</td>\n",
       "      <td>0.000000</td>\n",
       "      <td>3.866000</td>\n",
       "      <td>0.000000</td>\n",
       "      <td>19.33</td>\n",
       "    </tr>\n",
       "    <tr>\n",
       "      <th>MR702</th>\n",
       "      <td>0.000000</td>\n",
       "      <td>0.000000</td>\n",
       "      <td>0.000000</td>\n",
       "      <td>0.000000</td>\n",
       "      <td>0.000000</td>\n",
       "      <td>0.000000</td>\n",
       "      <td>0.000000</td>\n",
       "      <td>0.000000</td>\n",
       "      <td>0.000000</td>\n",
       "      <td>0.00</td>\n",
       "    </tr>\n",
       "    <tr>\n",
       "      <th>TOTAL</th>\n",
       "      <td>0.000000</td>\n",
       "      <td>0.000000</td>\n",
       "      <td>0.000000</td>\n",
       "      <td>0.000000</td>\n",
       "      <td>0.000000</td>\n",
       "      <td>0.000000</td>\n",
       "      <td>0.000000</td>\n",
       "      <td>0.000000</td>\n",
       "      <td>0.000000</td>\n",
       "      <td>0.00</td>\n",
       "    </tr>\n",
       "  </tbody>\n",
       "</table>\n",
       "</div>"
      ],
      "text/plain": [
       "            2025-04      2025-05      2025-06      2025-07      2025-08  \\\n",
       "codigo                                                                    \n",
       "MR103      0.000000     0.000000     6.650000     6.650000     6.650000   \n",
       "MR104     17.011250    17.011250    17.011250    17.011250    17.011250   \n",
       "MR201   1515.151818  2272.727727  1893.939773  2272.727727  2272.727727   \n",
       "MR202      0.000000     0.000000     0.000000     0.000000     0.000000   \n",
       "MR203     42.424545    42.424545    84.849091    84.849091    42.424545   \n",
       "MR204      0.000000     0.000000     0.000000     0.000000     0.000000   \n",
       "MR205      0.000000     0.000000     0.000000     0.000000     0.000000   \n",
       "MR206      0.000000     0.000000     0.000000     0.000000     0.000000   \n",
       "MR301   3606.515455  5409.773182  4508.144318  5409.773182  5409.773182   \n",
       "MR401      0.000000     5.866000     5.866000     0.000000     0.000000   \n",
       "MR501      0.000000     0.000000     0.000000     0.000000     0.000000   \n",
       "MR601      0.000000     0.000000    22.534000     0.000000    22.534000   \n",
       "MR701      3.866000     3.866000     3.866000     0.000000     0.000000   \n",
       "MR702      0.000000     0.000000     0.000000     0.000000     0.000000   \n",
       "TOTAL      0.000000     0.000000     0.000000     0.000000     0.000000   \n",
       "\n",
       "            2025-09      2025-10      2025-11     2025-12     TOTAL  \n",
       "codigo                                                               \n",
       "MR103      6.650000     0.000000     6.650000    0.000000     33.25  \n",
       "MR104     17.011250    17.011250    17.011250    0.000000    136.09  \n",
       "MR201   1893.939773  2272.727727  1893.939773  378.787955  16666.67  \n",
       "MR202      0.000000     0.000000     0.000000    0.000000      0.00  \n",
       "MR203     42.424545    42.424545    42.424545   42.424545    466.67  \n",
       "MR204      0.000000     0.000000     0.000000    0.000000      0.00  \n",
       "MR205      0.000000     0.000000     0.000000    0.000000      0.00  \n",
       "MR206      0.000000     0.000000     0.000000    0.000000      0.00  \n",
       "MR301   4508.144318  5409.773182  4508.144318  901.628864  39671.67  \n",
       "MR401      5.866000     5.866000     5.866000    0.000000     29.33  \n",
       "MR501      0.000000     0.000000     0.000000    0.000000      0.00  \n",
       "MR601     22.534000    22.534000    22.534000    0.000000    112.67  \n",
       "MR701      3.866000     0.000000     3.866000    0.000000     19.33  \n",
       "MR702      0.000000     0.000000     0.000000    0.000000      0.00  \n",
       "TOTAL      0.000000     0.000000     0.000000    0.000000      0.00  "
      ]
     },
     "execution_count": 7,
     "metadata": {},
     "output_type": "execute_result"
    }
   ],
   "source": [
    "# Concatenar la ruta completa al archivo .pkl\n",
    "ruta_archivo = os.path.join(\"data\",proyecto, f\"{proyecto}_cargas_trabajo.pkl\")\n",
    "\n",
    "# Leer el archivo pickle\n",
    "with open(ruta_archivo, \"rb\") as f:\n",
    "    df_cargas_trabajo_programadas = pickle.load(f)\n",
    "\n",
    "df_cargas_trabajo_programadas.tail(15)"
   ]
  },
  {
   "cell_type": "code",
   "execution_count": 8,
   "id": "60f6ece7",
   "metadata": {},
   "outputs": [],
   "source": [
    "#eliminando el total\n",
    "df_cargas_trabajo_programadas = df_cargas_trabajo_programadas.iloc[:-1]"
   ]
  },
  {
   "cell_type": "code",
   "execution_count": 9,
   "id": "704eb960",
   "metadata": {},
   "outputs": [
    {
     "data": {
      "text/html": [
       "<div>\n",
       "<style scoped>\n",
       "    .dataframe tbody tr th:only-of-type {\n",
       "        vertical-align: middle;\n",
       "    }\n",
       "\n",
       "    .dataframe tbody tr th {\n",
       "        vertical-align: top;\n",
       "    }\n",
       "\n",
       "    .dataframe thead th {\n",
       "        text-align: right;\n",
       "    }\n",
       "</style>\n",
       "<table border=\"1\" class=\"dataframe\">\n",
       "  <thead>\n",
       "    <tr style=\"text-align: right;\">\n",
       "      <th></th>\n",
       "      <th>2025-04</th>\n",
       "      <th>2025-05</th>\n",
       "      <th>2025-06</th>\n",
       "      <th>2025-07</th>\n",
       "      <th>2025-08</th>\n",
       "      <th>2025-09</th>\n",
       "      <th>2025-10</th>\n",
       "      <th>2025-11</th>\n",
       "      <th>2025-12</th>\n",
       "      <th>TOTAL</th>\n",
       "    </tr>\n",
       "  </thead>\n",
       "  <tbody>\n",
       "    <tr>\n",
       "      <th>MR103</th>\n",
       "      <td>0</td>\n",
       "      <td>0</td>\n",
       "      <td>1</td>\n",
       "      <td>1</td>\n",
       "      <td>1</td>\n",
       "      <td>1</td>\n",
       "      <td>0</td>\n",
       "      <td>1</td>\n",
       "      <td>0</td>\n",
       "      <td>5</td>\n",
       "    </tr>\n",
       "    <tr>\n",
       "      <th>MR104</th>\n",
       "      <td>2</td>\n",
       "      <td>2</td>\n",
       "      <td>2</td>\n",
       "      <td>2</td>\n",
       "      <td>2</td>\n",
       "      <td>2</td>\n",
       "      <td>2</td>\n",
       "      <td>2</td>\n",
       "      <td>0</td>\n",
       "      <td>16</td>\n",
       "    </tr>\n",
       "    <tr>\n",
       "      <th>MR201</th>\n",
       "      <td>4</td>\n",
       "      <td>6</td>\n",
       "      <td>5</td>\n",
       "      <td>6</td>\n",
       "      <td>6</td>\n",
       "      <td>5</td>\n",
       "      <td>6</td>\n",
       "      <td>5</td>\n",
       "      <td>1</td>\n",
       "      <td>44</td>\n",
       "    </tr>\n",
       "    <tr>\n",
       "      <th>MR202</th>\n",
       "      <td>0</td>\n",
       "      <td>0</td>\n",
       "      <td>0</td>\n",
       "      <td>0</td>\n",
       "      <td>0</td>\n",
       "      <td>0</td>\n",
       "      <td>0</td>\n",
       "      <td>0</td>\n",
       "      <td>0</td>\n",
       "      <td>0</td>\n",
       "    </tr>\n",
       "    <tr>\n",
       "      <th>MR203</th>\n",
       "      <td>1</td>\n",
       "      <td>1</td>\n",
       "      <td>2</td>\n",
       "      <td>2</td>\n",
       "      <td>1</td>\n",
       "      <td>1</td>\n",
       "      <td>1</td>\n",
       "      <td>1</td>\n",
       "      <td>1</td>\n",
       "      <td>11</td>\n",
       "    </tr>\n",
       "    <tr>\n",
       "      <th>MR204</th>\n",
       "      <td>0</td>\n",
       "      <td>0</td>\n",
       "      <td>0</td>\n",
       "      <td>0</td>\n",
       "      <td>0</td>\n",
       "      <td>0</td>\n",
       "      <td>0</td>\n",
       "      <td>0</td>\n",
       "      <td>0</td>\n",
       "      <td>0</td>\n",
       "    </tr>\n",
       "    <tr>\n",
       "      <th>MR205</th>\n",
       "      <td>0</td>\n",
       "      <td>0</td>\n",
       "      <td>0</td>\n",
       "      <td>0</td>\n",
       "      <td>0</td>\n",
       "      <td>0</td>\n",
       "      <td>0</td>\n",
       "      <td>0</td>\n",
       "      <td>0</td>\n",
       "      <td>0</td>\n",
       "    </tr>\n",
       "    <tr>\n",
       "      <th>MR206</th>\n",
       "      <td>0</td>\n",
       "      <td>0</td>\n",
       "      <td>0</td>\n",
       "      <td>0</td>\n",
       "      <td>0</td>\n",
       "      <td>0</td>\n",
       "      <td>0</td>\n",
       "      <td>0</td>\n",
       "      <td>0</td>\n",
       "      <td>0</td>\n",
       "    </tr>\n",
       "    <tr>\n",
       "      <th>MR301</th>\n",
       "      <td>4</td>\n",
       "      <td>6</td>\n",
       "      <td>5</td>\n",
       "      <td>6</td>\n",
       "      <td>6</td>\n",
       "      <td>5</td>\n",
       "      <td>6</td>\n",
       "      <td>5</td>\n",
       "      <td>1</td>\n",
       "      <td>44</td>\n",
       "    </tr>\n",
       "    <tr>\n",
       "      <th>MR401</th>\n",
       "      <td>0</td>\n",
       "      <td>1</td>\n",
       "      <td>1</td>\n",
       "      <td>0</td>\n",
       "      <td>0</td>\n",
       "      <td>1</td>\n",
       "      <td>1</td>\n",
       "      <td>1</td>\n",
       "      <td>0</td>\n",
       "      <td>5</td>\n",
       "    </tr>\n",
       "    <tr>\n",
       "      <th>MR501</th>\n",
       "      <td>0</td>\n",
       "      <td>0</td>\n",
       "      <td>0</td>\n",
       "      <td>0</td>\n",
       "      <td>0</td>\n",
       "      <td>0</td>\n",
       "      <td>0</td>\n",
       "      <td>0</td>\n",
       "      <td>0</td>\n",
       "      <td>0</td>\n",
       "    </tr>\n",
       "    <tr>\n",
       "      <th>MR601</th>\n",
       "      <td>0</td>\n",
       "      <td>0</td>\n",
       "      <td>1</td>\n",
       "      <td>0</td>\n",
       "      <td>1</td>\n",
       "      <td>1</td>\n",
       "      <td>1</td>\n",
       "      <td>1</td>\n",
       "      <td>0</td>\n",
       "      <td>5</td>\n",
       "    </tr>\n",
       "    <tr>\n",
       "      <th>MR701</th>\n",
       "      <td>1</td>\n",
       "      <td>1</td>\n",
       "      <td>1</td>\n",
       "      <td>0</td>\n",
       "      <td>0</td>\n",
       "      <td>1</td>\n",
       "      <td>0</td>\n",
       "      <td>1</td>\n",
       "      <td>0</td>\n",
       "      <td>5</td>\n",
       "    </tr>\n",
       "    <tr>\n",
       "      <th>MR702</th>\n",
       "      <td>0</td>\n",
       "      <td>0</td>\n",
       "      <td>0</td>\n",
       "      <td>0</td>\n",
       "      <td>0</td>\n",
       "      <td>0</td>\n",
       "      <td>0</td>\n",
       "      <td>0</td>\n",
       "      <td>0</td>\n",
       "      <td>0</td>\n",
       "    </tr>\n",
       "    <tr>\n",
       "      <th>TOTAL</th>\n",
       "      <td>21</td>\n",
       "      <td>31</td>\n",
       "      <td>30</td>\n",
       "      <td>31</td>\n",
       "      <td>31</td>\n",
       "      <td>30</td>\n",
       "      <td>31</td>\n",
       "      <td>30</td>\n",
       "      <td>5</td>\n",
       "      <td>240</td>\n",
       "    </tr>\n",
       "  </tbody>\n",
       "</table>\n",
       "</div>"
      ],
      "text/plain": [
       "       2025-04  2025-05  2025-06  2025-07  2025-08  2025-09  2025-10  2025-11  \\\n",
       "MR103        0        0        1        1        1        1        0        1   \n",
       "MR104        2        2        2        2        2        2        2        2   \n",
       "MR201        4        6        5        6        6        5        6        5   \n",
       "MR202        0        0        0        0        0        0        0        0   \n",
       "MR203        1        1        2        2        1        1        1        1   \n",
       "MR204        0        0        0        0        0        0        0        0   \n",
       "MR205        0        0        0        0        0        0        0        0   \n",
       "MR206        0        0        0        0        0        0        0        0   \n",
       "MR301        4        6        5        6        6        5        6        5   \n",
       "MR401        0        1        1        0        0        1        1        1   \n",
       "MR501        0        0        0        0        0        0        0        0   \n",
       "MR601        0        0        1        0        1        1        1        1   \n",
       "MR701        1        1        1        0        0        1        0        1   \n",
       "MR702        0        0        0        0        0        0        0        0   \n",
       "TOTAL       21       31       30       31       31       30       31       30   \n",
       "\n",
       "       2025-12  TOTAL  \n",
       "MR103        0      5  \n",
       "MR104        0     16  \n",
       "MR201        1     44  \n",
       "MR202        0      0  \n",
       "MR203        1     11  \n",
       "MR204        0      0  \n",
       "MR205        0      0  \n",
       "MR206        0      0  \n",
       "MR301        1     44  \n",
       "MR401        0      5  \n",
       "MR501        0      0  \n",
       "MR601        0      5  \n",
       "MR701        0      5  \n",
       "MR702        0      0  \n",
       "TOTAL        5    240  "
      ]
     },
     "execution_count": 9,
     "metadata": {},
     "output_type": "execute_result"
    }
   ],
   "source": [
    "# Concatenar la ruta completa al archivo .pkl\n",
    "ruta_cronograma_anual = os.path.join(\"data\",proyecto, f\"{proyecto}_cronograma_anual.pkl\")\n",
    "\n",
    "# Leer el archivo pickle\n",
    "with open(ruta_cronograma_anual, \"rb\") as f:\n",
    "    df_cronograma_anual = pickle.load(f)\n",
    "\n",
    "df_cronograma_anual.tail(15)"
   ]
  },
  {
   "cell_type": "markdown",
   "id": "afd42a26",
   "metadata": {},
   "source": [
    "## Cargando actividades"
   ]
  },
  {
   "cell_type": "code",
   "execution_count": 10,
   "id": "4cb23777",
   "metadata": {},
   "outputs": [
    {
     "name": "stdout",
     "output_type": "stream",
     "text": [
      "[{'key': 'MR100', 'value': {'label': 'Conservación de calzada', 'value': [{'key': 'MR101', 'value': {'label': 'Limpieza de calzada', 'carga_trabajo': 3.6, 'unidad': 'Km'}}, {'key': 'MR102', 'value': {'label': 'Bacheo', 'carga_trabajo': 360, 'unidad': 'm2'}}, {'key': 'MR103', 'value': {'label': 'Desquinche', 'carga_trabajo': 0, 'unidad': 'm3'}}, {'key': 'MR104', 'value': {'label': 'Remoción de derrumbes', 'carga_trabajo': 9, 'unidad': 'm3'}}]}}, {'key': 'MR200', 'value': {'label': 'Limpieza de obras de arte', 'value': [{'key': 'MR201', 'value': {'label': 'Limpieza de cunetas', 'carga_trabajo': 1440, 'unidad': 'm'}}, {'key': 'MR202', 'value': {'label': 'Limpieza de alcantarillas', 'carga_trabajo': 0, 'unidad': 'unidad'}}, {'key': 'MR203', 'value': {'label': 'Limpieza de badén', 'carga_trabajo': 0, 'unidad': 'm2'}}, {'key': 'MR204', 'value': {'label': 'Limpieza de zanjas de coronación', 'carga_trabajo': 0, 'unidad': 'm'}}, {'key': 'MR205', 'value': {'label': 'Limpieza de pontones', 'carga_trabajo': 0, 'unidad': 'unidad'}}, {'key': 'MR206', 'value': {'label': 'Encausamiento de pequeños cursos de agua', 'carga_trabajo': 0, 'unidad': 'm'}}]}}, {'key': 'MR300', 'value': {'label': 'Control de vegetación', 'value': [{'key': 'MR301', 'value': {'label': 'Roce y limpieza', 'carga_trabajo': 0, 'unidad': 'Km'}}]}}, {'key': 'MR400', 'value': {'label': 'Seguridad vial', 'value': [{'key': 'MR401', 'value': {'label': 'Conservación de señales', 'carga_trabajo': 10, 'unidad': 'unidad'}}]}}, {'key': 'MR500', 'value': {'label': 'Medio ambiente', 'value': [{'key': 'MR501', 'value': {'label': 'Reforestación', 'carga_trabajo': 0, 'unidad': 'unidad'}}]}}, {'key': 'MR600', 'value': {'label': 'Vigilancia y control vial', 'value': [{'key': 'MR601', 'value': {'label': 'Vigilancia y control', 'carga_trabajo': 0, 'unidad': 'Km'}}]}}, {'key': 'MR700', 'value': {'label': 'Actividades complementarias', 'value': [{'key': 'MR701', 'value': {'label': 'Reparación de muros secos', 'carga_trabajo': 0, 'unidad': 'm3'}}, {'key': 'MR702', 'value': {'label': 'Reparación de pontones', 'carga_trabajo': 0, 'unidad': 'unidad'}}]}}]\n"
     ]
    }
   ],
   "source": [
    "ruta_actividades= os.path.join(\"data\", \"general_data\", \"actividades.json\")\n",
    "with open(ruta_actividades, 'r', encoding='utf-8') as archivo:\n",
    "    actividades = json.load(archivo)\n",
    "# Ahora 'datos' es un diccionario de Python\n",
    "print(actividades)"
   ]
  },
  {
   "cell_type": "markdown",
   "id": "3ce2d559",
   "metadata": {},
   "source": [
    "## Cargando cargas de trabajo del contratista"
   ]
  },
  {
   "cell_type": "code",
   "execution_count": 11,
   "id": "8d06a58a",
   "metadata": {},
   "outputs": [
    {
     "name": "stdout",
     "output_type": "stream",
     "text": [
      "{'MR101': 3.6, 'MR102': 360, 'MR201': 1440, 'MR401': 10, 'MR104': 9}\n"
     ]
    }
   ],
   "source": [
    "ruta_cargas_trabajo= os.path.join(\"data\", proyecto,str(mes), f\"cargas_trabajo.json\")\n",
    "with open(ruta_cargas_trabajo, 'r', encoding='utf-8') as archivo:\n",
    "    cargas_trabajo_contratista_presente_mes = json.load(archivo)\n",
    "# Ahora 'cargas_trabajo_contratista' es un diccionario de Python\n",
    "print(cargas_trabajo_contratista_presente_mes)"
   ]
  },
  {
   "cell_type": "markdown",
   "id": "9a3b0216",
   "metadata": {},
   "source": [
    "## Funciones utiles"
   ]
  },
  {
   "cell_type": "code",
   "execution_count": 12,
   "id": "f3438b5f",
   "metadata": {},
   "outputs": [],
   "source": [
    "def calcular_porcentaje(cargas_mes, cargas_totales, carga_por_dia):\n",
    "    \"\"\"\n",
    "    Devuelve el porcentaje del proyecto programado para este mes,\n",
    "    ponderado por la carga de trabajo diaria de cada actividad.\n",
    "    \"\"\"\n",
    "    total_dias_mes = 0.0\n",
    "    total_dias_proyecto = 0.0\n",
    "\n",
    "    for actividad, dias_diarios in carga_por_dia.items():\n",
    "        # Ignoramos actividades sin capacidad diaria definida o totales cero\n",
    "        if dias_diarios <= 0:\n",
    "            continue\n",
    "\n",
    "        carga_mes = cargas_mes.get(actividad, 0.0)\n",
    "        carga_total = cargas_totales.get(actividad, 0.0)\n",
    "\n",
    "        # Convertimos cargas a días\n",
    "        total_dias_mes += carga_mes / dias_diarios\n",
    "        total_dias_proyecto += carga_total / dias_diarios\n",
    "        # print(\n",
    "        #     {\n",
    "        #         \"actividad\": actividad,\n",
    "        #         \"total_dias_mes\": total_dias_mes,\n",
    "        #         \"total_dias_proyecto\": total_dias_proyecto,\n",
    "        #     }\n",
    "        # )\n",
    "\n",
    "    if total_dias_proyecto == 0:\n",
    "        return 0.0\n",
    "\n",
    "    return total_dias_mes / total_dias_proyecto"
   ]
  },
  {
   "cell_type": "markdown",
   "id": "37ecb0f4",
   "metadata": {},
   "source": [
    "## Calculo"
   ]
  },
  {
   "cell_type": "code",
   "execution_count": 13,
   "id": "72be999b",
   "metadata": {},
   "outputs": [
    {
     "name": "stdout",
     "output_type": "stream",
     "text": [
      "['MR101', 'MR102', 'MR103', 'MR104', 'MR201', 'MR202', 'MR203', 'MR204', 'MR205', 'MR206', 'MR301', 'MR401', 'MR501', 'MR601', 'MR701', 'MR702']\n"
     ]
    }
   ],
   "source": [
    "actividades=df_cargas_trabajo_programadas.index.to_list()\n",
    "print(actividades)"
   ]
  },
  {
   "cell_type": "markdown",
   "id": "fab4a925",
   "metadata": {},
   "source": [
    "### Avance programado vigente en el mes"
   ]
  },
  {
   "cell_type": "code",
   "execution_count": 14,
   "id": "13a8622b",
   "metadata": {},
   "outputs": [
    {
     "name": "stdout",
     "output_type": "stream",
     "text": [
      "{'MR101': 1.5404444444444443, 'MR102': 153.1483333333333, 'MR103': 0.0, 'MR104': 17.01125, 'MR201': 1515.151818181818, 'MR202': 0.0, 'MR203': 42.42454545454546, 'MR204': 0.0, 'MR205': 0.0, 'MR206': 0.0, 'MR301': 3606.5154545454543, 'MR401': 0.0, 'MR501': 0.0, 'MR601': 0.0, 'MR701': 3.8659999999999997, 'MR702': 0.0}\n"
     ]
    }
   ],
   "source": [
    "# Buscamos la columna que termina en \"-04\"\n",
    "col = [c for c in df_cargas_trabajo_programadas.columns if c.endswith(f\"-{mes:02d}\")][0]\n",
    "\n",
    "# Extraemos la Serie y la pasamos a dict\n",
    "cargas_trabajo_programdas_presente_mes = df_cargas_trabajo_programadas[col].to_dict()\n",
    "\n",
    "print(cargas_trabajo_programdas_presente_mes)\n",
    "# {'MR101': 1.540444, 'MR102': 153.14833, ... }"
   ]
  },
  {
   "cell_type": "code",
   "execution_count": 15,
   "id": "049daf70",
   "metadata": {},
   "outputs": [
    {
     "name": "stdout",
     "output_type": "stream",
     "text": [
      "{'MR101': 17.329999999999995, 'MR102': 1837.78, 'MR103': 33.25, 'MR104': 136.09, 'MR201': 16666.67, 'MR202': 0.0, 'MR203': 466.67, 'MR204': 0.0, 'MR205': 0.0, 'MR206': 0.0, 'MR301': 39671.67, 'MR401': 29.33, 'MR501': 0.0, 'MR601': 112.67000000000002, 'MR701': 19.33, 'MR702': 0.0}\n"
     ]
    }
   ],
   "source": [
    "# Opción A: usando df.columns\n",
    "ultima_col = df_cargas_trabajo_programadas.columns[-1]\n",
    "cargas_trabajo_programadas_totales = df_cargas_trabajo_programadas[ultima_col].to_dict()\n",
    "print(cargas_trabajo_programadas_totales)"
   ]
  },
  {
   "cell_type": "code",
   "execution_count": 16,
   "id": "9717c4b1",
   "metadata": {},
   "outputs": [
    {
     "name": "stdout",
     "output_type": "stream",
     "text": [
      "{'MR101': 45, 'MR102': 60, 'MR103': 5, 'MR104': 16, 'MR201': 44, 'MR202': 0, 'MR203': 11, 'MR204': 0, 'MR205': 0, 'MR206': 0, 'MR301': 44, 'MR401': 5, 'MR501': 0, 'MR601': 5, 'MR701': 5, 'MR702': 0, 'TOTAL': 240}\n"
     ]
    }
   ],
   "source": [
    "dias_totales_por_actividad=df_cronograma_anual[ultima_col].to_dict()\n",
    "print(dias_totales_por_actividad)"
   ]
  },
  {
   "cell_type": "code",
   "execution_count": 17,
   "id": "32b4ace1",
   "metadata": {},
   "outputs": [
    {
     "name": "stdout",
     "output_type": "stream",
     "text": [
      "{'MR101': 0.385111111111111, 'MR102': 30.629666666666665, 'MR103': 6.65, 'MR104': 8.505625, 'MR201': 378.7879545454545, 'MR202': 0, 'MR203': 42.42454545454546, 'MR204': 0, 'MR205': 0, 'MR206': 0, 'MR301': 901.6288636363636, 'MR401': 5.866, 'MR501': 0, 'MR601': 22.534000000000002, 'MR701': 3.8659999999999997, 'MR702': 0, 'TOTAL': 0.0}\n"
     ]
    }
   ],
   "source": [
    "carga_por_dia = {\n",
    "    k: (\n",
    "        (cargas_trabajo_programadas_totales.get(k, 0) / dias_totales_por_actividad[k])\n",
    "        if dias_totales_por_actividad[k] != 0\n",
    "        else 0\n",
    "    )\n",
    "    for k in dias_totales_por_actividad\n",
    "}\n",
    "\n",
    "print(carga_por_dia)"
   ]
  },
  {
   "cell_type": "code",
   "execution_count": 18,
   "id": "64adfedb",
   "metadata": {},
   "outputs": [
    {
     "name": "stdout",
     "output_type": "stream",
     "text": [
      "{'MR101': 0.0888888888888889, 'MR102': 0.08333333333333333, 'MR103': 0.0, 'MR104': 0.125, 'MR201': 0.09090909090909091, 'MR202': 0, 'MR203': 0.09090909090909091, 'MR204': 0, 'MR205': 0, 'MR206': 0, 'MR301': 0.09090909090909091, 'MR401': 0.0, 'MR501': 0, 'MR601': 0.0, 'MR701': 0.2, 'MR702': 0}\n"
     ]
    }
   ],
   "source": [
    "porcentajes_programado_vigente_mes = {\n",
    "    k: (cargas_trabajo_programdas_presente_mes.get(k, 0) / cargas_trabajo_programadas_totales[k]\n",
    "        if cargas_trabajo_programadas_totales[k] != 0 else 0)\n",
    "    for k in cargas_trabajo_programadas_totales\n",
    "}\n",
    "print(porcentajes_programado_vigente_mes)"
   ]
  },
  {
   "cell_type": "code",
   "execution_count": 19,
   "id": "c577659c",
   "metadata": {},
   "outputs": [
    {
     "name": "stdout",
     "output_type": "stream",
     "text": [
      "0.0875\n"
     ]
    }
   ],
   "source": [
    "porcentaje_programado_vigente_mes=calcular_porcentaje(cargas_mes=cargas_trabajo_programdas_presente_mes,cargas_totales=cargas_trabajo_programadas_totales,carga_por_dia=carga_por_dia)\n",
    "print(porcentaje_programado_vigente_mes)"
   ]
  },
  {
   "cell_type": "markdown",
   "id": "0434fcf7",
   "metadata": {},
   "source": [
    "#### Como no calcular"
   ]
  },
  {
   "cell_type": "code",
   "execution_count": 20,
   "id": "47b1df69",
   "metadata": {},
   "outputs": [
    {
     "data": {
      "text/plain": [
       "\"\\nEn este script calculamos el avance mensual de dos formas:\\n\\n1. Avance ponderado por carga de trabajo:\\n   - Cada actividad tiene un porcentaje de ejecución y una 'carga_por_dia' (peso).\\n   - El avance global se obtiene como la suma de (porcentaje_ejecutado * carga_por_dia) \\n     dividida entre la suma total de todas las cargas.\\n   - De esta forma, las actividades que representan más trabajo diario (mayor carga)\\n     aportan proporcionalmente más al avance general.\\n\\n2. Promedio simple de porcentajes:\\n   - Se suman todos los porcentajes de ejecución y se dividen entre el número de actividades.\\n   - Este cálculo asume que todas las actividades tienen la misma importancia, \\n     independientemente de su carga real de trabajo.\\n   - Es incorrecto porque trata igual un metro de vereda (baja carga) que un kilómetro de carretera (alta carga),\\n     y podría dar un avance engañoso (por ejemplo, 100% de vereda + 0% de carretera → 50%).\\n\\nPor eso, el método ponderado refleja fielmente el progreso real,\\nmientras que el promedio simple solo sirve para comparaciones o ilustrar el sesgo del cálculo no ponderado.\\n\""
      ]
     },
     "execution_count": 20,
     "metadata": {},
     "output_type": "execute_result"
    }
   ],
   "source": [
    "\"\"\"\n",
    "En este script calculamos el avance mensual de dos formas:\n",
    "\n",
    "1. Avance ponderado por carga de trabajo:\n",
    "   - Cada actividad tiene un porcentaje de ejecución y una 'carga_por_dia' (peso).\n",
    "   - El avance global se obtiene como la suma de (porcentaje_ejecutado * carga_por_dia) \n",
    "     dividida entre la suma total de todas las cargas.\n",
    "   - De esta forma, las actividades que representan más trabajo diario (mayor carga)\n",
    "     aportan proporcionalmente más al avance general.\n",
    "\n",
    "2. Promedio simple de porcentajes:\n",
    "   - Se suman todos los porcentajes de ejecución y se dividen entre el número de actividades.\n",
    "   - Este cálculo asume que todas las actividades tienen la misma importancia, \n",
    "     independientemente de su carga real de trabajo.\n",
    "   - Es incorrecto porque trata igual un metro de vereda (baja carga) que un kilómetro de carretera (alta carga),\n",
    "     y podría dar un avance engañoso (por ejemplo, 100% de vereda + 0% de carretera → 50%).\n",
    "   \n",
    "Por eso, el método ponderado refleja fielmente el progreso real,\n",
    "mientras que el promedio simple solo sirve para comparaciones o ilustrar el sesgo del cálculo no ponderado.\n",
    "\"\"\""
   ]
  },
  {
   "cell_type": "code",
   "execution_count": 21,
   "id": "913634da",
   "metadata": {},
   "outputs": [],
   "source": [
    "def calcular_promedio_avance_mal(porcentajes):\n",
    "    \"\"\"\n",
    "    Devuelve el promedio simple de avance.\n",
    "    - porcentajes: dict actividad -> porcentaje ejecutado (0..1)\n",
    "    \"\"\"\n",
    "    total_actividades = len(porcentajes)\n",
    "    if total_actividades == 0:\n",
    "        return 0.0\n",
    "    suma_porcentajes = sum(porcentajes.values())\n",
    "    return suma_porcentajes / total_actividades"
   ]
  },
  {
   "cell_type": "code",
   "execution_count": 22,
   "id": "40211a1e",
   "metadata": {},
   "outputs": [
    {
     "name": "stdout",
     "output_type": "stream",
     "text": [
      "0.048121843434343434\n"
     ]
    }
   ],
   "source": [
    "print(calcular_promedio_avance_mal(porcentajes=porcentajes_programado_vigente_mes)) # Este metodo esta mal, porque solo promedia los avances"
   ]
  },
  {
   "cell_type": "markdown",
   "id": "7bc3888e",
   "metadata": {},
   "source": [
    "## Avance ejecutado en el mes"
   ]
  },
  {
   "cell_type": "code",
   "execution_count": 23,
   "id": "45fec11d",
   "metadata": {},
   "outputs": [
    {
     "name": "stdout",
     "output_type": "stream",
     "text": [
      "{'MR101': 0.20773225620311606, 'MR102': 0.19588851766805604, 'MR103': 0, 'MR104': 0.06613270629730325, 'MR201': 0.08639998272000346, 'MR202': 0, 'MR203': 0, 'MR204': 0, 'MR205': 0, 'MR206': 0, 'MR301': 0, 'MR401': 0.34094783498124787, 'MR501': 0, 'MR601': 0, 'MR701': 0, 'MR702': 0}\n"
     ]
    }
   ],
   "source": [
    "porcentajes_ejecutados_vigente_mes = {\n",
    "    k: (cargas_trabajo_contratista_presente_mes.get(k, 0) / cargas_trabajo_programadas_totales[k]\n",
    "        if cargas_trabajo_contratista_presente_mes.get(k, 0)  != 0 else 0)\n",
    "    for k in cargas_trabajo_programadas_totales\n",
    "}\n",
    "print(porcentajes_ejecutados_vigente_mes)"
   ]
  },
  {
   "cell_type": "code",
   "execution_count": 24,
   "id": "3155fac0",
   "metadata": {},
   "outputs": [
    {
     "name": "stdout",
     "output_type": "stream",
     "text": [
      "{'MR101': 3.6, 'MR102': 360, 'MR201': 1440, 'MR401': 10, 'MR104': 9}\n"
     ]
    }
   ],
   "source": [
    "print(cargas_trabajo_contratista_presente_mes)"
   ]
  },
  {
   "cell_type": "code",
   "execution_count": 25,
   "id": "272d6a25",
   "metadata": {},
   "outputs": [
    {
     "name": "stdout",
     "output_type": "stream",
     "text": [
      "0.11527385126902844\n"
     ]
    }
   ],
   "source": [
    "porcentaje_ejecutado_vigente_mes=calcular_porcentaje(cargas_mes=cargas_trabajo_contratista_presente_mes,cargas_totales=cargas_trabajo_programadas_totales,carga_por_dia=carga_por_dia)\n",
    "print(porcentaje_ejecutado_vigente_mes)"
   ]
  },
  {
   "cell_type": "code",
   "execution_count": null,
   "id": "e0d5b356",
   "metadata": {},
   "outputs": [],
   "source": [
    "data_to_see = {\n",
    "    \"porcentaje_programado_vigente_mes\": porcentaje_programado_vigente_mes * 100,\n",
    "    \"porcentaje_ejecutado_vigente_mes\": porcentaje_ejecutado_vigente_mes * 100,\n",
    "    \"porcentaje_programado_acumulado_vigente_mes\": porcentaje_programado_vigente_mes\n",
    "    * 100,\n",
    "    \"porcentaje_ejecutado_acumulado_vigente_mes\": porcentaje_ejecutado_vigente_mes\n",
    "    * 100,\n",
    "}"
   ]
  },
  {
   "cell_type": "code",
   "execution_count": null,
   "id": "0dd322f9",
   "metadata": {},
   "outputs": [],
   "source": [
    "data_to_print = {\n",
    "    \"porcentaje_programado_vigente_mes\": porcentaje_programado_vigente_mes,\n",
    "    \"porcentaje_ejecutado_vigente_mes\": porcentaje_ejecutado_vigente_mes,\n",
    "    \"porcentaje_programado_acumulado_vigente_mes\": porcentaje_programado_vigente_mes,\n",
    "    \"porcentaje_ejecutado_acumulado_vigente_mes\": porcentaje_ejecutado_vigente_mes,\n",
    "}"
   ]
  },
  {
   "cell_type": "code",
   "execution_count": 27,
   "id": "7986359e",
   "metadata": {},
   "outputs": [],
   "source": [
    "ruta_directorio = os.path.join(\"output\", proyecto, str(mes))\n",
    "ruta_archivo = os.path.join(ruta_directorio, \"cargas_trabajo.json\")\n",
    "\n",
    "# Crear el directorio si no existe\n",
    "os.makedirs(ruta_directorio, exist_ok=True)\n",
    "# Guardar el diccionario en un archivo JSON\n",
    "\n",
    "with open(ruta_archivo, \"w\", encoding=\"utf-8\") as archivo_json:\n",
    "    json.dump(data, archivo_json, ensure_ascii=False, indent=4)\n"
   ]
  }
 ],
 "metadata": {
  "kernelspec": {
   "display_name": ".venv",
   "language": "python",
   "name": "python3"
  },
  "language_info": {
   "codemirror_mode": {
    "name": "ipython",
    "version": 3
   },
   "file_extension": ".py",
   "mimetype": "text/x-python",
   "name": "python",
   "nbconvert_exporter": "python",
   "pygments_lexer": "ipython3",
   "version": "3.12.4"
  }
 },
 "nbformat": 4,
 "nbformat_minor": 5
}
