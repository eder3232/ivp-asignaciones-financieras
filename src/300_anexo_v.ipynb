{
 "cells": [
  {
   "cell_type": "markdown",
   "id": "79aef0a2",
   "metadata": {},
   "source": [
    "# Anexo V"
   ]
  },
  {
   "cell_type": "markdown",
   "id": "c8a0f8f8",
   "metadata": {},
   "source": [
    "## Librerias necesarias"
   ]
  },
  {
   "cell_type": "code",
   "execution_count": 1,
   "id": "d8f9dcc5",
   "metadata": {},
   "outputs": [],
   "source": [
    "import pandas as pd\n",
    "import os\n",
    "import pickle\n",
    "import xlsxwriter\n",
    "from xlsxwriter.utility import xl_range, xl_rowcol_to_cell\n",
    "import re\n",
    "from typing import Dict, List, Any\n",
    "import itertools\n",
    "from firebase_admin import credentials, firestore\n",
    "import excel2img\n",
    "from openpyxl import load_workbook\n",
    "from openpyxl.utils import get_column_letter\n",
    "import os\n",
    "from pathlib import Path\n",
    "from dotenv import load_dotenv, find_dotenv\n",
    "from google.oauth2 import service_account\n",
    "from google.cloud import firestore\n",
    "import json\n",
    "from datetime import date, timedelta\n",
    "import calendar\n",
    "import math\n",
    "import random\n",
    "from typing import List, Dict, Optional"
   ]
  },
  {
   "cell_type": "markdown",
   "id": "af0a0aed",
   "metadata": {},
   "source": [
    "## Datos del proyecto en análisis"
   ]
  },
  {
   "cell_type": "code",
   "execution_count": 2,
   "id": "1a9746c0",
   "metadata": {},
   "outputs": [],
   "source": [
    "proyecto=\"cabanaconde\"\n",
    "mes=4\n",
    "anio=2025"
   ]
  },
  {
   "cell_type": "markdown",
   "id": "400ded16",
   "metadata": {},
   "source": [
    "## Datos de Firestore"
   ]
  },
  {
   "cell_type": "code",
   "execution_count": 3,
   "id": "dd392952",
   "metadata": {},
   "outputs": [
    {
     "name": "stdout",
     "output_type": "stream",
     "text": [
      "Colecciones disponibles: ['rutinarios']\n"
     ]
    }
   ],
   "source": [
    "## Datos de # 1. Busca el .env en el directorio actual o en cualquiera de los padres\n",
    "dotenv_path = find_dotenv()\n",
    "if not dotenv_path:\n",
    "    raise FileNotFoundError(\"No se encontró ningún archivo .env en este directorio ni en sus padres.\")\n",
    "load_dotenv(dotenv_path)\n",
    "\n",
    "# 2. Define el root del proyecto como la carpeta que contiene el .env\n",
    "project_root = Path(dotenv_path).parent\n",
    "\n",
    "# 3. Obtén la ruta relativa de las credenciales desde la variable de entorno\n",
    "rel_cred_path = os.getenv(\"FIRESTORE_CREDENTIALS\")\n",
    "if not rel_cred_path:\n",
    "    raise RuntimeError(\"No existe la variable FIRESTORE_CREDENTIALS en el .env\")\n",
    "\n",
    "# 4. Construye la ruta absoluta al JSON\n",
    "cred_path = Path(rel_cred_path)\n",
    "if not cred_path.is_absolute():\n",
    "    cred_path = (project_root / cred_path).resolve()\n",
    "\n",
    "if not cred_path.exists():\n",
    "    raise FileNotFoundError(f\"No existe el archivo de credenciales en: {cred_path}\")\n",
    "\n",
    "# 5. Carga las credenciales y crea el cliente de Firestore\n",
    "credentials = service_account.Credentials.from_service_account_file(str(cred_path))\n",
    "client = firestore.Client(credentials=credentials, project=credentials.project_id)\n",
    "\n",
    "# 6. Prueba que funcione\n",
    "print(\"Colecciones disponibles:\", [c.id for c in client.collections()])"
   ]
  },
  {
   "cell_type": "code",
   "execution_count": 4,
   "id": "598d7b36",
   "metadata": {},
   "outputs": [],
   "source": [
    "db=firestore.Client(credentials=credentials, project=credentials.project_id)"
   ]
  },
  {
   "cell_type": "code",
   "execution_count": 5,
   "id": "6b0d1ff3",
   "metadata": {},
   "outputs": [
    {
     "name": "stdout",
     "output_type": "stream",
     "text": [
      "{'otros': {'tipo_superficie': 'afirmado', 'estado_conservacion_via': 'bueno'}, 'datos_generales': {'distritos': ['Cabanaconde'], 'region': 'Arequipa', 'provincia': 'Caylloma'}, 'expediente': {'codigo_ruta': 'R0405106', 'monto_total': 81120, 'coordenadas': {'fin': {'hemisferio': 'S', 'y': 8272525.68, 'progresiva': 13000, 'zona_letra': 'L', 'x': 813907.99, 'datum': 'WGS84', 'altitud': 1975, 'zona': 18}, 'inicio': {'hemisferio': 'S', 'y': 8272658.46, 'progresiva': 0, 'zona_letra': 'L', 'x': 819845.05, 'datum': 'WGS84', 'altitud': 2877, 'zona': 18}}, 'nombre': 'MANTENIMIENTO VIAL RUTINARIO DEL CAMINO VECINAL EMP. R0405104 (CABANACONDE) A PTE. CABANACONDE - CHOCO (L.P. CASTILLA), DISTRITO DE CABANACONDE, PROVINCIA DE CAYLLOMA, REGIÓN AREQUIPA', 'tarifa_km_mes': 780, 'longitud': 13000}, 'other': {'tipo_superficie': 'afirmado', 'estado_conservacion_via': 'bueno'}, 'contrato': {'jefe_mantenimiento': {'titulo': 'Ingeniero', 'nombre': 'Genaro', 'dni': 0, 'apellido': 'Tinta Cáceres'}, 'numero_trabajadores': 4, 'denominacion_tramo_convenio': 'Emp. Choco Soro Soro (Cabanaconde) a Pte. Cabanaconde - Choco - Ld Castilla (Km 14+064)', 'numero_cuadrillas': 1, 'tipo_servicio': 'mantenimiento rutinario', 'fecha_inicio': {'anio': 2025, 'mes': 4, 'dia': 10}, 'id_contrato': '001-2025', 'monto_contrato': 64896, 'contratista': {'razon_social': 'Grupo ARICOL E.I.R.L.', 'ruc': 20606988398}, 'tiempo_ejecucion_dias': 240}, 'general_data': {'distritos': ['Cabanaconde'], 'region': 'Arequipa', 'provincia': 'Caylloma'}}\n"
     ]
    }
   ],
   "source": [
    "# 4. Define la ruta a tu documento anidado\n",
    "colec_raiz = \"rutinarios\"\n",
    "doc_proyecto = proyecto     # puede ser tu variable proyecto\n",
    "# colec_valoriz = \"valorizaciones\"\n",
    "# id_valoriz = \"4\"  \n",
    "\n",
    "doc_ref = (\n",
    "    db\n",
    "    .collection(colec_raiz)\n",
    "    .document(doc_proyecto)\n",
    "    # .collection(colec_valoriz)\n",
    "    # .document(id_valoriz)\n",
    ")\n",
    "\n",
    "data_mantenimiento_snapshot=doc_ref.get()\n",
    "\n",
    "if not data_mantenimiento_snapshot.exists:\n",
    "    print(f\"El documento {doc_ref.path} no existe.\")\n",
    "\n",
    "data_mantenimiento= data_mantenimiento_snapshot.to_dict()\n",
    "print(data_mantenimiento)"
   ]
  },
  {
   "cell_type": "code",
   "execution_count": 6,
   "id": "a48caadb",
   "metadata": {},
   "outputs": [
    {
     "name": "stdout",
     "output_type": "stream",
     "text": [
      "Longitud del contrato: 13000 m\n"
     ]
    }
   ],
   "source": [
    "longitud=data_mantenimiento['expediente']['longitud']\n",
    "print(f\"Longitud del contrato: {longitud} m\")"
   ]
  },
  {
   "cell_type": "code",
   "execution_count": 7,
   "id": "b8cf68a9",
   "metadata": {},
   "outputs": [
    {
     "name": "stdout",
     "output_type": "stream",
     "text": [
      "Empresa contratista: Grupo ARICOL E.I.R.L.\n"
     ]
    }
   ],
   "source": [
    "empresa=data_mantenimiento['contrato']['contratista']['razon_social']\n",
    "print(f\"Empresa contratista: {empresa}\")"
   ]
  },
  {
   "cell_type": "code",
   "execution_count": 8,
   "id": "1a10819b",
   "metadata": {},
   "outputs": [
    {
     "name": "stdout",
     "output_type": "stream",
     "text": [
      "Tramo: Emp. Choco Soro Soro (Cabanaconde) a Pte. Cabanaconde - Choco - Ld Castilla (Km 14+064)\n"
     ]
    }
   ],
   "source": [
    "tramo=data_mantenimiento['contrato']['denominacion_tramo_convenio']\n",
    "print(f\"Tramo: {tramo}\")"
   ]
  },
  {
   "cell_type": "code",
   "execution_count": 9,
   "id": "85275b46",
   "metadata": {},
   "outputs": [
    {
     "name": "stdout",
     "output_type": "stream",
     "text": [
      "Sector: Cabanaconde\n"
     ]
    }
   ],
   "source": [
    "sector=''.join(data_mantenimiento['datos_generales']['distritos'])\n",
    "print(f\"Sector: {sector}\")"
   ]
  },
  {
   "cell_type": "markdown",
   "id": "855c443c",
   "metadata": {},
   "source": [
    "## Cargando actividades"
   ]
  },
  {
   "cell_type": "code",
   "execution_count": 10,
   "id": "b8b073e8",
   "metadata": {},
   "outputs": [
    {
     "name": "stdout",
     "output_type": "stream",
     "text": [
      "[{'key': 'MR100', 'value': {'label': 'Conservación de calzada', 'value': [{'key': 'MR101', 'value': {'label': 'Limpieza de calzada', 'carga_trabajo': 0, 'unidad': 'Km'}}, {'key': 'MR102', 'value': {'label': 'Bacheo', 'carga_trabajo': 0, 'unidad': 'm2'}}, {'key': 'MR103', 'value': {'label': 'Desquinche', 'carga_trabajo': 0, 'unidad': 'm3'}}, {'key': 'MR104', 'value': {'label': 'Remoción de derrumbes', 'carga_trabajo': 0, 'unidad': 'm3'}}]}}, {'key': 'MR200', 'value': {'label': 'Limpieza de obras de arte', 'value': [{'key': 'MR201', 'value': {'label': 'Limpieza de cunetas', 'carga_trabajo': 1440, 'unidad': 'm'}}, {'key': 'MR202', 'value': {'label': 'Limpieza de alcantarillas', 'carga_trabajo': 0, 'unidad': 'unidad'}}, {'key': 'MR203', 'value': {'label': 'Limpieza de badén', 'carga_trabajo': 0, 'unidad': 'm2'}}, {'key': 'MR204', 'value': {'label': 'Limpieza de zanjas de coronación', 'carga_trabajo': 0, 'unidad': 'm'}}, {'key': 'MR205', 'value': {'label': 'Limpieza de pontones', 'carga_trabajo': 0, 'unidad': 'unidad'}}, {'key': 'MR206', 'value': {'label': 'Encausamiento de pequeños cursos de agua', 'carga_trabajo': 0, 'unidad': 'm'}}]}}, {'key': 'MR300', 'value': {'label': 'Control de vegetación', 'value': [{'key': 'MR301', 'value': {'label': 'Roce y limpieza', 'carga_trabajo': 0, 'unidad': 'm2'}}]}}, {'key': 'MR400', 'value': {'label': 'Seguridad vial', 'value': [{'key': 'MR401', 'value': {'label': 'Conservación de señales', 'carga_trabajo': 10, 'unidad': 'unidad'}}]}}, {'key': 'MR500', 'value': {'label': 'Medio ambiente', 'value': [{'key': 'MR501', 'value': {'label': 'Reforestación', 'carga_trabajo': 0, 'unidad': 'unidad'}}]}}, {'key': 'MR600', 'value': {'label': 'Vigilancia y control vial', 'value': [{'key': 'MR601', 'value': {'label': 'Vigilancia y control', 'carga_trabajo': 0, 'unidad': 'Km'}}]}}, {'key': 'MR700', 'value': {'label': 'Actividades complementarias', 'value': [{'key': 'MR701', 'value': {'label': 'Reparación de muros secos', 'carga_trabajo': 0, 'unidad': 'm3'}}, {'key': 'MR702', 'value': {'label': 'Reparación de pontones', 'carga_trabajo': 0, 'unidad': 'unidad'}}]}}]\n"
     ]
    }
   ],
   "source": [
    "ruta_actividades= os.path.join(\"data\", \"general_data\", \"actividades.json\")\n",
    "with open(ruta_actividades, 'r', encoding='utf-8') as archivo:\n",
    "    actividades = json.load(archivo)\n",
    "# Ahora 'datos' es un diccionario de Python\n",
    "print(actividades)"
   ]
  },
  {
   "cell_type": "markdown",
   "id": "2475492c",
   "metadata": {},
   "source": [
    "## Funciones útiles"
   ]
  },
  {
   "cell_type": "code",
   "execution_count": 11,
   "id": "60ea8cc1",
   "metadata": {},
   "outputs": [],
   "source": [
    "def distribuir_plazos(fecha_inicio: date, duracion: int) -> list[dict]:\n",
    "    \"\"\"\n",
    "    Divide el periodo de obra en tramos mensuales.\n",
    "\n",
    "    Parámetros:\n",
    "    - fecha_inicio: date en que inicia la obra (se cuenta ese día como parte del plazo).\n",
    "    - duracion: número de días calendarios (> 0).\n",
    "\n",
    "    Devuelve:\n",
    "    Una lista de diccionarios, uno por cada mes cubierto, con la forma:\n",
    "      {\n",
    "        \"desde\": {\"year\": int, \"month\": int, \"day\": int, \"date\": date},\n",
    "        \"hasta\": {\"year\": int, \"month\": int, \"day\": int, \"date\": date}\n",
    "      }\n",
    "\n",
    "    Lanza ValueError si:\n",
    "    - duracion ≤ 0\n",
    "    - la fecha de fin (incluyendo el día de arranque) cruza al año siguiente.\n",
    "    \"\"\"\n",
    "    if duracion <= 0:\n",
    "        raise ValueError(f\"Duración inválida ({duracion}); debe ser un entero positivo.\")\n",
    "\n",
    "    # Cálculo de la fecha final (inclusiva)\n",
    "    fecha_fin = fecha_inicio + timedelta(days=duracion - 1)\n",
    "    if fecha_fin.year > fecha_inicio.year:\n",
    "        raise ValueError(\n",
    "            f\"La obra se extiende hasta {fecha_fin}, excede el año {fecha_inicio.year}.\"\n",
    "        )\n",
    "\n",
    "    resultados = []\n",
    "    # Iterar mes a mes desde fecha_inicio hasta fecha_fin\n",
    "    año, mes = fecha_inicio.year, fecha_inicio.month\n",
    "    while True:\n",
    "        # Primer día del mes actual\n",
    "        inicio_mes = date(año, mes, 1)\n",
    "        # Último día del mes actual\n",
    "        ultimo_dia = calendar.monthrange(año, mes)[1]\n",
    "        fin_mes = date(año, mes, ultimo_dia)\n",
    "\n",
    "        # Determinar tramo \"desde\" y \"hasta\" dentro de este mes\n",
    "        tramo_desde = fecha_inicio if (año == fecha_inicio.year and mes == fecha_inicio.month) else inicio_mes\n",
    "        tramo_hasta = fecha_fin if (año == fecha_fin.year and mes == fecha_fin.month) else fin_mes\n",
    "\n",
    "        resultados.append({\n",
    "            \"desde\": {\n",
    "                \"year\": tramo_desde.year,\n",
    "                \"month\": tramo_desde.month,\n",
    "                \"day\": tramo_desde.day,\n",
    "                \"date\": tramo_desde\n",
    "            },\n",
    "            \"hasta\": {\n",
    "                \"year\": tramo_hasta.year,\n",
    "                \"month\": tramo_hasta.month,\n",
    "                \"day\": tramo_hasta.day,\n",
    "                \"date\": tramo_hasta\n",
    "            }\n",
    "        })\n",
    "\n",
    "        # Si ya cubrimos hasta la fecha_fin, rompemos\n",
    "        if (año, mes) == (fecha_fin.year, fecha_fin.month):\n",
    "            break\n",
    "\n",
    "        # Avanzar al siguiente mes\n",
    "        if mes == 12:\n",
    "            año += 1\n",
    "            mes = 1\n",
    "        else:\n",
    "            mes += 1\n",
    "\n",
    "    return resultados"
   ]
  },
  {
   "cell_type": "markdown",
   "id": "94bea730",
   "metadata": {},
   "source": [
    "### Generador de errores"
   ]
  },
  {
   "cell_type": "code",
   "execution_count": 12,
   "id": "e920ca2d",
   "metadata": {},
   "outputs": [],
   "source": [
    "def generar_datos_errores_unidades(\n",
    "    longitud: float,\n",
    "    error_permitido: float,\n",
    "    recurrencia: float,\n",
    "    intensidad: float,\n",
    "    variacion: float,\n",
    "    paso: float,\n",
    "    seed: Optional[int] = None\n",
    ") -> List[Dict]:\n",
    "    \"\"\"\n",
    "    Genera datos falsos de errores distribuidos en tramos de carretera.\n",
    "\n",
    "    Parámetros:\n",
    "    - longitud (float): Longitud total de la carretera en metros. Debe ser > 0.\n",
    "    - error_permitido (float): Número máximo de fallas por kilómetro (contador ≥ 0).\n",
    "    - recurrencia (float): Proporción de tramos que tendrán error (0 ≤ recurrencia ≤ 1).\n",
    "    - intensidad (float): Factor que multiplica el máximo de errores permitidos (≥ 0).\n",
    "    - variacion (float): Amplitud de variación relativa sobre el valor base (0 ≤ variacion ≤ 1).\n",
    "    - paso (float): Incremento mínimo para el valor de error (> 0).\n",
    "    - seed (int, opcional): Semilla para reproducibilidad. Por defecto None.\n",
    "\n",
    "    Validaciones:\n",
    "    - longitud > 0\n",
    "    - error_permitido ≥ 0\n",
    "    - 0 ≤ recurrencia ≤ 1\n",
    "    - intensidad ≥ 0\n",
    "    - 0 ≤ variacion ≤ 1\n",
    "    - paso > 0\n",
    "\n",
    "    Salida:\n",
    "    Lista de diccionarios, uno por tramo. Cada dict contiene:\n",
    "    - \"tramo\": número de tramo (1, 2, …)\n",
    "    - \"inicio_m\": punto de inicio del tramo (en metros)\n",
    "    - \"fin_m\": punto final del tramo (en metros)\n",
    "    - \"longitud_m\": longitud efectiva del tramo (m)\n",
    "    - \"error\": valor simulado de errores (múltiplo de `paso`)\n",
    "    \"\"\"\n",
    "    # Validaciones de entrada\n",
    "    if longitud <= 0:\n",
    "        raise ValueError(\"La longitud debe ser > 0.\")\n",
    "    if error_permitido < 0:\n",
    "        raise ValueError(\"error_permitido debe ser ≥ 0.\")\n",
    "    if not (0 <= recurrencia <= 1):\n",
    "        raise ValueError(\"recurrencia debe estar entre 0 y 1.\")\n",
    "    if intensidad < 0:\n",
    "        raise ValueError(\"intensidad debe ser ≥ 0.\")\n",
    "    if not (0 <= variacion <= 1):\n",
    "        raise ValueError(\"variacion debe estar entre 0 y 1.\")\n",
    "    if paso <= 0:\n",
    "        raise ValueError(\"paso debe ser > 0.\")\n",
    "\n",
    "    # Fijar semilla si se pide\n",
    "    if seed is not None:\n",
    "        random.seed(seed)\n",
    "\n",
    "    # División en tramos de 1 km\n",
    "    num_tramos = math.ceil(longitud / 1000)\n",
    "    tramos = []\n",
    "    for i in range(num_tramos):\n",
    "        inicio = i * 1000.0\n",
    "        fin = min((i + 1) * 1000.0, longitud)\n",
    "        tramos.append({\n",
    "            \"tramo\": i + 1,\n",
    "            \"inicio_m\": inicio,\n",
    "            \"fin_m\": fin,\n",
    "            \"longitud_m\": fin - inicio,\n",
    "            \"error\": 0.0  # se llenará luego\n",
    "        })\n",
    "\n",
    "    # Número de tramos con error\n",
    "    errores_tramos = round(num_tramos * recurrencia)\n",
    "\n",
    "    # Selección \"espaciada\" de índices\n",
    "    indices_error = set()\n",
    "    if errores_tramos > 0:\n",
    "        paso_espacio = num_tramos / errores_tramos\n",
    "        for k in range(errores_tramos):\n",
    "            idx = int(math.floor((k + 0.5) * paso_espacio))\n",
    "            # asegurar rango válido\n",
    "            idx = max(0, min(num_tramos - 1, idx))\n",
    "            indices_error.add(idx)\n",
    "\n",
    "    # Generación de valores de error\n",
    "    base_error = intensidad * error_permitido\n",
    "    for idx in indices_error:\n",
    "        # variación aleatoria en ±variacion * base_error\n",
    "        delta = random.uniform(-variacion, variacion) * base_error\n",
    "        raw = base_error + delta\n",
    "        # redondear al múltiplo de `paso`\n",
    "        ajustado = round(raw / paso) * paso\n",
    "        # evitar negativos\n",
    "        tramos[idx][\"error\"] = max(0.0, ajustado)\n",
    "\n",
    "    return tramos"
   ]
  },
  {
   "cell_type": "code",
   "execution_count": null,
   "id": "efcd59e8",
   "metadata": {},
   "outputs": [],
   "source": [
    "import math\n",
    "import random\n",
    "from typing import List, Dict, Optional\n",
    "\n",
    "def generar_datos_falla_longitud(\n",
    "    longitud: float,\n",
    "    max_longitud_falla_km: float,\n",
    "    recurrencia: float,\n",
    "    intensidad: float,\n",
    "    variacion: float,\n",
    "    paso: float,\n",
    "    seed: Optional[int] = None\n",
    ") -> List[Dict]:\n",
    "    \"\"\"\n",
    "    Genera datos falsos de longitud de falla distribuidos en tramos de carretera.\n",
    "\n",
    "    Parámetros:\n",
    "    - longitud (float): longitud total de la carretera en metros (> 0).\n",
    "    - max_longitud_falla_km (float): longitud máxima de falla en metros por kilómetro (≥ 0).\n",
    "    - recurrencia (float): proporción de tramos que tendrán falla (0 ≤ recurrencia ≤ 1).\n",
    "    - intensidad (float): factor multiplicador sobre la longitud máxima (≥ 0).\n",
    "    - variacion (float): ±porcentaje de variación sobre el valor base (0 ≤ variacion ≤ 1).\n",
    "    - paso (float): resolución mínima en metros; el fallo se redondeará a múltiplos de este paso (> 0).\n",
    "    - seed (int, opcional): semilla para reproducibilidad.\n",
    "\n",
    "    Devuelve:\n",
    "    Lista de dicts, uno por tramo, con estas claves:\n",
    "      - \"tramo\": número de tramo (1, 2, …)\n",
    "      - \"inicio_m\", \"fin_m\", \"longitud_m\": en metros\n",
    "      - \"falla_m\": longitud simulada de falla en ese tramo (múltiplo de `paso`)\n",
    "    \"\"\"\n",
    "    # 1. Validaciones\n",
    "    if longitud <= 0:\n",
    "        raise ValueError(\"La longitud debe ser > 0.\")\n",
    "    if max_longitud_falla_km < 0:\n",
    "        raise ValueError(\"max_longitud_falla_km debe ser ≥ 0.\")\n",
    "    if not (0 <= recurrencia <= 1):\n",
    "        raise ValueError(\"recurrencia debe estar entre 0 y 1.\")\n",
    "    if intensidad < 0:\n",
    "        raise ValueError(\"intensidad debe ser ≥ 0.\")\n",
    "    if not (0 <= variacion <= 1):\n",
    "        raise ValueError(\"variacion debe estar entre 0 y 1.\")\n",
    "    if paso <= 0:\n",
    "        raise ValueError(\"paso debe ser > 0.\")\n",
    "\n",
    "    # 2. Semilla\n",
    "    if seed is not None:\n",
    "        random.seed(seed)\n",
    "\n",
    "    # 3. División en tramos de 1 km\n",
    "    num_tramos = math.ceil(longitud / 1000)\n",
    "    tramos = []\n",
    "    for i in range(num_tramos):\n",
    "        inicio = i * 1000.0\n",
    "        fin = min((i + 1) * 1000.0, longitud)\n",
    "        tramos.append({\n",
    "            \"tramo\": i + 1,\n",
    "            \"inicio_m\": inicio,\n",
    "            \"fin_m\": fin,\n",
    "            \"longitud_m\": fin - inicio,\n",
    "            \"falla_m\": 0.0\n",
    "        })\n",
    "\n",
    "    # 4. Cuántos tramos deben fallar\n",
    "    n_fallas = round(num_tramos * recurrencia)\n",
    "\n",
    "    # 5. Selección “espaciada” de índices con falla\n",
    "    indices = set()\n",
    "    if n_fallas > 0:\n",
    "        espacio = num_tramos / n_fallas\n",
    "        for k in range(n_fallas):\n",
    "            idx = int(math.floor((k + 0.5) * espacio))\n",
    "            idx = max(0, min(num_tramos - 1, idx))\n",
    "            indices.add(idx)\n",
    "\n",
    "    # 6. Generación de la longitud de falla\n",
    "    base = intensidad * max_longitud_falla_km\n",
    "    for idx in indices:\n",
    "        delta = random.uniform(-variacion, variacion) * base\n",
    "        raw = base + delta\n",
    "        ajustado = round(raw / paso) * paso\n",
    "        tramos[idx][\"falla_m\"] = max(0.0, ajustado)\n",
    "\n",
    "    return tramos\n"
   ]
  },
  {
   "cell_type": "code",
   "execution_count": 15,
   "id": "53d6c36e",
   "metadata": {},
   "outputs": [],
   "source": [
    "import math\n",
    "import random\n",
    "from typing import List, Dict, Optional\n",
    "\n",
    "def generar_datos_porcentaje(\n",
    "    longitud: float,\n",
    "    max_porcentaje_km: float,\n",
    "    recurrencia: float,\n",
    "    intensidad: float,\n",
    "    variacion: float,\n",
    "    paso: float,\n",
    "    seed: Optional[int] = None\n",
    ") -> List[Dict]:\n",
    "    \"\"\"\n",
    "    Genera datos falsos de porcentaje de sección bloqueada distribuidos en tramos de carretera.\n",
    "\n",
    "    Parámetros:\n",
    "    - longitud (float): longitud total en metros (> 0).\n",
    "    - max_porcentaje_km (float): porcentaje máximo bloqueado por km (0 ≤ valor ≤ 1).\n",
    "    - recurrencia (float): proporción de tramos con bloqueo (0 ≤ valor ≤ 1).\n",
    "    - intensidad (float): factor multiplicador sobre el porcentaje máximo (≥ 0).\n",
    "    - variacion (float): ±porcentaje de variación sobre el valor base (0 ≤ valor ≤ 1).\n",
    "    - paso (float): resolución mínima en proporción (p. ej. 0.01 para 1%) (> 0).\n",
    "    - seed (int, opcional): semilla para reproducibilidad.\n",
    "\n",
    "    Devuelve:\n",
    "    Lista de dicts (uno por tramo) con estas claves:\n",
    "      - \"tramo\": número de tramo (1, 2, …)\n",
    "      - \"inicio_m\", \"fin_m\", \"longitud_m\": metros\n",
    "      - \"bloqueado_pct\": proporción bloqueada en [0, 1], múltiplo de `paso`\n",
    "    \"\"\"\n",
    "    # Validaciones\n",
    "    if longitud <= 0:\n",
    "        raise ValueError(\"La longitud debe ser > 0.\")\n",
    "    if not (0 <= max_porcentaje_km <= 1):\n",
    "        raise ValueError(\"max_porcentaje_km debe estar entre 0 y 1.\")\n",
    "    if not (0 <= recurrencia <= 1):\n",
    "        raise ValueError(\"recurrencia debe estar entre 0 y 1.\")\n",
    "    if intensidad < 0:\n",
    "        raise ValueError(\"intensidad debe ser ≥ 0.\")\n",
    "    if not (0 <= variacion <= 1):\n",
    "        raise ValueError(\"variacion debe estar entre 0 y 1.\")\n",
    "    if paso <= 0 or paso > 1:\n",
    "        raise ValueError(\"paso debe ser > 0 y ≤ 1.\")\n",
    "\n",
    "    if seed is not None:\n",
    "        random.seed(seed)\n",
    "\n",
    "    # División en tramos de 1 km\n",
    "    num_tramos = math.ceil(longitud / 1000)\n",
    "    tramos = []\n",
    "    for i in range(num_tramos):\n",
    "        inicio = i * 1000.0\n",
    "        fin = min((i + 1) * 1000.0, longitud)\n",
    "        tramos.append({\n",
    "            \"tramo\": i + 1,\n",
    "            \"inicio_m\": inicio,\n",
    "            \"fin_m\": fin,\n",
    "            \"longitud_m\": fin - inicio,\n",
    "            \"bloqueado_pct\": 0.0\n",
    "        })\n",
    "\n",
    "    # Cuántos tramos tendrán bloqueo\n",
    "    n_bloqueos = round(num_tramos * recurrencia)\n",
    "\n",
    "    # Selección “espaciada”\n",
    "    indices = set()\n",
    "    if n_bloqueos > 0:\n",
    "        espacio = num_tramos / n_bloqueos\n",
    "        for k in range(n_bloqueos):\n",
    "            idx = int(math.floor((k + 0.5) * espacio))\n",
    "            idx = max(0, min(num_tramos - 1, idx))\n",
    "            indices.add(idx)\n",
    "\n",
    "    # Generación de porcentaje bloqueado\n",
    "    base = intensidad * max_porcentaje_km\n",
    "    for idx in indices:\n",
    "        delta = random.uniform(-variacion, variacion) * base\n",
    "        raw = base + delta\n",
    "        ajustado = round(raw / paso) * paso\n",
    "        # Clamp a [0, 1]\n",
    "        tramos[idx][\"bloqueado_pct\"] = min(1.0, max(0.0, ajustado))\n",
    "\n",
    "    return tramos\n"
   ]
  },
  {
   "cell_type": "code",
   "execution_count": 94,
   "id": "d50348c2",
   "metadata": {},
   "outputs": [],
   "source": [
    "actividades={\n",
    "    '101':{\n",
    "        \"error_permitido\":3,\n",
    "        \"recurrencia\":0.15,\n",
    "        \"intensidad\":0.4,\n",
    "        \"variacion\":0.5,\n",
    "        \"paso\":0.25,\n",
    "    },\n",
    "    '102':{\n",
    "        \"error_permitido\":10,\n",
    "        \"recurrencia\":0.25,\n",
    "        \"intensidad\":0.25,\n",
    "        \"variacion\":0.25,\n",
    "        \"paso\":0.5,\n",
    "    },\n",
    "    '104':{\n",
    "        \"error_permitido\":1,\n",
    "        \"recurrencia\":0.5,\n",
    "        \"intensidad\":0.2,\n",
    "        \"variacion\":0.6,\n",
    "        \"paso\":0.1,\n",
    "    },\n",
    "    '201':{\n",
    "        \"error_permitido\":25,\n",
    "        \"recurrencia\":0.6,\n",
    "        \"intensidad\":0.1,\n",
    "        \"variacion\":0.6,\n",
    "        \"paso\":1,\n",
    "    },\n",
    "    '203':{\n",
    "        \"error_permitido\":30,\n",
    "        \"recurrencia\":0.4,\n",
    "        \"intensidad\":0.25,\n",
    "        \"variacion\":0.5,\n",
    "        \"paso\":1,\n",
    "    },\n",
    "    '301':{\n",
    "        \"error_permitido\":45,\n",
    "        \"recurrencia\":0.8,\n",
    "        \"intensidad\":0.15,\n",
    "        \"variacion\":0.8,\n",
    "        \"paso\":1,\n",
    "    },\n",
    "    '401':{\n",
    "        \"error_permitido\":1,\n",
    "        \"recurrencia\":0.15,\n",
    "        \"intensidad\":1,\n",
    "        \"variacion\":0,\n",
    "        \"paso\":0.1,\n",
    "    },\n",
    "    '701':{\n",
    "        \"error_permitido\":5,\n",
    "        \"recurrencia\":0.25,\n",
    "        \"intensidad\":0.25,\n",
    "        \"variacion\":0.4,\n",
    "        \"paso\":0.25,\n",
    "    },\n",
    "}"
   ]
  },
  {
   "cell_type": "code",
   "execution_count": 129,
   "id": "27254c10",
   "metadata": {},
   "outputs": [],
   "source": [
    "actividad_en_curso = '701'  # Por ejemplo, la actividad 101"
   ]
  },
  {
   "cell_type": "code",
   "execution_count": 130,
   "id": "ad4acf41",
   "metadata": {},
   "outputs": [],
   "source": [
    "error= actividades[actividad_en_curso][\"error_permitido\"]\n",
    "recurrencia = actividades[actividad_en_curso][\"recurrencia\"]\n",
    "intensidad = actividades[actividad_en_curso][\"intensidad\"]\n",
    "variacion = actividades[actividad_en_curso][\"variacion\"]\n",
    "paso = actividades[actividad_en_curso][\"paso\"]"
   ]
  },
  {
   "cell_type": "code",
   "execution_count": 131,
   "id": "c2a60499",
   "metadata": {},
   "outputs": [],
   "source": [
    "datos_unidades = generar_datos_errores_unidades(\n",
    "    longitud=6600.0,\n",
    "    error_permitido=error,\n",
    "    recurrencia=recurrencia,\n",
    "    intensidad=intensidad,\n",
    "    variacion=variacion,\n",
    "    paso=paso,\n",
    "    seed=23\n",
    ")\n",
    "\n",
    "# seed=42 cabanaconde\n",
    "# seed=23  callacalla\n",
    "# for d in datos_unidades:\n",
    "#     print(d)\n",
    "\n",
    "# print(datos_unidades)"
   ]
  },
  {
   "cell_type": "markdown",
   "id": "b692a6fa",
   "metadata": {},
   "source": [
    "### Texto para pegar en excel"
   ]
  },
  {
   "cell_type": "code",
   "execution_count": 132,
   "id": "f04bf4a7",
   "metadata": {},
   "outputs": [
    {
     "data": {
      "text/html": [
       "<textarea rows=3 cols=100>0.0\t1.75\t0.0\t0.0\t0.0\t1.75\t0.0</textarea>"
      ],
      "text/plain": [
       "<IPython.core.display.HTML object>"
      ]
     },
     "metadata": {},
     "output_type": "display_data"
    }
   ],
   "source": [
    "texto_para_excel = '\\t'.join(str(round(item['error'], 2)) for item in datos_unidades)\n",
    "\n",
    "# Mostrar sin print para facilitar copiar\n",
    "from IPython.display import display, HTML\n",
    "display(HTML(f\"<textarea rows=3 cols=100>{texto_para_excel}</textarea>\"))"
   ]
  },
  {
   "cell_type": "markdown",
   "id": "bef127b5",
   "metadata": {},
   "source": [
    "## Cálculos"
   ]
  },
  {
   "cell_type": "code",
   "execution_count": null,
   "id": "b8341738",
   "metadata": {},
   "outputs": [
    {
     "name": "stdout",
     "output_type": "stream",
     "text": [
      "2025-04-15 → 2025-04-30\n",
      "2025-05-01 → 2025-05-31\n",
      "2025-06-01 → 2025-06-13\n"
     ]
    }
   ],
   "source": [
    "inicio = date(2025, 4, 15)\n",
    "dur = 60\n",
    "for tramo in distribuir_plazos(inicio, dur):\n",
    "    d = tramo[\"desde\"][\"date\"]\n",
    "    h = tramo[\"hasta\"][\"date\"]\n",
    "    print(f\"{d} → {h}\")"
   ]
  },
  {
   "cell_type": "code",
   "execution_count": null,
   "id": "f09f7c1b",
   "metadata": {},
   "outputs": [
    {
     "name": "stdout",
     "output_type": "stream",
     "text": [
      "{'tramo': 1, 'inicio_m': 0.0, 'fin_m': 1000.0, 'longitud_m': 1000.0, 'error': 0.0}\n",
      "{'tramo': 2, 'inicio_m': 1000.0, 'fin_m': 2000.0, 'longitud_m': 1000.0, 'error': 0.0}\n",
      "{'tramo': 3, 'inicio_m': 2000.0, 'fin_m': 3000.0, 'longitud_m': 1000.0, 'error': 0.0}\n",
      "{'tramo': 4, 'inicio_m': 3000.0, 'fin_m': 4000.0, 'longitud_m': 1000.0, 'error': 0.0}\n",
      "{'tramo': 5, 'inicio_m': 4000.0, 'fin_m': 5000.0, 'longitud_m': 1000.0, 'error': 0.0}\n",
      "{'tramo': 6, 'inicio_m': 5000.0, 'fin_m': 6000.0, 'longitud_m': 1000.0, 'error': 0.0}\n",
      "{'tramo': 7, 'inicio_m': 6000.0, 'fin_m': 7000.0, 'longitud_m': 1000.0, 'error': 1.5}\n",
      "{'tramo': 8, 'inicio_m': 7000.0, 'fin_m': 8000.0, 'longitud_m': 1000.0, 'error': 0.0}\n",
      "{'tramo': 9, 'inicio_m': 8000.0, 'fin_m': 9000.0, 'longitud_m': 1000.0, 'error': 0.0}\n",
      "{'tramo': 10, 'inicio_m': 9000.0, 'fin_m': 10000.0, 'longitud_m': 1000.0, 'error': 0.0}\n",
      "{'tramo': 11, 'inicio_m': 10000.0, 'fin_m': 11000.0, 'longitud_m': 1000.0, 'error': 0.0}\n",
      "{'tramo': 12, 'inicio_m': 11000.0, 'fin_m': 12000.0, 'longitud_m': 1000.0, 'error': 0.0}\n",
      "{'tramo': 13, 'inicio_m': 12000.0, 'fin_m': 13000.0, 'longitud_m': 1000.0, 'error': 0.0}\n"
     ]
    }
   ],
   "source": [
    "datos_unidades = generar_datos_errores_unidades(\n",
    "    longitud=longitud,\n",
    "    error_permitido=3,\n",
    "    recurrencia=0.1,\n",
    "    intensidad=0.5,\n",
    "    variacion=0.2,\n",
    "    paso=0.25,\n",
    "    seed=42\n",
    ")\n",
    "for d in datos_unidades:\n",
    "    print(d)"
   ]
  },
  {
   "cell_type": "markdown",
   "id": "711f5753",
   "metadata": {},
   "source": [
    "## Escribiendo el excel"
   ]
  },
  {
   "cell_type": "markdown",
   "id": "6895955d",
   "metadata": {},
   "source": [
    "### Path"
   ]
  },
  {
   "cell_type": "code",
   "execution_count": null,
   "id": "648492a3",
   "metadata": {},
   "outputs": [],
   "source": [
    "# Ruta dinámica\n",
    "ruta_directorio = os.path.join(\"output\", proyecto, str(mes))\n",
    "ruta_archivo = os.path.join(ruta_directorio, \"anexo5.xlsx\")\n",
    "# Crear carpetas si no existen\n",
    "os.makedirs(ruta_directorio, exist_ok=True)\n",
    "\n",
    "wb = xlsxwriter.Workbook(ruta_archivo)\n",
    "ws=wb.add_worksheet(\"anexo5\")"
   ]
  },
  {
   "cell_type": "markdown",
   "id": "1a8becd5",
   "metadata": {},
   "source": [
    "### Formatos"
   ]
  },
  {
   "cell_type": "code",
   "execution_count": null,
   "id": "cf7738af",
   "metadata": {},
   "outputs": [],
   "source": [
    "# 1. Propiedades base\n",
    "BASE_CELL = {\n",
    "    \"valign\": \"vcenter\",\n",
    "    \"border\": 1,\n",
    "}\n",
    "\n",
    "BASE_HEADER = {\n",
    "    **BASE_CELL,\n",
    "    \"bold\": True,\n",
    "}\n",
    "\n",
    "BG_HEADER = \"#D9E1F2\"\n",
    "BG_TABLE = \"#C5D9F1\"\n",
    "\n",
    "\n",
    "# 2. Función de helper para crear formatos\n",
    "def fmt(wb, **props):\n",
    "    cfg = {}\n",
    "    # parte genérica\n",
    "    cfg.update(props)\n",
    "    return wb.add_format(cfg)\n",
    "\n",
    "\n",
    "# 3. Diccionario de formatos\n",
    "formats = {\n",
    "    # encabezados\n",
    "    \"header\": {\"align\": \"center\", \"bg_color\": BG_HEADER, **BASE_HEADER},\n",
    "    \"header2\": {\"align\": \"left\", **BASE_HEADER},\n",
    "    \"header_label\": {\"align\": \"center\", **BASE_HEADER},\n",
    "    # formato vertical header\n",
    "    \"header_vertical\": {\n",
    "        **BASE_HEADER,\n",
    "        \"bold\": True,\n",
    "        \"align\": \"center\",\n",
    "        \"valign\": \"vcenter\",\n",
    "        \"bg_color\": BG_HEADER,\n",
    "        \"rotation\": 90,  # <— ¡aquí está el giro!\n",
    "    },\n",
    "    # encabezados de tabla\n",
    "    \"table_header\": {\n",
    "        \"align\": \"center\",\n",
    "        \"text_wrap\": True,\n",
    "        \"shrink\": True,\n",
    "        \"bg_color\": BG_TABLE,\n",
    "        **BASE_CELL,\n",
    "    },\n",
    "    \"table_header_int\": {\"align\": \"center\", \"bg_color\": BG_TABLE, **BASE_CELL},\n",
    "    # celdas numéricas y de texto\n",
    "    \"cell\": {\"font_size\": 8, \"num_format\": \"#,##0.00\", **BASE_CELL},\n",
    "    # \"cell\": {\"font_size\": 8, \"num_format\": \"#,##0.00\", **BASE_CELL},\n",
    "    \"cell_int\": {\"num_format\": \"#,##0\", **BASE_CELL},\n",
    "    \"cell_number\": {\"num_format\": \"#,##0.00\", **BASE_CELL},\n",
    "    \"cell_number_percent\": {\n",
    "        \"num_format\": \"#,##0.00%\",\n",
    "        \"align\": \"right\",\n",
    "        **BASE_CELL,\n",
    "    },\n",
    "    \"cell_text\": {\"align\": \"left\", \"text_wrap\": True, \"shrink\": True, **BASE_CELL},\n",
    "    \"cell_right\": {\"align\": \"right\", **BASE_CELL},\n",
    "    # sumas\n",
    "    \"suma\": {\"num_format\": \"#,##0.00\", **BASE_CELL},\n",
    "    # soles\n",
    "    \"soles_color\": {\n",
    "        \"bold\": True,\n",
    "        \"bg_color\": BG_HEADER,\n",
    "        \"num_format\": '\"S/.\" #,##0.00',\n",
    "        **BASE_CELL,\n",
    "    },\n",
    "    \"soles\": {\"num_format\": '\"S/.\" #,##0.00', **BASE_CELL},\n",
    "    # formato de ajuste general\n",
    "    \"ajustar\": {\"align\": \"center\", \"text_wrap\": True, \"shrink\": True, **BASE_CELL},\n",
    "    \"only_border\": {\n",
    "        \"border\": 1,\n",
    "    },\n",
    "}\n",
    "\n",
    "# 4. Creación dinámica de los objetos Format\n",
    "wb_formats = {name: fmt(wb, **props) for name, props in formats.items()}\n",
    "\n",
    "# Ahora sólo usa wb_formats[\"header\"], wb_formats[\"cell_text\"], etc."
   ]
  },
  {
   "cell_type": "markdown",
   "id": "8cce61ef",
   "metadata": {},
   "source": [
    "### Punto de inserción"
   ]
  },
  {
   "cell_type": "code",
   "execution_count": null,
   "id": "5436a1ac",
   "metadata": {},
   "outputs": [],
   "source": [
    "# Punto de inserción (cero-indexed)\n",
    "table_start_row = 6   # si quieres que empiece en la fila 7\n",
    "table_start_col = 1   # si quieres que empiece en la columna B"
   ]
  },
  {
   "cell_type": "markdown",
   "id": "84e89d10",
   "metadata": {},
   "source": [
    "### Funciones de escritura de excel"
   ]
  },
  {
   "cell_type": "code",
   "execution_count": null,
   "id": "fe433e1b",
   "metadata": {},
   "outputs": [],
   "source": [
    "def merge(ws, r1, c1, r2, c2, valor, fmt):\n",
    "    \"\"\"Merge relative a table_start_* + offsets.\"\"\"\n",
    "    ws.merge_range(\n",
    "        xl_range(table_start_row + r1,\n",
    "                 table_start_col + c1,\n",
    "                 table_start_row + r2,\n",
    "                 table_start_col + c2),\n",
    "        valor, fmt\n",
    "    )"
   ]
  },
  {
   "cell_type": "code",
   "execution_count": null,
   "id": "33fdf8c1",
   "metadata": {},
   "outputs": [],
   "source": [
    "def write_rel(ws, row_offset, col_offset, value, fmt=None):\n",
    "    \"\"\"\n",
    "    Escribe en la celda (table_start_row + row_offset, table_start_col + col_offset)\n",
    "    \"\"\"\n",
    "    abs_row = table_start_row + row_offset\n",
    "    abs_col = table_start_col + col_offset\n",
    "    ws.write(abs_row, abs_col, value, fmt)"
   ]
  },
  {
   "cell_type": "code",
   "execution_count": null,
   "id": "6b08bd40",
   "metadata": {},
   "outputs": [],
   "source": [
    "# 2. Helpers con tuplas (x, y)\n",
    "\n",
    "def merge_xy(ws, start: tuple[int,int], end: tuple[int,int], value, fmt):\n",
    "    \"\"\"\n",
    "    Merge de celdas desde start=(x1, y1) hasta end=(x2, y2),\n",
    "    relativas a table_start_col/row.\n",
    "    \"\"\"\n",
    "    (x1, y1), (x2, y2) = start, end\n",
    "    ws.merge_range(\n",
    "        xl_range(\n",
    "            table_start_row + y1,  # row1 absoluto\n",
    "            table_start_col + x1,  # col1 absoluto\n",
    "            table_start_row + y2,  # row2 absoluto\n",
    "            table_start_col + x2,  # col2 absoluto\n",
    "        ),\n",
    "        value, fmt\n",
    "    )\n",
    "\n",
    "def write_xy(ws, pos: tuple[int,int], value, fmt=None):\n",
    "    \"\"\"\n",
    "    Escribe un valor en pos=(x, y) relativa a table_start_col/row.\n",
    "    \"\"\"\n",
    "    x, y = pos\n",
    "    ws.write(\n",
    "        table_start_row + y,\n",
    "        table_start_col + x,\n",
    "        value, fmt\n",
    "    )"
   ]
  },
  {
   "cell_type": "code",
   "execution_count": null,
   "id": "bc5b42fb",
   "metadata": {},
   "outputs": [],
   "source": [
    "def set_columns_rel(ws, rel_col_widths):\n",
    "    \"\"\"\n",
    "    Aplica ws.set_column a rangos de columnas definidos\n",
    "    en coordenadas relativas (x) a table_start_col.\n",
    "    rel_col_widths: lista de tuplas (first_rel, last_rel, width)\n",
    "    \"\"\"\n",
    "    for first_rel, last_rel, width in rel_col_widths:\n",
    "        abs_first = table_start_col + first_rel\n",
    "        abs_last  = table_start_col + last_rel\n",
    "        ws.set_column(abs_first, abs_last, width)"
   ]
  },
  {
   "cell_type": "code",
   "execution_count": null,
   "id": "954b5ad0",
   "metadata": {},
   "outputs": [],
   "source": [
    "col_widths_rel = [\n",
    "    (0, 0, 8),  # columna B en adelante:  B–B ancho=8\n",
    "    (1, 1, 12),  # C–C ancho=30\n",
    "    (2, 2, 30),  # D–H ancho=8\n",
    "    (3, 3, 12),  # I–T ancho=8\n",
    "    (4, 4, 10),  # U–U ancho=10\n",
    "    (5, 5, 10),  # U–U ancho=10\n",
    "    (6, 6, 14),  # U–U ancho=10\n",
    "    (7, 7, 14),\n",
    "]\n",
    "\n",
    "set_columns_rel(ws, col_widths_rel)"
   ]
  },
  {
   "cell_type": "markdown",
   "id": "987fa18c",
   "metadata": {},
   "source": [
    "### Titulos"
   ]
  },
  {
   "cell_type": "code",
   "execution_count": null,
   "id": "073830b1",
   "metadata": {},
   "outputs": [],
   "source": [
    "merge_xy(ws, (0, 0), (0, 1), \"N.º\", wb_formats[\"header\"])"
   ]
  }
 ],
 "metadata": {
  "kernelspec": {
   "display_name": ".venv",
   "language": "python",
   "name": "python3"
  },
  "language_info": {
   "codemirror_mode": {
    "name": "ipython",
    "version": 3
   },
   "file_extension": ".py",
   "mimetype": "text/x-python",
   "name": "python",
   "nbconvert_exporter": "python",
   "pygments_lexer": "ipython3",
   "version": "3.12.4"
  }
 },
 "nbformat": 4,
 "nbformat_minor": 5
}
